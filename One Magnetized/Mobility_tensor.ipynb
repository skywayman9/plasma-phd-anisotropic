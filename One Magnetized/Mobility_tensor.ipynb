{
 "cells": [
  {
   "cell_type": "code",
   "execution_count": 66,
   "metadata": {},
   "outputs": [],
   "source": [
    "from sympy import *\n",
    "init_printing()"
   ]
  },
  {
   "cell_type": "markdown",
   "metadata": {},
   "source": []
  },
  {
   "cell_type": "markdown",
   "metadata": {},
   "source": [
    "# Formulation-II\n",
    "\n",
    "We can represent this matrix symbolically in SymPy and explore its eigensystem."
   ]
  },
  {
   "cell_type": "code",
   "execution_count": 67,
   "metadata": {},
   "outputs": [
    {
     "data": {
      "image/png": "[encoded data removed]",
      "text/latex": [
       "$$\\left[\\begin{matrix}0 & -1 & 0\\\\- \\frac{D_{xx}}{T_{r}} & 0 & 0\\\\- \\frac{D_{xy}}{T_{r}} & 0 & 0\\end{matrix}\\right]$$"
      ],
      "text/plain": [
       "⎡   0      -1  0⎤\n",
       "⎢               ⎥\n",
       "⎢-D_{xx}        ⎥\n",
       "⎢────────  0   0⎥\n",
       "⎢   Tᵣ          ⎥\n",
       "⎢               ⎥\n",
       "⎢-D_{xy}        ⎥\n",
       "⎢────────  0   0⎥\n",
       "⎣   Tᵣ          ⎦"
      ]
     },
     "execution_count": 67,
     "metadata": {},
     "output_type": "execute_result"
    }
   ],
   "source": [
    "from sympy.abc import rho, beta, nu\n",
    "\n",
    "a, nu_xx,nu_xy,nu_yx,nu_yy, b= symbols('a D_{xx} D_{xy} D_{yx} D_{yy} b')\n",
    "\n",
    "n_x, n_y, Tr = symbols('n_x n_y T_r')\n",
    "\n",
    "# Jacobian in x\n",
    "H = Matrix([[0,-1,0], [-nu_xx/Tr,0, 0], [-nu_xy/Tr, 0, 0]])\n",
    "# Jacobian in y\n",
    "# H = Matrix([[0,0,-1], [-nu_xy/Tr,0, 0], [-nu_yy/Tr, 0, 0]])\n",
    "H"
   ]
  },
  {
   "cell_type": "markdown",
   "metadata": {},
   "source": [
    "The eigenvalues are the speeds at which information propagates with.  SymPy returns them as a\n",
    "dictionary, giving the multiplicity for each eigenvalue."
   ]
  },
  {
   "cell_type": "code",
   "execution_count": 68,
   "metadata": {},
   "outputs": [
    {
     "data": {
      "image/png": "[encoded data removed]",
      "text/latex": [
       "$$\\left \\{ 0 : 1, \\quad - \\sqrt{\\frac{D_{xx}}{T_{r}}} : 1, \\quad \\sqrt{\\frac{D_{xx}}{T_{r}}} : 1\\right \\}$$"
      ],
      "text/plain": [
       "⎧           ________         ________   ⎫\n",
       "⎪          ╱ D_{xx}         ╱ D_{xx}    ⎪\n",
       "⎨0: 1, -  ╱  ────── : 1,   ╱  ────── : 1⎬\n",
       "⎪       ╲╱     Tᵣ        ╲╱     Tᵣ      ⎪\n",
       "⎩                                       ⎭"
      ]
     },
     "execution_count": 68,
     "metadata": {},
     "output_type": "execute_result"
    }
   ],
   "source": [
    "lamb = H.eigenvals()\n",
    "simplify(lamb)\n",
    "\n",
    "# J = lamb * numpy.identity(3)"
   ]
  },
  {
   "cell_type": "code",
   "execution_count": 69,
   "metadata": {},
   "outputs": [
    {
     "data": {
      "image/png": "[encoded data removed]",
      "text/latex": [
       "$$\\left[\\begin{matrix}- \\sqrt{\\frac{D_{xx}}{T_{r}}} & 0 & 0\\\\0 & 0 & 0\\\\0 & 0 & \\sqrt{\\frac{D_{xx}}{T_{r}}}\\end{matrix}\\right]$$"
      ],
      "text/plain": [
       "⎡     ________                 ⎤\n",
       "⎢    ╱ D_{xx}                  ⎥\n",
       "⎢-  ╱  ──────   0       0      ⎥\n",
       "⎢ ╲╱     Tᵣ                    ⎥\n",
       "⎢                              ⎥\n",
       "⎢      0        0       0      ⎥\n",
       "⎢                              ⎥\n",
       "⎢                      ________⎥\n",
       "⎢                     ╱ D_{xx} ⎥\n",
       "⎢      0        0    ╱  ────── ⎥\n",
       "⎣                  ╲╱     Tᵣ   ⎦"
      ]
     },
     "execution_count": 69,
     "metadata": {},
     "output_type": "execute_result"
    }
   ],
   "source": [
    "# mod=Matrix([[-sqrt(nu_xx), 0, 0], [0, 0, 0], [0, 0, sqrt(nu_xx)]])\n",
    "# mod=Matrix([[-sqrt(nu_yy), 0, 0], [0, 0, 0], [0, 0, sqrt(nu_yy)]])\n",
    "# mod\n",
    "ND = Matrix([[-sqrt(nu_xx/Tr), 0, 0], [0, 0, 0], [0, 0, sqrt(nu_xx/Tr)]])\n",
    "# ND = Matrix([[- sqrt(nu_yy/Tr), 0, 0], [0, 0, 0], [0, 0, sqrt(nu_yy/Tr)]])\n",
    "\n",
    "simplify(ND)"
   ]
  },
  {
   "cell_type": "code",
   "execution_count": 70,
   "metadata": {},
   "outputs": [],
   "source": [
    "# B.eigenvals()"
   ]
  },
  {
   "cell_type": "markdown",
   "metadata": {},
   "source": [
    "The right eigenvectors are what SymPy gives natively.  For a given eigenvalue, $\\lambda$, these \n",
    "satisfy:\n",
    "    \n",
    "$$A r = \\lambda r$$"
   ]
  },
  {
   "cell_type": "markdown",
   "metadata": {},
   "source": [
    "## Right Eigenvectors"
   ]
  },
  {
   "cell_type": "code",
   "execution_count": 71,
   "metadata": {},
   "outputs": [],
   "source": [
    "R = H.eigenvects()   # this returns a tuple for each eigenvector with multiplicity -- unpack it\n",
    "r = []\n",
    "lam = []\n",
    "for (ev, _, rtmp) in R:\n",
    "    r.append(rtmp[0])\n",
    "    lam.append(ev)\n",
    "    \n",
    "# # we can normalize them anyway we want, so let's make the first entry 1\n",
    "# for n in range(len(r)):\n",
    "#     v = r[n]\n",
    "#     r[n] = v/v[0]"
   ]
  },
  {
   "cell_type": "markdown",
   "metadata": {},
   "source": [
    "### 0-th right eigenvector "
   ]
  },
  {
   "cell_type": "code",
   "execution_count": 72,
   "metadata": {},
   "outputs": [
    {
     "data": {
      "image/png": "[encoded data removed]",
      "text/latex": [
       "$$\\left[\\begin{matrix}0\\\\0\\\\1\\end{matrix}\\right]$$"
      ],
      "text/plain": [
       "⎡0⎤\n",
       "⎢ ⎥\n",
       "⎢0⎥\n",
       "⎢ ⎥\n",
       "⎣1⎦"
      ]
     },
     "execution_count": 72,
     "metadata": {},
     "output_type": "execute_result"
    }
   ],
   "source": [
    "simplify(r[0])"
   ]
  },
  {
   "cell_type": "markdown",
   "metadata": {},
   "source": [
    "this corresponds to the eigenvalue"
   ]
  },
  {
   "cell_type": "code",
   "execution_count": 73,
   "metadata": {},
   "outputs": [
    {
     "data": {
      "image/png": "[encoded data removed]",
      "text/latex": [
       "$$0$$"
      ],
      "text/plain": [
       "0"
      ]
     },
     "execution_count": 73,
     "metadata": {},
     "output_type": "execute_result"
    }
   ],
   "source": [
    "lam[0]"
   ]
  },
  {
   "cell_type": "markdown",
   "metadata": {},
   "source": [
    "### 1-st right eigenvector"
   ]
  },
  {
   "cell_type": "code",
   "execution_count": 74,
   "metadata": {},
   "outputs": [
    {
     "data": {
      "image/png": "[encoded data removed]",
      "text/latex": [
       "$$\\left[\\begin{matrix}\\frac{D_{xx}}{D_{xy} \\sqrt{\\frac{D_{xx}}{T_{r}}}}\\\\\\frac{D_{xx}}{D_{xy}}\\\\1\\end{matrix}\\right]$$"
      ],
      "text/plain": [
       "⎡       D_{xx}      ⎤\n",
       "⎢───────────────────⎥\n",
       "⎢           ________⎥\n",
       "⎢          ╱ D_{xx} ⎥\n",
       "⎢D_{xy}⋅  ╱  ────── ⎥\n",
       "⎢       ╲╱     Tᵣ   ⎥\n",
       "⎢                   ⎥\n",
       "⎢      D_{xx}       ⎥\n",
       "⎢      ──────       ⎥\n",
       "⎢      D_{xy}       ⎥\n",
       "⎢                   ⎥\n",
       "⎣         1         ⎦"
      ]
     },
     "execution_count": 74,
     "metadata": {},
     "output_type": "execute_result"
    }
   ],
   "source": [
    "simplify(r[1])"
   ]
  },
  {
   "cell_type": "markdown",
   "metadata": {},
   "source": [
    "this corresponds to the eigenvalue"
   ]
  },
  {
   "cell_type": "code",
   "execution_count": 75,
   "metadata": {},
   "outputs": [
    {
     "data": {
      "image/png": "[encoded data removed]",
      "text/latex": [
       "$$- \\sqrt{\\frac{D_{xx}}{T_{r}}}$$"
      ],
      "text/plain": [
       "     ________\n",
       "    ╱ D_{xx} \n",
       "-  ╱  ────── \n",
       " ╲╱     Tᵣ   "
      ]
     },
     "execution_count": 75,
     "metadata": {},
     "output_type": "execute_result"
    }
   ],
   "source": [
    "lam[1]"
   ]
  },
  {
   "cell_type": "code",
   "execution_count": 76,
   "metadata": {},
   "outputs": [
    {
     "data": {
      "image/png": "[encoded data removed]",
      "text/latex": [
       "$$\\left[\\begin{matrix}- \\frac{D_{xx}}{D_{xy} \\sqrt{\\frac{D_{xx}}{T_{r}}}}\\\\\\frac{D_{xx}}{D_{xy}}\\\\1\\end{matrix}\\right]$$"
      ],
      "text/plain": [
       "⎡      -D_{xx}      ⎤\n",
       "⎢───────────────────⎥\n",
       "⎢           ________⎥\n",
       "⎢          ╱ D_{xx} ⎥\n",
       "⎢D_{xy}⋅  ╱  ────── ⎥\n",
       "⎢       ╲╱     Tᵣ   ⎥\n",
       "⎢                   ⎥\n",
       "⎢      D_{xx}       ⎥\n",
       "⎢      ──────       ⎥\n",
       "⎢      D_{xy}       ⎥\n",
       "⎢                   ⎥\n",
       "⎣         1         ⎦"
      ]
     },
     "execution_count": 76,
     "metadata": {},
     "output_type": "execute_result"
    }
   ],
   "source": [
    "simplify(r[2])"
   ]
  },
  {
   "cell_type": "code",
   "execution_count": 77,
   "metadata": {},
   "outputs": [
    {
     "data": {
      "image/png": "[encoded data removed]",
      "text/latex": [
       "$$\\sqrt{\\frac{D_{xx}}{T_{r}}}$$"
      ],
      "text/plain": [
       "    ________\n",
       "   ╱ D_{xx} \n",
       "  ╱  ────── \n",
       "╲╱     Tᵣ   "
      ]
     },
     "execution_count": 77,
     "metadata": {},
     "output_type": "execute_result"
    }
   ],
   "source": [
    "lam[2]"
   ]
  },
  {
   "cell_type": "code",
   "execution_count": null,
   "metadata": {},
   "outputs": [],
   "source": []
  },
  {
   "cell_type": "markdown",
   "metadata": {},
   "source": [
    "### 2-nd right eigenvector"
   ]
  },
  {
   "cell_type": "markdown",
   "metadata": {},
   "source": [
    "this corresponds to the eigenvalue"
   ]
  },
  {
   "cell_type": "code",
   "execution_count": 78,
   "metadata": {},
   "outputs": [
    {
     "data": {
      "image/png": "[encoded data removed]",
      "text/latex": [
       "$$\\left[\\begin{matrix}0\\\\- \\sqrt{\\frac{D_{xx}}{T_{r}}}\\\\\\sqrt{\\frac{D_{xx}}{T_{r}}}\\end{matrix}\\right]$$"
      ],
      "text/plain": [
       "⎡      0      ⎤\n",
       "⎢             ⎥\n",
       "⎢     ________⎥\n",
       "⎢    ╱ D_{xx} ⎥\n",
       "⎢-  ╱  ────── ⎥\n",
       "⎢ ╲╱     Tᵣ   ⎥\n",
       "⎢             ⎥\n",
       "⎢    ________ ⎥\n",
       "⎢   ╱ D_{xx}  ⎥\n",
       "⎢  ╱  ──────  ⎥\n",
       "⎣╲╱     Tᵣ    ⎦"
      ]
     },
     "execution_count": 78,
     "metadata": {},
     "output_type": "execute_result"
    }
   ],
   "source": [
    "lambd = Matrix (lam)\n",
    "lambd"
   ]
  },
  {
   "cell_type": "markdown",
   "metadata": {},
   "source": [
    "# Here they are as a matrix, $R$, in order from smallest to largest eigenvalue"
   ]
  },
  {
   "cell_type": "code",
   "execution_count": 79,
   "metadata": {},
   "outputs": [
    {
     "data": {
      "image/png": "[encoded data removed]",
      "text/latex": [
       "$$\\left[\\begin{matrix}\\frac{D_{xx}}{D_{xy} \\sqrt{\\frac{D_{xx}}{T_{r}}}} & 0 & - \\frac{D_{xx}}{D_{xy} \\sqrt{\\frac{D_{xx}}{T_{r}}}}\\\\\\frac{D_{xx}}{D_{xy}} & 0 & \\frac{D_{xx}}{D_{xy}}\\\\1 & 1 & 1\\end{matrix}\\right]$$"
      ],
      "text/plain": [
       "⎡       D_{xx}                 -D_{xx}      ⎤\n",
       "⎢───────────────────  0  ───────────────────⎥\n",
       "⎢           ________                ________⎥\n",
       "⎢          ╱ D_{xx}                ╱ D_{xx} ⎥\n",
       "⎢D_{xy}⋅  ╱  ──────      D_{xy}⋅  ╱  ────── ⎥\n",
       "⎢       ╲╱     Tᵣ               ╲╱     Tᵣ   ⎥\n",
       "⎢                                           ⎥\n",
       "⎢      D_{xx}                  D_{xx}       ⎥\n",
       "⎢      ──────         0        ──────       ⎥\n",
       "⎢      D_{xy}                  D_{xy}       ⎥\n",
       "⎢                                           ⎥\n",
       "⎣         1           1           1         ⎦"
      ]
     },
     "execution_count": 79,
     "metadata": {},
     "output_type": "execute_result"
    }
   ],
   "source": [
    "R = zeros(3,3)\n",
    "R[:,0] = r[1]\n",
    "R[:,1] = r[0]\n",
    "R[:,2] = r[2]\n",
    "simplify(simplify(R))"
   ]
  },
  {
   "cell_type": "markdown",
   "metadata": {},
   "source": [
    "## Left Eigenvectors"
   ]
  },
  {
   "cell_type": "markdown",
   "metadata": {},
   "source": [
    "The left eigenvectors satisfy:\n",
    "\n",
    "$$l A = \\lambda l$$\n",
    "\n",
    "SymPy doesn't have a method to get left eigenvectors directly, so we take the transpose of this expression:\n",
    "\n",
    "$$(l A)^\\intercal = A^\\intercal l^\\intercal = \\lambda l^\\intercal$$\n",
    "\n",
    "Therefore, the transpose of the left eigenvectors, $l^\\intercal$, are the right eigenvectors of transpose of $A$"
   ]
  },
  {
   "cell_type": "code",
   "execution_count": 80,
   "metadata": {},
   "outputs": [
    {
     "data": {
      "image/png": "[encoded data removed]",
      "text/latex": [
       "$$\\left[\\begin{matrix}0 & - \\frac{D_{xx}}{T_{r}} & - \\frac{D_{xy}}{T_{r}}\\\\-1 & 0 & 0\\\\0 & 0 & 0\\end{matrix}\\right]$$"
      ],
      "text/plain": [
       "⎡    -D_{xx}   -D_{xy} ⎤\n",
       "⎢0   ────────  ────────⎥\n",
       "⎢       Tᵣ        Tᵣ   ⎥\n",
       "⎢                      ⎥\n",
       "⎢-1     0         0    ⎥\n",
       "⎢                      ⎥\n",
       "⎣0      0         0    ⎦"
      ]
     },
     "execution_count": 80,
     "metadata": {},
     "output_type": "execute_result"
    }
   ],
   "source": [
    "C = H.transpose()\n",
    "C"
   ]
  },
  {
   "cell_type": "code",
   "execution_count": 81,
   "metadata": {},
   "outputs": [],
   "source": [
    "L = C.eigenvects()\n",
    "l = []\n",
    "laml = []\n",
    "for (ev, _, ltmp) in L:\n",
    "    l.append(ltmp[0].transpose())\n",
    "    laml.append(ev)\n",
    "    "
   ]
  },
  {
   "cell_type": "markdown",
   "metadata": {},
   "source": [
    "Traditionally, we normalize these such that $l^{(\\mu)} \\cdot r^{(\\nu)} = \\delta_{\\mu\\nu}$"
   ]
  },
  {
   "cell_type": "code",
   "execution_count": 82,
   "metadata": {},
   "outputs": [],
   "source": [
    "for n in range(len(l)):\n",
    "    if lam[n] == laml[n]:\n",
    "        ltmp = l[n]\n",
    "        p = ltmp.dot(r[n])\n",
    "        l[n] = ltmp/p"
   ]
  },
  {
   "cell_type": "markdown",
   "metadata": {},
   "source": [
    "### 0-th left eigenvector"
   ]
  },
  {
   "cell_type": "code",
   "execution_count": 83,
   "metadata": {},
   "outputs": [
    {
     "data": {
      "image/png": "[encoded data removed]",
      "text/latex": [
       "$$\\left[\\begin{matrix}0 & - \\frac{D_{xy}}{D_{xx}} & 1\\end{matrix}\\right]$$"
      ],
      "text/plain": [
       "⎡   -D_{xy}    ⎤\n",
       "⎢0  ────────  1⎥\n",
       "⎣    D_{xx}    ⎦"
      ]
     },
     "execution_count": 83,
     "metadata": {},
     "output_type": "execute_result"
    }
   ],
   "source": [
    "simplify(l[0])"
   ]
  },
  {
   "cell_type": "markdown",
   "metadata": {},
   "source": [
    "### 1-st left eigenvector"
   ]
  },
  {
   "cell_type": "code",
   "execution_count": 84,
   "metadata": {},
   "outputs": [
    {
     "data": {
      "image/png": "[encoded data removed]",
      "text/latex": [
       "$$\\left[\\begin{matrix}\\frac{D_{xy} \\sqrt{\\frac{D_{xx}}{T_{r}}}}{2 D_{xx}} & \\frac{D_{xy}}{2 D_{xx}} & 0\\end{matrix}\\right]$$"
      ],
      "text/plain": [
       "⎡           ________             ⎤\n",
       "⎢          ╱ D_{xx}              ⎥\n",
       "⎢D_{xy}⋅  ╱  ──────              ⎥\n",
       "⎢       ╲╱     Tᵣ      D_{xy}    ⎥\n",
       "⎢───────────────────  ────────  0⎥\n",
       "⎣      2⋅D_{xx}       2⋅D_{xx}   ⎦"
      ]
     },
     "execution_count": 84,
     "metadata": {},
     "output_type": "execute_result"
    }
   ],
   "source": [
    "simplify(l[1])"
   ]
  },
  {
   "cell_type": "code",
   "execution_count": 85,
   "metadata": {},
   "outputs": [
    {
     "data": {
      "image/png": "[encoded data removed]",
      "text/latex": [
       "$$\\left[\\begin{matrix}- \\frac{D_{xy} \\sqrt{\\frac{D_{xx}}{T_{r}}}}{2 D_{xx}} & \\frac{D_{xy}}{2 D_{xx}} & 0\\end{matrix}\\right]$$"
      ],
      "text/plain": [
       "⎡            ________              ⎤\n",
       "⎢           ╱ D_{xx}               ⎥\n",
       "⎢-D_{xy}⋅  ╱  ──────               ⎥\n",
       "⎢        ╲╱     Tᵣ       D_{xy}    ⎥\n",
       "⎢─────────────────────  ────────  0⎥\n",
       "⎣       2⋅D_{xx}        2⋅D_{xx}   ⎦"
      ]
     },
     "execution_count": 85,
     "metadata": {},
     "output_type": "execute_result"
    }
   ],
   "source": [
    "simplify(l[2])"
   ]
  },
  {
   "cell_type": "markdown",
   "metadata": {},
   "source": [
    "### 2-nd left eigenvector"
   ]
  },
  {
   "cell_type": "code",
   "execution_count": 86,
   "metadata": {},
   "outputs": [
    {
     "data": {
      "image/png": "[encoded data removed]",
      "text/latex": [
       "$$\\left[\\begin{matrix}\\frac{D_{xy} \\sqrt{\\frac{D_{xx}}{T_{r}}}}{2 D_{xx}} & \\frac{D_{xy}}{2 D_{xx}} & 0\\\\0 & - \\frac{D_{xy}}{D_{xx}} & 1\\\\- \\frac{D_{xy} \\sqrt{\\frac{D_{xx}}{T_{r}}}}{2 D_{xx}} & \\frac{D_{xy}}{2 D_{xx}} & 0\\end{matrix}\\right]$$"
      ],
      "text/plain": [
       "⎡            ________              ⎤\n",
       "⎢           ╱ D_{xx}               ⎥\n",
       "⎢ D_{xy}⋅  ╱  ──────               ⎥\n",
       "⎢        ╲╱     Tᵣ       D_{xy}    ⎥\n",
       "⎢ ───────────────────   ────────  0⎥\n",
       "⎢       2⋅D_{xx}        2⋅D_{xx}   ⎥\n",
       "⎢                                  ⎥\n",
       "⎢                       -D_{xy}    ⎥\n",
       "⎢          0            ────────  1⎥\n",
       "⎢                        D_{xx}    ⎥\n",
       "⎢                                  ⎥\n",
       "⎢            ________              ⎥\n",
       "⎢           ╱ D_{xx}               ⎥\n",
       "⎢-D_{xy}⋅  ╱  ──────               ⎥\n",
       "⎢        ╲╱     Tᵣ       D_{xy}    ⎥\n",
       "⎢─────────────────────  ────────  0⎥\n",
       "⎣       2⋅D_{xx}        2⋅D_{xx}   ⎦"
      ]
     },
     "execution_count": 86,
     "metadata": {},
     "output_type": "execute_result"
    }
   ],
   "source": [
    "L = zeros(3,3)\n",
    "L[0,:] = l[1]\n",
    "L[1,:] = l[0]\n",
    "L[2,:] = l[2]\n",
    "simplify(L)"
   ]
  },
  {
   "cell_type": "code",
   "execution_count": 87,
   "metadata": {},
   "outputs": [
    {
     "data": {
      "image/png": "[encoded data removed]",
      "text/latex": [
       "$$\\left[\\begin{matrix}\\frac{D_{xy} \\sqrt{\\frac{D_{xx}}{T_{r}}}}{2 D_{xx}} & \\frac{D_{xy}}{2 D_{xx}} & 0\\\\0 & - \\frac{D_{xy}}{D_{xx}} & 1\\\\- \\frac{D_{xy} \\sqrt{\\frac{D_{xx}}{T_{r}}}}{2 D_{xx}} & \\frac{D_{xy}}{2 D_{xx}} & 0\\end{matrix}\\right]$$"
      ],
      "text/plain": [
       "⎡            ________              ⎤\n",
       "⎢           ╱ D_{xx}               ⎥\n",
       "⎢ D_{xy}⋅  ╱  ──────               ⎥\n",
       "⎢        ╲╱     Tᵣ       D_{xy}    ⎥\n",
       "⎢ ───────────────────   ────────  0⎥\n",
       "⎢       2⋅D_{xx}        2⋅D_{xx}   ⎥\n",
       "⎢                                  ⎥\n",
       "⎢                       -D_{xy}    ⎥\n",
       "⎢          0            ────────  1⎥\n",
       "⎢                        D_{xx}    ⎥\n",
       "⎢                                  ⎥\n",
       "⎢            ________              ⎥\n",
       "⎢           ╱ D_{xx}               ⎥\n",
       "⎢-D_{xy}⋅  ╱  ──────               ⎥\n",
       "⎢        ╲╱     Tᵣ       D_{xy}    ⎥\n",
       "⎢─────────────────────  ────────  0⎥\n",
       "⎣       2⋅D_{xx}        2⋅D_{xx}   ⎦"
      ]
     },
     "execution_count": 87,
     "metadata": {},
     "output_type": "execute_result"
    }
   ],
   "source": [
    "simplify(R**-1)"
   ]
  },
  {
   "cell_type": "code",
   "execution_count": 88,
   "metadata": {},
   "outputs": [
    {
     "data": {
      "image/png": "[encoded data removed]",
      "text/latex": [
       "$$\\left[\\begin{matrix}\\frac{D_{xy} \\sqrt{\\frac{D_{xx}}{T_{r}}}}{2 D_{xx}} & \\frac{D_{xy}}{2 D_{xx}} & 0\\\\0 & - \\frac{D_{xy}}{D_{xx}} & 1\\\\- \\frac{D_{xy} \\sqrt{\\frac{D_{xx}}{T_{r}}}}{2 D_{xx}} & \\frac{D_{xy}}{2 D_{xx}} & 0\\end{matrix}\\right]$$"
      ],
      "text/plain": [
       "⎡            ________              ⎤\n",
       "⎢           ╱ D_{xx}               ⎥\n",
       "⎢ D_{xy}⋅  ╱  ──────               ⎥\n",
       "⎢        ╲╱     Tᵣ       D_{xy}    ⎥\n",
       "⎢ ───────────────────   ────────  0⎥\n",
       "⎢       2⋅D_{xx}        2⋅D_{xx}   ⎥\n",
       "⎢                                  ⎥\n",
       "⎢                       -D_{xy}    ⎥\n",
       "⎢          0            ────────  1⎥\n",
       "⎢                        D_{xx}    ⎥\n",
       "⎢                                  ⎥\n",
       "⎢            ________              ⎥\n",
       "⎢           ╱ D_{xx}               ⎥\n",
       "⎢-D_{xy}⋅  ╱  ──────               ⎥\n",
       "⎢        ╲╱     Tᵣ       D_{xy}    ⎥\n",
       "⎢─────────────────────  ────────  0⎥\n",
       "⎣       2⋅D_{xx}        2⋅D_{xx}   ⎦"
      ]
     },
     "execution_count": 88,
     "metadata": {},
     "output_type": "execute_result"
    }
   ],
   "source": [
    "simplify(L)"
   ]
  },
  {
   "cell_type": "markdown",
   "metadata": {},
   "source": [
    "# The Jacobian Matrix"
   ]
  },
  {
   "cell_type": "markdown",
   "metadata": {},
   "source": [
    "# Verification of the procedure "
   ]
  },
  {
   "cell_type": "code",
   "execution_count": 89,
   "metadata": {},
   "outputs": [
    {
     "data": {
      "image/png": "[encoded data removed]",
      "text/latex": [
       "$$\\left[\\begin{matrix}0 & -1 & 0\\\\- \\frac{D_{xx}}{T_{r}} & 0 & 0\\\\- \\frac{D_{xy}}{T_{r}} & 0 & 0\\end{matrix}\\right]$$"
      ],
      "text/plain": [
       "⎡   0      -1  0⎤\n",
       "⎢               ⎥\n",
       "⎢-D_{xx}        ⎥\n",
       "⎢────────  0   0⎥\n",
       "⎢   Tᵣ          ⎥\n",
       "⎢               ⎥\n",
       "⎢-D_{xy}        ⎥\n",
       "⎢────────  0   0⎥\n",
       "⎣   Tᵣ          ⎦"
      ]
     },
     "execution_count": 89,
     "metadata": {},
     "output_type": "execute_result"
    }
   ],
   "source": [
    "simplify(R*ND*R**-1)"
   ]
  },
  {
   "cell_type": "code",
   "execution_count": 90,
   "metadata": {},
   "outputs": [
    {
     "data": {
      "image/png": "[encoded data removed]",
      "text/latex": [
       "$$\\left[\\begin{matrix}0 & -1 & 0\\\\- \\frac{D_{xx}}{T_{r}} & 0 & 0\\\\- \\frac{D_{xy}}{T_{r}} & 0 & 0\\end{matrix}\\right]$$"
      ],
      "text/plain": [
       "⎡   0      -1  0⎤\n",
       "⎢               ⎥\n",
       "⎢-D_{xx}        ⎥\n",
       "⎢────────  0   0⎥\n",
       "⎢   Tᵣ          ⎥\n",
       "⎢               ⎥\n",
       "⎢-D_{xy}        ⎥\n",
       "⎢────────  0   0⎥\n",
       "⎣   Tᵣ          ⎦"
      ]
     },
     "execution_count": 90,
     "metadata": {},
     "output_type": "execute_result"
    }
   ],
   "source": [
    "simplify(R*ND*L)"
   ]
  },
  {
   "cell_type": "code",
   "execution_count": 91,
   "metadata": {},
   "outputs": [
    {
     "data": {
      "image/png": "[encoded data removed]",
      "text/latex": [
       "$$\\left[\\begin{matrix}\\frac{D_{xy} \\sqrt{\\frac{D_{xx}}{T_{r}}}}{2 D_{xx}} & \\frac{D_{xy}}{2 D_{xx}} & 0\\\\0 & - \\frac{D_{xy}}{D_{xx}} & 1\\\\- \\frac{D_{xy} \\sqrt{\\frac{D_{xx}}{T_{r}}}}{2 D_{xx}} & \\frac{D_{xy}}{2 D_{xx}} & 0\\end{matrix}\\right]$$"
      ],
      "text/plain": [
       "⎡            ________              ⎤\n",
       "⎢           ╱ D_{xx}               ⎥\n",
       "⎢ D_{xy}⋅  ╱  ──────               ⎥\n",
       "⎢        ╲╱     Tᵣ       D_{xy}    ⎥\n",
       "⎢ ───────────────────   ────────  0⎥\n",
       "⎢       2⋅D_{xx}        2⋅D_{xx}   ⎥\n",
       "⎢                                  ⎥\n",
       "⎢                       -D_{xy}    ⎥\n",
       "⎢          0            ────────  1⎥\n",
       "⎢                        D_{xx}    ⎥\n",
       "⎢                                  ⎥\n",
       "⎢            ________              ⎥\n",
       "⎢           ╱ D_{xx}               ⎥\n",
       "⎢-D_{xy}⋅  ╱  ──────               ⎥\n",
       "⎢        ╲╱     Tᵣ       D_{xy}    ⎥\n",
       "⎢─────────────────────  ────────  0⎥\n",
       "⎣       2⋅D_{xx}        2⋅D_{xx}   ⎦"
      ]
     },
     "execution_count": 91,
     "metadata": {},
     "output_type": "execute_result"
    }
   ],
   "source": [
    "simplify(R**-1)"
   ]
  },
  {
   "cell_type": "code",
   "execution_count": 92,
   "metadata": {},
   "outputs": [
    {
     "data": {
      "image/png": "[encoded data removed]",
      "text/latex": [
       "$$\\left[\\begin{matrix}\\frac{D_{xy} \\sqrt{\\frac{D_{xx}}{T_{r}}}}{2 D_{xx}} & \\frac{D_{xy}}{2 D_{xx}} & 0\\\\0 & - \\frac{D_{xy}}{D_{xx}} & 1\\\\- \\frac{D_{xy} \\sqrt{\\frac{D_{xx}}{T_{r}}}}{2 D_{xx}} & \\frac{D_{xy}}{2 D_{xx}} & 0\\end{matrix}\\right]$$"
      ],
      "text/plain": [
       "⎡            ________              ⎤\n",
       "⎢           ╱ D_{xx}               ⎥\n",
       "⎢ D_{xy}⋅  ╱  ──────               ⎥\n",
       "⎢        ╲╱     Tᵣ       D_{xy}    ⎥\n",
       "⎢ ───────────────────   ────────  0⎥\n",
       "⎢       2⋅D_{xx}        2⋅D_{xx}   ⎥\n",
       "⎢                                  ⎥\n",
       "⎢                       -D_{xy}    ⎥\n",
       "⎢          0            ────────  1⎥\n",
       "⎢                        D_{xx}    ⎥\n",
       "⎢                                  ⎥\n",
       "⎢            ________              ⎥\n",
       "⎢           ╱ D_{xx}               ⎥\n",
       "⎢-D_{xy}⋅  ╱  ──────               ⎥\n",
       "⎢        ╲╱     Tᵣ       D_{xy}    ⎥\n",
       "⎢─────────────────────  ────────  0⎥\n",
       "⎣       2⋅D_{xx}        2⋅D_{xx}   ⎦"
      ]
     },
     "execution_count": 92,
     "metadata": {},
     "output_type": "execute_result"
    }
   ],
   "source": [
    "simplify(L)"
   ]
  },
  {
   "cell_type": "markdown",
   "metadata": {},
   "source": [
    "# The absolute Jacobian is given by"
   ]
  },
  {
   "cell_type": "code",
   "execution_count": 93,
   "metadata": {},
   "outputs": [
    {
     "data": {
      "image/png": "[encoded data removed]",
      "text/latex": [
       "$$\\left[\\begin{matrix}\\left|{\\sqrt{\\frac{D_{xx}}{T_{r}}}}\\right| & 0 & 0\\\\0 & \\left|{\\sqrt{\\frac{D_{xx}}{T_{r}}}}\\right| & 0\\\\0 & \\frac{D_{xy} \\left|{\\sqrt{\\frac{D_{xx}}{T_{r}}}}\\right|}{D_{xx}} & 0\\end{matrix}\\right]$$"
      ],
      "text/plain": [
       "⎡│    ________│                          ⎤\n",
       "⎢│   ╱ D_{xx} │                          ⎥\n",
       "⎢│  ╱  ────── │            0            0⎥\n",
       "⎢│╲╱     Tᵣ   │                          ⎥\n",
       "⎢                                        ⎥\n",
       "⎢                   │    ________│       ⎥\n",
       "⎢                   │   ╱ D_{xx} │       ⎥\n",
       "⎢      0            │  ╱  ────── │      0⎥\n",
       "⎢                   │╲╱     Tᵣ   │       ⎥\n",
       "⎢                                        ⎥\n",
       "⎢                       │    ________│   ⎥\n",
       "⎢                       │   ╱ D_{xx} │   ⎥\n",
       "⎢                D_{xy}⋅│  ╱  ────── │   ⎥\n",
       "⎢                       │╲╱     Tᵣ   │   ⎥\n",
       "⎢      0         ─────────────────────  0⎥\n",
       "⎣                        D_{xx}          ⎦"
      ]
     },
     "execution_count": 93,
     "metadata": {},
     "output_type": "execute_result"
    }
   ],
   "source": [
    "simplify(R*abs(ND)*R**-1)"
   ]
  },
  {
   "cell_type": "code",
   "execution_count": null,
   "metadata": {},
   "outputs": [],
   "source": []
  }
 ],
 "metadata": {
  "anaconda-cloud": {},
  "kernelspec": {
   "display_name": "Python 3",
   "language": "python",
   "name": "python3"
  },
  "language_info": {
   "codemirror_mode": {
    "name": "ipython",
    "version": 3
   },
   "file_extension": ".py",
   "mimetype": "text/x-python",
   "name": "python",
   "nbconvert_exporter": "python",
   "pygments_lexer": "ipython3",
   "version": "3.6.5"
  }
 },
 "nbformat": 4,
 "nbformat_minor": 1
}
