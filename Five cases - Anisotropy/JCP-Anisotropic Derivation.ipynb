{
 "cells": [
  {
   "cell_type": "code",
   "execution_count": 31,
   "metadata": {},
   "outputs": [],
   "source": [
    "from sympy import *\n",
    "init_printing()"
   ]
  },
  {
   "cell_type": "markdown",
   "metadata": {},
   "source": []
  },
  {
   "cell_type": "markdown",
   "metadata": {},
   "source": [
    "# Tensor Diffusion. Eigenvalues, eigenvectors and absolute Jacobian\n",
    "\n",
    "We can represent this matrix symbolically in SymPy and explore its eigensystem."
   ]
  },
  {
   "cell_type": "code",
   "execution_count": 32,
   "metadata": {},
   "outputs": [
    {
     "data": {
      "image/png": "[encoded data removed]",
      "text/latex": [
       "$$\\left[\\begin{matrix}0 & - D_{xx} n_{x} - D_{xy} n_{y} & - D_{xy} n_{x} - D_{yy} n_{y}\\\\- \\frac{n_{x}}{T_{r}} & 0 & 0\\\\- \\frac{n_{y}}{T_{r}} & 0 & 0\\end{matrix}\\right]$$"
      ],
      "text/plain": [
       "⎡  0    -D_{xx}⋅nₓ - D_{xy}⋅n_y  -D_{xy}⋅nₓ - D_{yy}⋅n_y⎤\n",
       "⎢                                                       ⎥\n",
       "⎢-nₓ                                                    ⎥\n",
       "⎢────              0                        0           ⎥\n",
       "⎢ Tᵣ                                                    ⎥\n",
       "⎢                                                       ⎥\n",
       "⎢-n_y                                                   ⎥\n",
       "⎢─────             0                        0           ⎥\n",
       "⎣  Tᵣ                                                   ⎦"
      ]
     },
     "execution_count": 32,
     "metadata": {},
     "output_type": "execute_result"
    }
   ],
   "source": [
    "from sympy.abc import rho, beta, nu\n",
    "\n",
    "a, nu_xx,nu_xy,nu_yx,nu_yy, b= symbols('a D_{xx} D_{xy} D_{yx} D_{yy} b')\n",
    "\n",
    "n_x, n_y, Tr = symbols('n_x n_y T_r')\n",
    "\n",
    "# Jacobian in x\n",
    "H = Matrix([[0, -1, 0], [-nu_xx/Tr, 0, 0], [-nu_xy/Tr, 0, 0]])\n",
    "\n",
    "# H = Matrix([[0, 0,-nu_yy], [0, 0, 0], [-1, 0, 0]])\n",
    "\n",
    "H = Matrix([[0, -nu_xx*n_x-nu_xy*n_y,-nu_xy*n_x-nu_yy*n_y], [-n_x/Tr,0, 0], [-n_y/Tr, 0, 0]])\n",
    "H"
   ]
  },
  {
   "cell_type": "markdown",
   "metadata": {},
   "source": [
    "The eigenvalues are the speeds at which information propagates with.  SymPy returns them as a\n",
    "dictionary, giving the multiplicity for each eigenvalue."
   ]
  },
  {
   "cell_type": "code",
   "execution_count": 33,
   "metadata": {},
   "outputs": [
    {
     "data": {
      "image/png": "[encoded data removed]",
      "text/latex": [
       "$$\\left \\{ 0 : 1, \\quad - \\sqrt{\\frac{1}{T_{r}} \\left(D_{xx} n_{x}^{2} + 2 D_{xy} n_{x} n_{y} + D_{yy} n_{y}^{2}\\right)} : 1, \\quad \\sqrt{\\frac{1}{T_{r}} \\left(D_{xx} n_{x}^{2} + 2 D_{xy} n_{x} n_{y} + D_{yy} n_{y}^{2}\\right)} : 1\\right \\}$$"
      ],
      "text/plain": [
       "⎧            ____________________________________________          ___________\n",
       "⎪           ╱          2                               2          ╱          2\n",
       "⎨          ╱  D_{xx}⋅nₓ  + 2⋅D_{xy}⋅nₓ⋅n_y + D_{yy}⋅n_y          ╱  D_{xx}⋅nₓ \n",
       "⎪0: 1, -  ╱   ────────────────────────────────────────── : 1,   ╱   ──────────\n",
       "⎩       ╲╱                        Tᵣ                          ╲╱              \n",
       "\n",
       "_________________________________   ⎫\n",
       "                               2    ⎪\n",
       " + 2⋅D_{xy}⋅nₓ⋅n_y + D_{yy}⋅n_y     ⎬\n",
       "──────────────────────────────── : 1⎪\n",
       "          Tᵣ                        ⎭"
      ]
     },
     "execution_count": 33,
     "metadata": {},
     "output_type": "execute_result"
    }
   ],
   "source": [
    "lamb = H.eigenvals()\n",
    "simplify(lamb)\n",
    "\n",
    "# J = lamb * numpy.identity(3)"
   ]
  },
  {
   "cell_type": "code",
   "execution_count": 34,
   "metadata": {},
   "outputs": [],
   "source": [
    "# B.eigenvals()"
   ]
  },
  {
   "cell_type": "markdown",
   "metadata": {},
   "source": [
    "The right eigenvectors are what SymPy gives natively.  For a given eigenvalue, $\\lambda$, these \n",
    "satisfy:\n",
    "    \n",
    "$$A r = \\lambda r$$"
   ]
  },
  {
   "cell_type": "markdown",
   "metadata": {},
   "source": [
    "## Right Eigenvectors"
   ]
  },
  {
   "cell_type": "code",
   "execution_count": 35,
   "metadata": {},
   "outputs": [],
   "source": [
    "R = H.eigenvects()   # this returns a tuple for each eigenvector with multiplicity -- unpack it\n",
    "r = []\n",
    "lam = []\n",
    "for (ev, _, rtmp) in R:\n",
    "    r.append(rtmp[0])\n",
    "    lam.append(ev)\n",
    "    \n",
    "# # we can normalize them anyway we want, so let's make the first entry 1\n",
    "# for n in range(len(r)):\n",
    "#     v = r[n]\n",
    "#     r[n] = v/v[0]"
   ]
  },
  {
   "cell_type": "markdown",
   "metadata": {},
   "source": [
    "### 0-th right eigenvector "
   ]
  },
  {
   "cell_type": "code",
   "execution_count": 36,
   "metadata": {},
   "outputs": [
    {
     "data": {
      "image/png": "[encoded data removed]",
      "text/latex": [
       "$$\\left[\\begin{matrix}0\\\\- \\frac{D_{xy} n_{x} + D_{yy} n_{y}}{D_{xx} n_{x} + D_{xy} n_{y}}\\\\1\\end{matrix}\\right]$$"
      ],
      "text/plain": [
       "⎡            0             ⎤\n",
       "⎢                          ⎥\n",
       "⎢-(D_{xy}⋅nₓ + D_{yy}⋅n_y) ⎥\n",
       "⎢──────────────────────────⎥\n",
       "⎢  D_{xx}⋅nₓ + D_{xy}⋅n_y  ⎥\n",
       "⎢                          ⎥\n",
       "⎣            1             ⎦"
      ]
     },
     "execution_count": 36,
     "metadata": {},
     "output_type": "execute_result"
    }
   ],
   "source": [
    "simplify(r[0])"
   ]
  },
  {
   "cell_type": "markdown",
   "metadata": {},
   "source": [
    "this corresponds to the eigenvalue"
   ]
  },
  {
   "cell_type": "code",
   "execution_count": 37,
   "metadata": {},
   "outputs": [
    {
     "data": {
      "image/png": "[encoded data removed]",
      "text/latex": [
       "$$0$$"
      ],
      "text/plain": [
       "0"
      ]
     },
     "execution_count": 37,
     "metadata": {},
     "output_type": "execute_result"
    }
   ],
   "source": [
    "lam[0]"
   ]
  },
  {
   "cell_type": "markdown",
   "metadata": {},
   "source": [
    "### 1-st right eigenvector"
   ]
  },
  {
   "cell_type": "code",
   "execution_count": 38,
   "metadata": {},
   "outputs": [
    {
     "data": {
      "image/png": "[encoded data removed]",
      "text/latex": [
       "$$\\left[\\begin{matrix}\\frac{D_{xx} n_{x}^{2} + 2 D_{xy} n_{x} n_{y} + D_{yy} n_{y}^{2}}{n_{y} \\sqrt{\\frac{1}{T_{r}} \\left(D_{xx} n_{x}^{2} + 2 D_{xy} n_{x} n_{y} + D_{yy} n_{y}^{2}\\right)}}\\\\\\frac{n_{x}}{n_{y}}\\\\1\\end{matrix}\\right]$$"
      ],
      "text/plain": [
       "⎡               2                               2     ⎤\n",
       "⎢      D_{xx}⋅nₓ  + 2⋅D_{xy}⋅nₓ⋅n_y + D_{yy}⋅n_y      ⎥\n",
       "⎢─────────────────────────────────────────────────────⎥\n",
       "⎢         ____________________________________________⎥\n",
       "⎢        ╱          2                               2 ⎥\n",
       "⎢       ╱  D_{xx}⋅nₓ  + 2⋅D_{xy}⋅nₓ⋅n_y + D_{yy}⋅n_y  ⎥\n",
       "⎢n_y⋅  ╱   ────────────────────────────────────────── ⎥\n",
       "⎢    ╲╱                        Tᵣ                     ⎥\n",
       "⎢                                                     ⎥\n",
       "⎢                          nₓ                         ⎥\n",
       "⎢                         ───                         ⎥\n",
       "⎢                         n_y                         ⎥\n",
       "⎢                                                     ⎥\n",
       "⎣                          1                          ⎦"
      ]
     },
     "execution_count": 38,
     "metadata": {},
     "output_type": "execute_result"
    }
   ],
   "source": [
    "simplify(r[1])"
   ]
  },
  {
   "cell_type": "markdown",
   "metadata": {},
   "source": [
    "this corresponds to the eigenvalue"
   ]
  },
  {
   "cell_type": "code",
   "execution_count": 39,
   "metadata": {},
   "outputs": [
    {
     "data": {
      "image/png": "[encoded data removed]",
      "text/latex": [
       "$$- \\sqrt{\\frac{1}{T_{r}} \\left(D_{xx} n_{x}^{2} + 2 D_{xy} n_{x} n_{y} + D_{yy} n_{y}^{2}\\right)}$$"
      ],
      "text/plain": [
       "      ____________________________________________\n",
       "     ╱          2                               2 \n",
       "    ╱  D_{xx}⋅nₓ  + 2⋅D_{xy}⋅nₓ⋅n_y + D_{yy}⋅n_y  \n",
       "-  ╱   ────────────────────────────────────────── \n",
       " ╲╱                        Tᵣ                     "
      ]
     },
     "execution_count": 39,
     "metadata": {},
     "output_type": "execute_result"
    }
   ],
   "source": [
    "lam[1]"
   ]
  },
  {
   "cell_type": "code",
   "execution_count": 40,
   "metadata": {},
   "outputs": [
    {
     "data": {
      "image/png": "[encoded data removed]",
      "text/latex": [
       "$$\\left[\\begin{matrix}- \\frac{D_{xx} n_{x}^{2} + 2 D_{xy} n_{x} n_{y} + D_{yy} n_{y}^{2}}{n_{y} \\sqrt{\\frac{1}{T_{r}} \\left(D_{xx} n_{x}^{2} + 2 D_{xy} n_{x} n_{y} + D_{yy} n_{y}^{2}\\right)}}\\\\\\frac{n_{x}}{n_{y}}\\\\1\\end{matrix}\\right]$$"
      ],
      "text/plain": [
       "⎡     ⎛         2                               2⎞    ⎤\n",
       "⎢    -⎝D_{xx}⋅nₓ  + 2⋅D_{xy}⋅nₓ⋅n_y + D_{yy}⋅n_y ⎠    ⎥\n",
       "⎢─────────────────────────────────────────────────────⎥\n",
       "⎢         ____________________________________________⎥\n",
       "⎢        ╱          2                               2 ⎥\n",
       "⎢       ╱  D_{xx}⋅nₓ  + 2⋅D_{xy}⋅nₓ⋅n_y + D_{yy}⋅n_y  ⎥\n",
       "⎢n_y⋅  ╱   ────────────────────────────────────────── ⎥\n",
       "⎢    ╲╱                        Tᵣ                     ⎥\n",
       "⎢                                                     ⎥\n",
       "⎢                          nₓ                         ⎥\n",
       "⎢                         ───                         ⎥\n",
       "⎢                         n_y                         ⎥\n",
       "⎢                                                     ⎥\n",
       "⎣                          1                          ⎦"
      ]
     },
     "execution_count": 40,
     "metadata": {},
     "output_type": "execute_result"
    }
   ],
   "source": [
    "simplify(r[2])"
   ]
  },
  {
   "cell_type": "code",
   "execution_count": 41,
   "metadata": {},
   "outputs": [
    {
     "data": {
      "image/png": "[encoded data removed]",
      "text/latex": [
       "$$\\sqrt{\\frac{1}{T_{r}} \\left(D_{xx} n_{x}^{2} + 2 D_{xy} n_{x} n_{y} + D_{yy} n_{y}^{2}\\right)}$$"
      ],
      "text/plain": [
       "     ____________________________________________\n",
       "    ╱          2                               2 \n",
       "   ╱  D_{xx}⋅nₓ  + 2⋅D_{xy}⋅nₓ⋅n_y + D_{yy}⋅n_y  \n",
       "  ╱   ────────────────────────────────────────── \n",
       "╲╱                        Tᵣ                     "
      ]
     },
     "execution_count": 41,
     "metadata": {},
     "output_type": "execute_result"
    }
   ],
   "source": [
    "lam[2]"
   ]
  },
  {
   "cell_type": "code",
   "execution_count": null,
   "metadata": {},
   "outputs": [],
   "source": []
  },
  {
   "cell_type": "markdown",
   "metadata": {},
   "source": [
    "### 2-nd right eigenvector"
   ]
  },
  {
   "cell_type": "markdown",
   "metadata": {},
   "source": [
    "this corresponds to the eigenvalue"
   ]
  },
  {
   "cell_type": "code",
   "execution_count": 42,
   "metadata": {},
   "outputs": [
    {
     "data": {
      "image/png": "[encoded data removed]",
      "text/latex": [
       "$$\\left[\\begin{matrix}0\\\\- \\sqrt{\\frac{1}{T_{r}} \\left(D_{xx} n_{x}^{2} + 2 D_{xy} n_{x} n_{y} + D_{yy} n_{y}^{2}\\right)}\\\\\\sqrt{\\frac{1}{T_{r}} \\left(D_{xx} n_{x}^{2} + 2 D_{xy} n_{x} n_{y} + D_{yy} n_{y}^{2}\\right)}\\end{matrix}\\right]$$"
      ],
      "text/plain": [
       "⎡                        0                         ⎤\n",
       "⎢                                                  ⎥\n",
       "⎢      ____________________________________________⎥\n",
       "⎢     ╱          2                               2 ⎥\n",
       "⎢    ╱  D_{xx}⋅nₓ  + 2⋅D_{xy}⋅nₓ⋅n_y + D_{yy}⋅n_y  ⎥\n",
       "⎢-  ╱   ────────────────────────────────────────── ⎥\n",
       "⎢ ╲╱                        Tᵣ                     ⎥\n",
       "⎢                                                  ⎥\n",
       "⎢     ____________________________________________ ⎥\n",
       "⎢    ╱          2                               2  ⎥\n",
       "⎢   ╱  D_{xx}⋅nₓ  + 2⋅D_{xy}⋅nₓ⋅n_y + D_{yy}⋅n_y   ⎥\n",
       "⎢  ╱   ──────────────────────────────────────────  ⎥\n",
       "⎣╲╱                        Tᵣ                      ⎦"
      ]
     },
     "execution_count": 42,
     "metadata": {},
     "output_type": "execute_result"
    }
   ],
   "source": [
    "lambd = Matrix (lam)\n",
    "lambd"
   ]
  },
  {
   "cell_type": "markdown",
   "metadata": {},
   "source": [
    "# Here they are as a matrix, $R$, in order from smallest to largest eigenvalue"
   ]
  },
  {
   "cell_type": "code",
   "execution_count": 43,
   "metadata": {},
   "outputs": [
    {
     "data": {
      "image/png": "[encoded data removed]",
      "text/latex": [
       "$$\\left[\\begin{matrix}\\frac{D_{xx} n_{x}^{2} + 2 D_{xy} n_{x} n_{y} + D_{yy} n_{y}^{2}}{n_{y} \\sqrt{\\frac{1}{T_{r}} \\left(D_{xx} n_{x}^{2} + 2 D_{xy} n_{x} n_{y} + D_{yy} n_{y}^{2}\\right)}} & 0 & - \\frac{D_{xx} n_{x}^{2} + 2 D_{xy} n_{x} n_{y} + D_{yy} n_{y}^{2}}{n_{y} \\sqrt{\\frac{1}{T_{r}} \\left(D_{xx} n_{x}^{2} + 2 D_{xy} n_{x} n_{y} + D_{yy} n_{y}^{2}\\right)}}\\\\\\frac{n_{x}}{n_{y}} & - \\frac{D_{xy} n_{x} + D_{yy} n_{y}}{D_{xx} n_{x} + D_{xy} n_{y}} & \\frac{n_{x}}{n_{y}}\\\\1 & 1 & 1\\end{matrix}\\right]$$"
      ],
      "text/plain": [
       "⎡               2                               2                             \n",
       "⎢      D_{xx}⋅nₓ  + 2⋅D_{xy}⋅nₓ⋅n_y + D_{yy}⋅n_y                              \n",
       "⎢─────────────────────────────────────────────────────              0         \n",
       "⎢         ____________________________________________                        \n",
       "⎢        ╱          2                               2                         \n",
       "⎢       ╱  D_{xx}⋅nₓ  + 2⋅D_{xy}⋅nₓ⋅n_y + D_{yy}⋅n_y                          \n",
       "⎢n_y⋅  ╱   ──────────────────────────────────────────                         \n",
       "⎢    ╲╱                        Tᵣ                                             \n",
       "⎢                                                                             \n",
       "⎢                          nₓ                           -(D_{xy}⋅nₓ + D_{yy}⋅n\n",
       "⎢                         ───                           ──────────────────────\n",
       "⎢                         n_y                             D_{xx}⋅nₓ + D_{xy}⋅n\n",
       "⎢                                                                             \n",
       "⎣                          1                                        1         \n",
       "\n",
       "           ⎛         2                               2⎞    ⎤\n",
       "          -⎝D_{xx}⋅nₓ  + 2⋅D_{xy}⋅nₓ⋅n_y + D_{yy}⋅n_y ⎠    ⎥\n",
       "      ─────────────────────────────────────────────────────⎥\n",
       "               ____________________________________________⎥\n",
       "              ╱          2                               2 ⎥\n",
       "             ╱  D_{xx}⋅nₓ  + 2⋅D_{xy}⋅nₓ⋅n_y + D_{yy}⋅n_y  ⎥\n",
       "      n_y⋅  ╱   ────────────────────────────────────────── ⎥\n",
       "          ╲╱                        Tᵣ                     ⎥\n",
       "                                                           ⎥\n",
       "_y)                             nₓ                         ⎥\n",
       "────                           ───                         ⎥\n",
       "_y                             n_y                         ⎥\n",
       "                                                           ⎥\n",
       "                                1                          ⎦"
      ]
     },
     "execution_count": 43,
     "metadata": {},
     "output_type": "execute_result"
    }
   ],
   "source": [
    "R = zeros(3,3)\n",
    "R[:,0] = r[1]\n",
    "R[:,1] = r[0]\n",
    "R[:,2] = r[2]\n",
    "simplify(simplify(R))"
   ]
  },
  {
   "cell_type": "markdown",
   "metadata": {},
   "source": [
    "## Left Eigenvectors"
   ]
  },
  {
   "cell_type": "markdown",
   "metadata": {},
   "source": [
    "The left eigenvectors satisfy:\n",
    "\n",
    "$$l A = \\lambda l$$\n",
    "\n",
    "SymPy doesn't have a method to get left eigenvectors directly, so we take the transpose of this expression:\n",
    "\n",
    "$$(l A)^\\intercal = A^\\intercal l^\\intercal = \\lambda l^\\intercal$$\n",
    "\n",
    "Therefore, the transpose of the left eigenvectors, $l^\\intercal$, are the right eigenvectors of transpose of $A$"
   ]
  },
  {
   "cell_type": "code",
   "execution_count": 44,
   "metadata": {},
   "outputs": [
    {
     "data": {
      "image/png": "[encoded data removed]",
      "text/latex": [
       "$$\\left[\\begin{matrix}0 & - \\frac{n_{x}}{T_{r}} & - \\frac{n_{y}}{T_{r}}\\\\- D_{xx} n_{x} - D_{xy} n_{y} & 0 & 0\\\\- D_{xy} n_{x} - D_{yy} n_{y} & 0 & 0\\end{matrix}\\right]$$"
      ],
      "text/plain": [
       "⎡                         -nₓ   -n_y ⎤\n",
       "⎢           0             ────  ─────⎥\n",
       "⎢                          Tᵣ     Tᵣ ⎥\n",
       "⎢                                    ⎥\n",
       "⎢-D_{xx}⋅nₓ - D_{xy}⋅n_y   0      0  ⎥\n",
       "⎢                                    ⎥\n",
       "⎣-D_{xy}⋅nₓ - D_{yy}⋅n_y   0      0  ⎦"
      ]
     },
     "execution_count": 44,
     "metadata": {},
     "output_type": "execute_result"
    }
   ],
   "source": [
    "C = H.transpose()\n",
    "C"
   ]
  },
  {
   "cell_type": "code",
   "execution_count": 45,
   "metadata": {},
   "outputs": [],
   "source": [
    "L = C.eigenvects()\n",
    "l = []\n",
    "laml = []\n",
    "for (ev, _, ltmp) in L:\n",
    "    l.append(ltmp[0].transpose())\n",
    "    laml.append(ev)\n",
    "    "
   ]
  },
  {
   "cell_type": "markdown",
   "metadata": {},
   "source": [
    "Traditionally, we normalize these such that $l^{(\\mu)} \\cdot r^{(\\nu)} = \\delta_{\\mu\\nu}$"
   ]
  },
  {
   "cell_type": "code",
   "execution_count": 46,
   "metadata": {},
   "outputs": [],
   "source": [
    "for n in range(len(l)):\n",
    "    if lam[n] == laml[n]:\n",
    "        ltmp = l[n]\n",
    "        p = ltmp.dot(r[n])\n",
    "        l[n] = ltmp/p"
   ]
  },
  {
   "cell_type": "markdown",
   "metadata": {},
   "source": [
    "### 0-th left eigenvector"
   ]
  },
  {
   "cell_type": "code",
   "execution_count": 47,
   "metadata": {},
   "outputs": [
    {
     "data": {
      "image/png": "[encoded data removed]",
      "text/latex": [
       "$$\\left[\\begin{matrix}0 & - \\frac{n_{y} \\left(D_{xx} n_{x} + D_{xy} n_{y}\\right)}{n_{x} \\left(D_{xx} n_{x} + D_{xy} n_{y}\\right) + n_{y} \\left(D_{xy} n_{x} + D_{yy} n_{y}\\right)} & \\frac{n_{x} \\left(D_{xx} n_{x} + D_{xy} n_{y}\\right)}{n_{x} \\left(D_{xx} n_{x} + D_{xy} n_{y}\\right) + n_{y} \\left(D_{xy} n_{x} + D_{yy} n_{y}\\right)}\\end{matrix}\\right]$$"
      ],
      "text/plain": [
       "⎡                 -n_y⋅(D_{xx}⋅nₓ + D_{xy}⋅n_y)                               \n",
       "⎢0  ──────────────────────────────────────────────────────────  ──────────────\n",
       "⎣   nₓ⋅(D_{xx}⋅nₓ + D_{xy}⋅n_y) + n_y⋅(D_{xy}⋅nₓ + D_{yy}⋅n_y)  nₓ⋅(D_{xx}⋅nₓ \n",
       "\n",
       " nₓ⋅(D_{xx}⋅nₓ + D_{xy}⋅n_y)                ⎤\n",
       "────────────────────────────────────────────⎥\n",
       "+ D_{xy}⋅n_y) + n_y⋅(D_{xy}⋅nₓ + D_{yy}⋅n_y)⎦"
      ]
     },
     "execution_count": 47,
     "metadata": {},
     "output_type": "execute_result"
    }
   ],
   "source": [
    "simplify(l[0])"
   ]
  },
  {
   "cell_type": "markdown",
   "metadata": {},
   "source": [
    "### 1-st left eigenvector"
   ]
  },
  {
   "cell_type": "code",
   "execution_count": 48,
   "metadata": {},
   "outputs": [
    {
     "data": {
      "image/png": "[encoded data removed]",
      "text/latex": [
       "$$\\left[\\begin{matrix}\\frac{n_{y} \\sqrt{\\frac{1}{T_{r}} \\left(D_{xx} n_{x}^{2} + 2 D_{xy} n_{x} n_{y} + D_{yy} n_{y}^{2}\\right)}}{2 \\left(D_{xx} n_{x}^{2} + 2 D_{xy} n_{x} n_{y} + D_{yy} n_{y}^{2}\\right)} & \\frac{n_{y} \\left(D_{xx} n_{x} + D_{xy} n_{y}\\right)}{2 \\left(D_{xx} n_{x}^{2} + 2 D_{xy} n_{x} n_{y} + D_{yy} n_{y}^{2}\\right)} & \\frac{n_{y} \\left(D_{xy} n_{x} + D_{yy} n_{y}\\right)}{2 \\left(D_{xx} n_{x}^{2} + 2 D_{xy} n_{x} n_{y} + D_{yy} n_{y}^{2}\\right)}\\end{matrix}\\right]$$"
      ],
      "text/plain": [
       "⎡         ____________________________________________                        \n",
       "⎢        ╱          2                               2                         \n",
       "⎢       ╱  D_{xx}⋅nₓ  + 2⋅D_{xy}⋅nₓ⋅n_y + D_{yy}⋅n_y                          \n",
       "⎢n_y⋅  ╱   ──────────────────────────────────────────                         \n",
       "⎢    ╲╱                        Tᵣ                                n_y⋅(D_{xx}⋅n\n",
       "⎢─────────────────────────────────────────────────────  ──────────────────────\n",
       "⎢      ⎛         2                               2⎞       ⎛         2         \n",
       "⎣    2⋅⎝D_{xx}⋅nₓ  + 2⋅D_{xy}⋅nₓ⋅n_y + D_{yy}⋅n_y ⎠     2⋅⎝D_{xx}⋅nₓ  + 2⋅D_{x\n",
       "\n",
       "                                                                        ⎤\n",
       "                                                                        ⎥\n",
       "                                                                        ⎥\n",
       "                                                                        ⎥\n",
       "ₓ + D_{xy}⋅n_y)                    n_y⋅(D_{xy}⋅nₓ + D_{yy}⋅n_y)         ⎥\n",
       "────────────────────────  ──────────────────────────────────────────────⎥\n",
       "                      2⎞    ⎛         2                               2⎞⎥\n",
       "y}⋅nₓ⋅n_y + D_{yy}⋅n_y ⎠  2⋅⎝D_{xx}⋅nₓ  + 2⋅D_{xy}⋅nₓ⋅n_y + D_{yy}⋅n_y ⎠⎦"
      ]
     },
     "execution_count": 48,
     "metadata": {},
     "output_type": "execute_result"
    }
   ],
   "source": [
    "simplify(l[1])"
   ]
  },
  {
   "cell_type": "code",
   "execution_count": 49,
   "metadata": {},
   "outputs": [
    {
     "data": {
      "image/png": "[encoded data removed]",
      "text/latex": [
       "$$\\left[\\begin{matrix}- \\frac{n_{y} \\sqrt{\\frac{1}{T_{r}} \\left(D_{xx} n_{x}^{2} + 2 D_{xy} n_{x} n_{y} + D_{yy} n_{y}^{2}\\right)}}{2 D_{xx} n_{x}^{2} + 4 D_{xy} n_{x} n_{y} + 2 D_{yy} n_{y}^{2}} & \\frac{n_{y} \\left(D_{xx} n_{x} + D_{xy} n_{y}\\right)}{2 \\left(D_{xx} n_{x}^{2} + 2 D_{xy} n_{x} n_{y} + D_{yy} n_{y}^{2}\\right)} & \\frac{n_{y} \\left(D_{xy} n_{x} + D_{yy} n_{y}\\right)}{2 \\left(D_{xx} n_{x}^{2} + 2 D_{xy} n_{x} n_{y} + D_{yy} n_{y}^{2}\\right)}\\end{matrix}\\right]$$"
      ],
      "text/plain": [
       "⎡          ____________________________________________                       \n",
       "⎢         ╱          2                               2                        \n",
       "⎢        ╱  D_{xx}⋅nₓ  + 2⋅D_{xy}⋅nₓ⋅n_y + D_{yy}⋅n_y                         \n",
       "⎢-n_y⋅  ╱   ──────────────────────────────────────────                        \n",
       "⎢     ╲╱                        Tᵣ                                 n_y⋅(D_{xx}\n",
       "⎢───────────────────────────────────────────────────────  ────────────────────\n",
       "⎢                2                                 2        ⎛         2       \n",
       "⎣     2⋅D_{xx}⋅nₓ  + 4⋅D_{xy}⋅nₓ⋅n_y + 2⋅D_{yy}⋅n_y       2⋅⎝D_{xx}⋅nₓ  + 2⋅D_\n",
       "\n",
       "                                                                          ⎤\n",
       "                                                                          ⎥\n",
       "                                                                          ⎥\n",
       "                                                                          ⎥\n",
       "⋅nₓ + D_{xy}⋅n_y)                    n_y⋅(D_{xy}⋅nₓ + D_{yy}⋅n_y)         ⎥\n",
       "──────────────────────────  ──────────────────────────────────────────────⎥\n",
       "                        2⎞    ⎛         2                               2⎞⎥\n",
       "{xy}⋅nₓ⋅n_y + D_{yy}⋅n_y ⎠  2⋅⎝D_{xx}⋅nₓ  + 2⋅D_{xy}⋅nₓ⋅n_y + D_{yy}⋅n_y ⎠⎦"
      ]
     },
     "execution_count": 49,
     "metadata": {},
     "output_type": "execute_result"
    }
   ],
   "source": [
    "simplify(l[2])"
   ]
  },
  {
   "cell_type": "markdown",
   "metadata": {},
   "source": [
    "### 2-nd left eigenvector"
   ]
  },
  {
   "cell_type": "code",
   "execution_count": 50,
   "metadata": {},
   "outputs": [
    {
     "data": {
      "image/png": "[encoded data removed]",
      "text/latex": [
       "$$\\left[\\begin{matrix}\\frac{n_{y} \\sqrt{\\frac{1}{T_{r}} \\left(D_{xx} n_{x}^{2} + 2 D_{xy} n_{x} n_{y} + D_{yy} n_{y}^{2}\\right)}}{2 \\left(D_{xx} n_{x}^{2} + 2 D_{xy} n_{x} n_{y} + D_{yy} n_{y}^{2}\\right)} & \\frac{n_{y} \\left(D_{xx} n_{x} + D_{xy} n_{y}\\right)}{2 \\left(D_{xx} n_{x}^{2} + 2 D_{xy} n_{x} n_{y} + D_{yy} n_{y}^{2}\\right)} & \\frac{n_{y} \\left(D_{xy} n_{x} + D_{yy} n_{y}\\right)}{2 \\left(D_{xx} n_{x}^{2} + 2 D_{xy} n_{x} n_{y} + D_{yy} n_{y}^{2}\\right)}\\\\0 & - \\frac{n_{y} \\left(D_{xx} n_{x} + D_{xy} n_{y}\\right)}{n_{x} \\left(D_{xx} n_{x} + D_{xy} n_{y}\\right) + n_{y} \\left(D_{xy} n_{x} + D_{yy} n_{y}\\right)} & \\frac{n_{x} \\left(D_{xx} n_{x} + D_{xy} n_{y}\\right)}{n_{x} \\left(D_{xx} n_{x} + D_{xy} n_{y}\\right) + n_{y} \\left(D_{xy} n_{x} + D_{yy} n_{y}\\right)}\\\\- \\frac{n_{y} \\sqrt{\\frac{1}{T_{r}} \\left(D_{xx} n_{x}^{2} + 2 D_{xy} n_{x} n_{y} + D_{yy} n_{y}^{2}\\right)}}{2 D_{xx} n_{x}^{2} + 4 D_{xy} n_{x} n_{y} + 2 D_{yy} n_{y}^{2}} & \\frac{n_{y} \\left(D_{xx} n_{x} + D_{xy} n_{y}\\right)}{2 \\left(D_{xx} n_{x}^{2} + 2 D_{xy} n_{x} n_{y} + D_{yy} n_{y}^{2}\\right)} & \\frac{n_{y} \\left(D_{xy} n_{x} + D_{yy} n_{y}\\right)}{2 \\left(D_{xx} n_{x}^{2} + 2 D_{xy} n_{x} n_{y} + D_{yy} n_{y}^{2}\\right)}\\end{matrix}\\right]$$"
      ],
      "text/plain": [
       "⎡          ____________________________________________                       \n",
       "⎢         ╱          2                               2                        \n",
       "⎢        ╱  D_{xx}⋅nₓ  + 2⋅D_{xy}⋅nₓ⋅n_y + D_{yy}⋅n_y                         \n",
       "⎢ n_y⋅  ╱   ──────────────────────────────────────────                        \n",
       "⎢     ╲╱                        Tᵣ                                       n_y⋅(\n",
       "⎢ ─────────────────────────────────────────────────────         ──────────────\n",
       "⎢       ⎛         2                               2⎞              ⎛         2 \n",
       "⎢     2⋅⎝D_{xx}⋅nₓ  + 2⋅D_{xy}⋅nₓ⋅n_y + D_{yy}⋅n_y ⎠            2⋅⎝D_{xx}⋅nₓ  \n",
       "⎢                                                                             \n",
       "⎢                                                                       -n_y⋅(\n",
       "⎢                           0                             ────────────────────\n",
       "⎢                                                         nₓ⋅(D_{xx}⋅nₓ + D_{x\n",
       "⎢                                                                             \n",
       "⎢          ____________________________________________                       \n",
       "⎢         ╱          2                               2                        \n",
       "⎢        ╱  D_{xx}⋅nₓ  + 2⋅D_{xy}⋅nₓ⋅n_y + D_{yy}⋅n_y                         \n",
       "⎢-n_y⋅  ╱   ──────────────────────────────────────────                        \n",
       "⎢     ╲╱                        Tᵣ                                       n_y⋅(\n",
       "⎢───────────────────────────────────────────────────────        ──────────────\n",
       "⎢                2                                 2              ⎛         2 \n",
       "⎣     2⋅D_{xx}⋅nₓ  + 4⋅D_{xy}⋅nₓ⋅n_y + 2⋅D_{yy}⋅n_y             2⋅⎝D_{xx}⋅nₓ  \n",
       "\n",
       "                                                                              \n",
       "                                                                              \n",
       "                                                                              \n",
       "                                                                              \n",
       "D_{xx}⋅nₓ + D_{xy}⋅n_y)                                n_y⋅(D_{xy}⋅nₓ + D_{yy}\n",
       "────────────────────────────────              ────────────────────────────────\n",
       "                              2⎞                ⎛         2                   \n",
       "+ 2⋅D_{xy}⋅nₓ⋅n_y + D_{yy}⋅n_y ⎠              2⋅⎝D_{xx}⋅nₓ  + 2⋅D_{xy}⋅nₓ⋅n_y \n",
       "                                                                              \n",
       "D_{xx}⋅nₓ + D_{xy}⋅n_y)                                nₓ⋅(D_{xx}⋅nₓ + D_{xy}⋅\n",
       "──────────────────────────────────────  ──────────────────────────────────────\n",
       "y}⋅n_y) + n_y⋅(D_{xy}⋅nₓ + D_{yy}⋅n_y)  nₓ⋅(D_{xx}⋅nₓ + D_{xy}⋅n_y) + n_y⋅(D_{\n",
       "                                                                              \n",
       "                                                                              \n",
       "                                                                              \n",
       "                                                                              \n",
       "                                                                              \n",
       "D_{xx}⋅nₓ + D_{xy}⋅n_y)                                n_y⋅(D_{xy}⋅nₓ + D_{yy}\n",
       "────────────────────────────────              ────────────────────────────────\n",
       "                              2⎞                ⎛         2                   \n",
       "+ 2⋅D_{xy}⋅nₓ⋅n_y + D_{yy}⋅n_y ⎠              2⋅⎝D_{xx}⋅nₓ  + 2⋅D_{xy}⋅nₓ⋅n_y \n",
       "\n",
       "                    ⎤\n",
       "                    ⎥\n",
       "                    ⎥\n",
       "                    ⎥\n",
       "⋅n_y)               ⎥\n",
       "──────────────      ⎥\n",
       "            2⎞      ⎥\n",
       "+ D_{yy}⋅n_y ⎠      ⎥\n",
       "                    ⎥\n",
       "n_y)                ⎥\n",
       "────────────────────⎥\n",
       "xy}⋅nₓ + D_{yy}⋅n_y)⎥\n",
       "                    ⎥\n",
       "                    ⎥\n",
       "                    ⎥\n",
       "                    ⎥\n",
       "                    ⎥\n",
       "⋅n_y)               ⎥\n",
       "──────────────      ⎥\n",
       "            2⎞      ⎥\n",
       "+ D_{yy}⋅n_y ⎠      ⎦"
      ]
     },
     "execution_count": 50,
     "metadata": {},
     "output_type": "execute_result"
    }
   ],
   "source": [
    "L = zeros(3,3)\n",
    "L[0,:] = l[1]\n",
    "L[1,:] = l[0]\n",
    "L[2,:] = l[2]\n",
    "simplify(L)"
   ]
  },
  {
   "cell_type": "code",
   "execution_count": 51,
   "metadata": {},
   "outputs": [
    {
     "data": {
      "image/png": "[encoded data removed]",
      "text/latex": [
       "$$\\left[\\begin{matrix}\\frac{n_{y} \\sqrt{\\frac{1}{T_{r}} \\left(D_{xx} n_{x}^{2} + 2 D_{xy} n_{x} n_{y} + D_{yy} n_{y}^{2}\\right)}}{2 \\left(D_{xx} n_{x}^{2} + 2 D_{xy} n_{x} n_{y} + D_{yy} n_{y}^{2}\\right)} & \\frac{n_{y} \\left(D_{xx} n_{x} + D_{xy} n_{y}\\right)}{2 \\left(D_{xx} n_{x}^{2} + 2 D_{xy} n_{x} n_{y} + D_{yy} n_{y}^{2}\\right)} & \\frac{n_{y} \\left(D_{xy} n_{x} + D_{yy} n_{y}\\right)}{2 \\left(D_{xx} n_{x}^{2} + 2 D_{xy} n_{x} n_{y} + D_{yy} n_{y}^{2}\\right)}\\\\0 & - \\frac{n_{y} \\left(D_{xx} n_{x} + D_{xy} n_{y}\\right)}{D_{xx} n_{x}^{2} + 2 D_{xy} n_{x} n_{y} + D_{yy} n_{y}^{2}} & \\frac{n_{x} \\left(D_{xx} n_{x} + D_{xy} n_{y}\\right)}{D_{xx} n_{x}^{2} + 2 D_{xy} n_{x} n_{y} + D_{yy} n_{y}^{2}}\\\\- \\frac{n_{y} \\sqrt{\\frac{1}{T_{r}} \\left(D_{xx} n_{x}^{2} + 2 D_{xy} n_{x} n_{y} + D_{yy} n_{y}^{2}\\right)}}{2 D_{xx} n_{x}^{2} + 4 D_{xy} n_{x} n_{y} + 2 D_{yy} n_{y}^{2}} & \\frac{n_{y} \\left(D_{xx} n_{x} + D_{xy} n_{y}\\right)}{2 \\left(D_{xx} n_{x}^{2} + 2 D_{xy} n_{x} n_{y} + D_{yy} n_{y}^{2}\\right)} & \\frac{n_{y} \\left(D_{xy} n_{x} + D_{yy} n_{y}\\right)}{2 \\left(D_{xx} n_{x}^{2} + 2 D_{xy} n_{x} n_{y} + D_{yy} n_{y}^{2}\\right)}\\end{matrix}\\right]$$"
      ],
      "text/plain": [
       "⎡          ____________________________________________                       \n",
       "⎢         ╱          2                               2                        \n",
       "⎢        ╱  D_{xx}⋅nₓ  + 2⋅D_{xy}⋅nₓ⋅n_y + D_{yy}⋅n_y                         \n",
       "⎢ n_y⋅  ╱   ──────────────────────────────────────────                        \n",
       "⎢     ╲╱                        Tᵣ                                 n_y⋅(D_{xx}\n",
       "⎢ ─────────────────────────────────────────────────────   ────────────────────\n",
       "⎢       ⎛         2                               2⎞        ⎛         2       \n",
       "⎢     2⋅⎝D_{xx}⋅nₓ  + 2⋅D_{xy}⋅nₓ⋅n_y + D_{yy}⋅n_y ⎠      2⋅⎝D_{xx}⋅nₓ  + 2⋅D_\n",
       "⎢                                                                             \n",
       "⎢                                                                 -n_y⋅(D_{xx}\n",
       "⎢                           0                               ──────────────────\n",
       "⎢                                                                    2        \n",
       "⎢                                                           D_{xx}⋅nₓ  + 2⋅D_{\n",
       "⎢                                                                             \n",
       "⎢          ____________________________________________                       \n",
       "⎢         ╱          2                               2                        \n",
       "⎢        ╱  D_{xx}⋅nₓ  + 2⋅D_{xy}⋅nₓ⋅n_y + D_{yy}⋅n_y                         \n",
       "⎢-n_y⋅  ╱   ──────────────────────────────────────────                        \n",
       "⎢     ╲╱                        Tᵣ                                 n_y⋅(D_{xx}\n",
       "⎢───────────────────────────────────────────────────────  ────────────────────\n",
       "⎢                2                                 2        ⎛         2       \n",
       "⎣     2⋅D_{xx}⋅nₓ  + 4⋅D_{xy}⋅nₓ⋅n_y + 2⋅D_{yy}⋅n_y       2⋅⎝D_{xx}⋅nₓ  + 2⋅D_\n",
       "\n",
       "                                                                          ⎤\n",
       "                                                                          ⎥\n",
       "                                                                          ⎥\n",
       "                                                                          ⎥\n",
       "⋅nₓ + D_{xy}⋅n_y)                    n_y⋅(D_{xy}⋅nₓ + D_{yy}⋅n_y)         ⎥\n",
       "──────────────────────────  ──────────────────────────────────────────────⎥\n",
       "                        2⎞    ⎛         2                               2⎞⎥\n",
       "{xy}⋅nₓ⋅n_y + D_{yy}⋅n_y ⎠  2⋅⎝D_{xx}⋅nₓ  + 2⋅D_{xy}⋅nₓ⋅n_y + D_{yy}⋅n_y ⎠⎥\n",
       "                                                                          ⎥\n",
       "⋅nₓ + D_{xy}⋅n_y)                    nₓ⋅(D_{xx}⋅nₓ + D_{xy}⋅n_y)          ⎥\n",
       "────────────────────────      ──────────────────────────────────────────  ⎥\n",
       "                       2               2                               2  ⎥\n",
       "xy}⋅nₓ⋅n_y + D_{yy}⋅n_y       D_{xx}⋅nₓ  + 2⋅D_{xy}⋅nₓ⋅n_y + D_{yy}⋅n_y   ⎥\n",
       "                                                                          ⎥\n",
       "                                                                          ⎥\n",
       "                                                                          ⎥\n",
       "                                                                          ⎥\n",
       "                                                                          ⎥\n",
       "⋅nₓ + D_{xy}⋅n_y)                    n_y⋅(D_{xy}⋅nₓ + D_{yy}⋅n_y)         ⎥\n",
       "──────────────────────────  ──────────────────────────────────────────────⎥\n",
       "                        2⎞    ⎛         2                               2⎞⎥\n",
       "{xy}⋅nₓ⋅n_y + D_{yy}⋅n_y ⎠  2⋅⎝D_{xx}⋅nₓ  + 2⋅D_{xy}⋅nₓ⋅n_y + D_{yy}⋅n_y ⎠⎦"
      ]
     },
     "execution_count": 51,
     "metadata": {},
     "output_type": "execute_result"
    }
   ],
   "source": [
    "simplify(R**-1)"
   ]
  },
  {
   "cell_type": "markdown",
   "metadata": {},
   "source": [
    "# The Jacobian Matrix"
   ]
  },
  {
   "cell_type": "code",
   "execution_count": 52,
   "metadata": {},
   "outputs": [
    {
     "data": {
      "image/png": "[encoded data removed]",
      "text/latex": [
       "$$\\left[\\begin{matrix}- \\sqrt{\\frac{1}{T_{r}} \\left(D_{xx} n_{x}^{2} + 2 D_{xy} n_{x} n_{y} + D_{yy} n_{y}^{2}\\right)} & 0 & 0\\\\0 & 0 & 0\\\\0 & 0 & \\sqrt{\\frac{1}{T_{r}} \\left(D_{xx} n_{x}^{2} + 2 D_{xy} n_{x} n_{y} + D_{yy} n_{y}^{2}\\right)}\\end{matrix}\\right]$$"
      ],
      "text/plain": [
       "⎡      ____________________________________________                           \n",
       "⎢     ╱          2                               2                            \n",
       "⎢    ╱  D_{xx}⋅nₓ  + 2⋅D_{xy}⋅nₓ⋅n_y + D_{yy}⋅n_y                             \n",
       "⎢-  ╱   ──────────────────────────────────────────   0                        \n",
       "⎢ ╲╱                        Tᵣ                                                \n",
       "⎢                                                                             \n",
       "⎢                        0                           0                        \n",
       "⎢                                                                             \n",
       "⎢                                                            _________________\n",
       "⎢                                                           ╱          2      \n",
       "⎢                                                          ╱  D_{xx}⋅nₓ  + 2⋅D\n",
       "⎢                        0                           0    ╱   ────────────────\n",
       "⎣                                                       ╲╱                    \n",
       "\n",
       "                           ⎤\n",
       "                           ⎥\n",
       "                           ⎥\n",
       "  0                        ⎥\n",
       "                           ⎥\n",
       "                           ⎥\n",
       "  0                        ⎥\n",
       "                           ⎥\n",
       "___________________________⎥\n",
       "                         2 ⎥\n",
       "_{xy}⋅nₓ⋅n_y + D_{yy}⋅n_y  ⎥\n",
       "────────────────────────── ⎥\n",
       "    Tᵣ                     ⎦"
      ]
     },
     "execution_count": 52,
     "metadata": {},
     "output_type": "execute_result"
    }
   ],
   "source": [
    "# mod=Matrix([[-sqrt(nu_xx), 0, 0], [0, 0, 0], [0, 0, sqrt(nu_xx)]])\n",
    "# mod=Matrix([[-sqrt(nu_yy), 0, 0], [0, 0, 0], [0, 0, sqrt(nu_yy)]])\n",
    "# mod\n",
    "# ND = Matrix([[-sqrt(nu_xx/Tr), 0, 0], [0, 0, 0], [0, 0, sqrt(nu_xx/Tr)]])\n",
    "ND = Matrix([[- sqrt((nu_xx*n_x*n_x + 2*nu_xy*n_x*n_y+nu_yy*n_y*n_y)/Tr), 0, 0], [0, 0, 0], [0, 0, sqrt((nu_xx*n_x*n_x + 2*nu_xy*n_x*n_y+nu_yy*n_y*n_y)/Tr)]])\n",
    "\n",
    "simplify(ND)"
   ]
  },
  {
   "cell_type": "code",
   "execution_count": 53,
   "metadata": {},
   "outputs": [
    {
     "data": {
      "image/png": "[encoded data removed]",
      "text/latex": [
       "$$\\left[\\begin{matrix}\\frac{n_{y} \\sqrt{\\frac{1}{T_{r}} \\left(D_{xx} n_{x}^{2} + 2 D_{xy} n_{x} n_{y} + D_{yy} n_{y}^{2}\\right)}}{2 \\left(D_{xx} n_{x}^{2} + 2 D_{xy} n_{x} n_{y} + D_{yy} n_{y}^{2}\\right)} & \\frac{n_{y} \\left(D_{xx} n_{x} + D_{xy} n_{y}\\right)}{2 \\left(D_{xx} n_{x}^{2} + 2 D_{xy} n_{x} n_{y} + D_{yy} n_{y}^{2}\\right)} & \\frac{n_{y} \\left(D_{xy} n_{x} + D_{yy} n_{y}\\right)}{2 \\left(D_{xx} n_{x}^{2} + 2 D_{xy} n_{x} n_{y} + D_{yy} n_{y}^{2}\\right)}\\\\0 & - \\frac{n_{y} \\left(D_{xx} n_{x} + D_{xy} n_{y}\\right)}{n_{x} \\left(D_{xx} n_{x} + D_{xy} n_{y}\\right) + n_{y} \\left(D_{xy} n_{x} + D_{yy} n_{y}\\right)} & \\frac{n_{x} \\left(D_{xx} n_{x} + D_{xy} n_{y}\\right)}{n_{x} \\left(D_{xx} n_{x} + D_{xy} n_{y}\\right) + n_{y} \\left(D_{xy} n_{x} + D_{yy} n_{y}\\right)}\\\\- \\frac{n_{y} \\sqrt{\\frac{1}{T_{r}} \\left(D_{xx} n_{x}^{2} + 2 D_{xy} n_{x} n_{y} + D_{yy} n_{y}^{2}\\right)}}{2 D_{xx} n_{x}^{2} + 4 D_{xy} n_{x} n_{y} + 2 D_{yy} n_{y}^{2}} & \\frac{n_{y} \\left(D_{xx} n_{x} + D_{xy} n_{y}\\right)}{2 \\left(D_{xx} n_{x}^{2} + 2 D_{xy} n_{x} n_{y} + D_{yy} n_{y}^{2}\\right)} & \\frac{n_{y} \\left(D_{xy} n_{x} + D_{yy} n_{y}\\right)}{2 \\left(D_{xx} n_{x}^{2} + 2 D_{xy} n_{x} n_{y} + D_{yy} n_{y}^{2}\\right)}\\end{matrix}\\right]$$"
      ],
      "text/plain": [
       "⎡          ____________________________________________                       \n",
       "⎢         ╱          2                               2                        \n",
       "⎢        ╱  D_{xx}⋅nₓ  + 2⋅D_{xy}⋅nₓ⋅n_y + D_{yy}⋅n_y                         \n",
       "⎢ n_y⋅  ╱   ──────────────────────────────────────────                        \n",
       "⎢     ╲╱                        Tᵣ                                       n_y⋅(\n",
       "⎢ ─────────────────────────────────────────────────────         ──────────────\n",
       "⎢       ⎛         2                               2⎞              ⎛         2 \n",
       "⎢     2⋅⎝D_{xx}⋅nₓ  + 2⋅D_{xy}⋅nₓ⋅n_y + D_{yy}⋅n_y ⎠            2⋅⎝D_{xx}⋅nₓ  \n",
       "⎢                                                                             \n",
       "⎢                                                                       -n_y⋅(\n",
       "⎢                           0                             ────────────────────\n",
       "⎢                                                         nₓ⋅(D_{xx}⋅nₓ + D_{x\n",
       "⎢                                                                             \n",
       "⎢          ____________________________________________                       \n",
       "⎢         ╱          2                               2                        \n",
       "⎢        ╱  D_{xx}⋅nₓ  + 2⋅D_{xy}⋅nₓ⋅n_y + D_{yy}⋅n_y                         \n",
       "⎢-n_y⋅  ╱   ──────────────────────────────────────────                        \n",
       "⎢     ╲╱                        Tᵣ                                       n_y⋅(\n",
       "⎢───────────────────────────────────────────────────────        ──────────────\n",
       "⎢                2                                 2              ⎛         2 \n",
       "⎣     2⋅D_{xx}⋅nₓ  + 4⋅D_{xy}⋅nₓ⋅n_y + 2⋅D_{yy}⋅n_y             2⋅⎝D_{xx}⋅nₓ  \n",
       "\n",
       "                                                                              \n",
       "                                                                              \n",
       "                                                                              \n",
       "                                                                              \n",
       "D_{xx}⋅nₓ + D_{xy}⋅n_y)                                n_y⋅(D_{xy}⋅nₓ + D_{yy}\n",
       "────────────────────────────────              ────────────────────────────────\n",
       "                              2⎞                ⎛         2                   \n",
       "+ 2⋅D_{xy}⋅nₓ⋅n_y + D_{yy}⋅n_y ⎠              2⋅⎝D_{xx}⋅nₓ  + 2⋅D_{xy}⋅nₓ⋅n_y \n",
       "                                                                              \n",
       "D_{xx}⋅nₓ + D_{xy}⋅n_y)                                nₓ⋅(D_{xx}⋅nₓ + D_{xy}⋅\n",
       "──────────────────────────────────────  ──────────────────────────────────────\n",
       "y}⋅n_y) + n_y⋅(D_{xy}⋅nₓ + D_{yy}⋅n_y)  nₓ⋅(D_{xx}⋅nₓ + D_{xy}⋅n_y) + n_y⋅(D_{\n",
       "                                                                              \n",
       "                                                                              \n",
       "                                                                              \n",
       "                                                                              \n",
       "                                                                              \n",
       "D_{xx}⋅nₓ + D_{xy}⋅n_y)                                n_y⋅(D_{xy}⋅nₓ + D_{yy}\n",
       "────────────────────────────────              ────────────────────────────────\n",
       "                              2⎞                ⎛         2                   \n",
       "+ 2⋅D_{xy}⋅nₓ⋅n_y + D_{yy}⋅n_y ⎠              2⋅⎝D_{xx}⋅nₓ  + 2⋅D_{xy}⋅nₓ⋅n_y \n",
       "\n",
       "                    ⎤\n",
       "                    ⎥\n",
       "                    ⎥\n",
       "                    ⎥\n",
       "⋅n_y)               ⎥\n",
       "──────────────      ⎥\n",
       "            2⎞      ⎥\n",
       "+ D_{yy}⋅n_y ⎠      ⎥\n",
       "                    ⎥\n",
       "n_y)                ⎥\n",
       "────────────────────⎥\n",
       "xy}⋅nₓ + D_{yy}⋅n_y)⎥\n",
       "                    ⎥\n",
       "                    ⎥\n",
       "                    ⎥\n",
       "                    ⎥\n",
       "                    ⎥\n",
       "⋅n_y)               ⎥\n",
       "──────────────      ⎥\n",
       "            2⎞      ⎥\n",
       "+ D_{yy}⋅n_y ⎠      ⎦"
      ]
     },
     "execution_count": 53,
     "metadata": {},
     "output_type": "execute_result"
    }
   ],
   "source": [
    "simplify(L)"
   ]
  },
  {
   "cell_type": "markdown",
   "metadata": {},
   "source": [
    "# Verification of the procedure "
   ]
  },
  {
   "cell_type": "code",
   "execution_count": 54,
   "metadata": {},
   "outputs": [
    {
     "data": {
      "image/png": "[encoded data removed]",
      "text/latex": [
       "$$\\left[\\begin{matrix}0 & - D_{xx} n_{x} - D_{xy} n_{y} & - D_{xy} n_{x} - D_{yy} n_{y}\\\\- \\frac{n_{x}}{T_{r}} & 0 & 0\\\\- \\frac{n_{y}}{T_{r}} & 0 & 0\\end{matrix}\\right]$$"
      ],
      "text/plain": [
       "⎡  0    -D_{xx}⋅nₓ - D_{xy}⋅n_y  -D_{xy}⋅nₓ - D_{yy}⋅n_y⎤\n",
       "⎢                                                       ⎥\n",
       "⎢-nₓ                                                    ⎥\n",
       "⎢────              0                        0           ⎥\n",
       "⎢ Tᵣ                                                    ⎥\n",
       "⎢                                                       ⎥\n",
       "⎢-n_y                                                   ⎥\n",
       "⎢─────             0                        0           ⎥\n",
       "⎣  Tᵣ                                                   ⎦"
      ]
     },
     "execution_count": 54,
     "metadata": {},
     "output_type": "execute_result"
    }
   ],
   "source": [
    "simplify(R*ND*R**-1)"
   ]
  },
  {
   "cell_type": "code",
   "execution_count": 55,
   "metadata": {},
   "outputs": [
    {
     "data": {
      "image/png": "[encoded data removed]",
      "text/latex": [
       "$$\\left[\\begin{matrix}0 & - D_{xx} n_{x} - D_{xy} n_{y} & - D_{xy} n_{x} - D_{yy} n_{y}\\\\- \\frac{n_{x}}{T_{r}} & 0 & 0\\\\- \\frac{n_{y}}{T_{r}} & 0 & 0\\end{matrix}\\right]$$"
      ],
      "text/plain": [
       "⎡  0    -D_{xx}⋅nₓ - D_{xy}⋅n_y  -D_{xy}⋅nₓ - D_{yy}⋅n_y⎤\n",
       "⎢                                                       ⎥\n",
       "⎢-nₓ                                                    ⎥\n",
       "⎢────              0                        0           ⎥\n",
       "⎢ Tᵣ                                                    ⎥\n",
       "⎢                                                       ⎥\n",
       "⎢-n_y                                                   ⎥\n",
       "⎢─────             0                        0           ⎥\n",
       "⎣  Tᵣ                                                   ⎦"
      ]
     },
     "execution_count": 55,
     "metadata": {},
     "output_type": "execute_result"
    }
   ],
   "source": [
    "simplify(R*ND*L)"
   ]
  },
  {
   "cell_type": "code",
   "execution_count": 56,
   "metadata": {},
   "outputs": [
    {
     "data": {
      "image/png": "[encoded data removed]",
      "text/latex": [
       "$$\\left[\\begin{matrix}\\frac{n_{y} \\sqrt{\\frac{1}{T_{r}} \\left(D_{xx} n_{x}^{2} + 2 D_{xy} n_{x} n_{y} + D_{yy} n_{y}^{2}\\right)}}{2 \\left(D_{xx} n_{x}^{2} + 2 D_{xy} n_{x} n_{y} + D_{yy} n_{y}^{2}\\right)} & \\frac{n_{y} \\left(D_{xx} n_{x} + D_{xy} n_{y}\\right)}{2 \\left(D_{xx} n_{x}^{2} + 2 D_{xy} n_{x} n_{y} + D_{yy} n_{y}^{2}\\right)} & \\frac{n_{y} \\left(D_{xy} n_{x} + D_{yy} n_{y}\\right)}{2 \\left(D_{xx} n_{x}^{2} + 2 D_{xy} n_{x} n_{y} + D_{yy} n_{y}^{2}\\right)}\\\\0 & - \\frac{n_{y} \\left(D_{xx} n_{x} + D_{xy} n_{y}\\right)}{D_{xx} n_{x}^{2} + 2 D_{xy} n_{x} n_{y} + D_{yy} n_{y}^{2}} & \\frac{n_{x} \\left(D_{xx} n_{x} + D_{xy} n_{y}\\right)}{D_{xx} n_{x}^{2} + 2 D_{xy} n_{x} n_{y} + D_{yy} n_{y}^{2}}\\\\- \\frac{n_{y} \\sqrt{\\frac{1}{T_{r}} \\left(D_{xx} n_{x}^{2} + 2 D_{xy} n_{x} n_{y} + D_{yy} n_{y}^{2}\\right)}}{2 D_{xx} n_{x}^{2} + 4 D_{xy} n_{x} n_{y} + 2 D_{yy} n_{y}^{2}} & \\frac{n_{y} \\left(D_{xx} n_{x} + D_{xy} n_{y}\\right)}{2 \\left(D_{xx} n_{x}^{2} + 2 D_{xy} n_{x} n_{y} + D_{yy} n_{y}^{2}\\right)} & \\frac{n_{y} \\left(D_{xy} n_{x} + D_{yy} n_{y}\\right)}{2 \\left(D_{xx} n_{x}^{2} + 2 D_{xy} n_{x} n_{y} + D_{yy} n_{y}^{2}\\right)}\\end{matrix}\\right]$$"
      ],
      "text/plain": [
       "⎡          ____________________________________________                       \n",
       "⎢         ╱          2                               2                        \n",
       "⎢        ╱  D_{xx}⋅nₓ  + 2⋅D_{xy}⋅nₓ⋅n_y + D_{yy}⋅n_y                         \n",
       "⎢ n_y⋅  ╱   ──────────────────────────────────────────                        \n",
       "⎢     ╲╱                        Tᵣ                                 n_y⋅(D_{xx}\n",
       "⎢ ─────────────────────────────────────────────────────   ────────────────────\n",
       "⎢       ⎛         2                               2⎞        ⎛         2       \n",
       "⎢     2⋅⎝D_{xx}⋅nₓ  + 2⋅D_{xy}⋅nₓ⋅n_y + D_{yy}⋅n_y ⎠      2⋅⎝D_{xx}⋅nₓ  + 2⋅D_\n",
       "⎢                                                                             \n",
       "⎢                                                                 -n_y⋅(D_{xx}\n",
       "⎢                           0                               ──────────────────\n",
       "⎢                                                                    2        \n",
       "⎢                                                           D_{xx}⋅nₓ  + 2⋅D_{\n",
       "⎢                                                                             \n",
       "⎢          ____________________________________________                       \n",
       "⎢         ╱          2                               2                        \n",
       "⎢        ╱  D_{xx}⋅nₓ  + 2⋅D_{xy}⋅nₓ⋅n_y + D_{yy}⋅n_y                         \n",
       "⎢-n_y⋅  ╱   ──────────────────────────────────────────                        \n",
       "⎢     ╲╱                        Tᵣ                                 n_y⋅(D_{xx}\n",
       "⎢───────────────────────────────────────────────────────  ────────────────────\n",
       "⎢                2                                 2        ⎛         2       \n",
       "⎣     2⋅D_{xx}⋅nₓ  + 4⋅D_{xy}⋅nₓ⋅n_y + 2⋅D_{yy}⋅n_y       2⋅⎝D_{xx}⋅nₓ  + 2⋅D_\n",
       "\n",
       "                                                                          ⎤\n",
       "                                                                          ⎥\n",
       "                                                                          ⎥\n",
       "                                                                          ⎥\n",
       "⋅nₓ + D_{xy}⋅n_y)                    n_y⋅(D_{xy}⋅nₓ + D_{yy}⋅n_y)         ⎥\n",
       "──────────────────────────  ──────────────────────────────────────────────⎥\n",
       "                        2⎞    ⎛         2                               2⎞⎥\n",
       "{xy}⋅nₓ⋅n_y + D_{yy}⋅n_y ⎠  2⋅⎝D_{xx}⋅nₓ  + 2⋅D_{xy}⋅nₓ⋅n_y + D_{yy}⋅n_y ⎠⎥\n",
       "                                                                          ⎥\n",
       "⋅nₓ + D_{xy}⋅n_y)                    nₓ⋅(D_{xx}⋅nₓ + D_{xy}⋅n_y)          ⎥\n",
       "────────────────────────      ──────────────────────────────────────────  ⎥\n",
       "                       2               2                               2  ⎥\n",
       "xy}⋅nₓ⋅n_y + D_{yy}⋅n_y       D_{xx}⋅nₓ  + 2⋅D_{xy}⋅nₓ⋅n_y + D_{yy}⋅n_y   ⎥\n",
       "                                                                          ⎥\n",
       "                                                                          ⎥\n",
       "                                                                          ⎥\n",
       "                                                                          ⎥\n",
       "                                                                          ⎥\n",
       "⋅nₓ + D_{xy}⋅n_y)                    n_y⋅(D_{xy}⋅nₓ + D_{yy}⋅n_y)         ⎥\n",
       "──────────────────────────  ──────────────────────────────────────────────⎥\n",
       "                        2⎞    ⎛         2                               2⎞⎥\n",
       "{xy}⋅nₓ⋅n_y + D_{yy}⋅n_y ⎠  2⋅⎝D_{xx}⋅nₓ  + 2⋅D_{xy}⋅nₓ⋅n_y + D_{yy}⋅n_y ⎠⎦"
      ]
     },
     "execution_count": 56,
     "metadata": {},
     "output_type": "execute_result"
    }
   ],
   "source": [
    "simplify(R**-1)"
   ]
  },
  {
   "cell_type": "code",
   "execution_count": 57,
   "metadata": {},
   "outputs": [
    {
     "data": {
      "image/png": "[encoded data removed]",
      "text/latex": [
       "$$\\left[\\begin{matrix}\\frac{n_{y} \\sqrt{\\frac{1}{T_{r}} \\left(D_{xx} n_{x}^{2} + 2 D_{xy} n_{x} n_{y} + D_{yy} n_{y}^{2}\\right)}}{2 \\left(D_{xx} n_{x}^{2} + 2 D_{xy} n_{x} n_{y} + D_{yy} n_{y}^{2}\\right)} & \\frac{n_{y} \\left(D_{xx} n_{x} + D_{xy} n_{y}\\right)}{2 \\left(D_{xx} n_{x}^{2} + 2 D_{xy} n_{x} n_{y} + D_{yy} n_{y}^{2}\\right)} & \\frac{n_{y} \\left(D_{xy} n_{x} + D_{yy} n_{y}\\right)}{2 \\left(D_{xx} n_{x}^{2} + 2 D_{xy} n_{x} n_{y} + D_{yy} n_{y}^{2}\\right)}\\\\0 & - \\frac{n_{y} \\left(D_{xx} n_{x} + D_{xy} n_{y}\\right)}{n_{x} \\left(D_{xx} n_{x} + D_{xy} n_{y}\\right) + n_{y} \\left(D_{xy} n_{x} + D_{yy} n_{y}\\right)} & \\frac{n_{x} \\left(D_{xx} n_{x} + D_{xy} n_{y}\\right)}{n_{x} \\left(D_{xx} n_{x} + D_{xy} n_{y}\\right) + n_{y} \\left(D_{xy} n_{x} + D_{yy} n_{y}\\right)}\\\\- \\frac{n_{y} \\sqrt{\\frac{1}{T_{r}} \\left(D_{xx} n_{x}^{2} + 2 D_{xy} n_{x} n_{y} + D_{yy} n_{y}^{2}\\right)}}{2 D_{xx} n_{x}^{2} + 4 D_{xy} n_{x} n_{y} + 2 D_{yy} n_{y}^{2}} & \\frac{n_{y} \\left(D_{xx} n_{x} + D_{xy} n_{y}\\right)}{2 \\left(D_{xx} n_{x}^{2} + 2 D_{xy} n_{x} n_{y} + D_{yy} n_{y}^{2}\\right)} & \\frac{n_{y} \\left(D_{xy} n_{x} + D_{yy} n_{y}\\right)}{2 \\left(D_{xx} n_{x}^{2} + 2 D_{xy} n_{x} n_{y} + D_{yy} n_{y}^{2}\\right)}\\end{matrix}\\right]$$"
      ],
      "text/plain": [
       "⎡          ____________________________________________                       \n",
       "⎢         ╱          2                               2                        \n",
       "⎢        ╱  D_{xx}⋅nₓ  + 2⋅D_{xy}⋅nₓ⋅n_y + D_{yy}⋅n_y                         \n",
       "⎢ n_y⋅  ╱   ──────────────────────────────────────────                        \n",
       "⎢     ╲╱                        Tᵣ                                       n_y⋅(\n",
       "⎢ ─────────────────────────────────────────────────────         ──────────────\n",
       "⎢       ⎛         2                               2⎞              ⎛         2 \n",
       "⎢     2⋅⎝D_{xx}⋅nₓ  + 2⋅D_{xy}⋅nₓ⋅n_y + D_{yy}⋅n_y ⎠            2⋅⎝D_{xx}⋅nₓ  \n",
       "⎢                                                                             \n",
       "⎢                                                                       -n_y⋅(\n",
       "⎢                           0                             ────────────────────\n",
       "⎢                                                         nₓ⋅(D_{xx}⋅nₓ + D_{x\n",
       "⎢                                                                             \n",
       "⎢          ____________________________________________                       \n",
       "⎢         ╱          2                               2                        \n",
       "⎢        ╱  D_{xx}⋅nₓ  + 2⋅D_{xy}⋅nₓ⋅n_y + D_{yy}⋅n_y                         \n",
       "⎢-n_y⋅  ╱   ──────────────────────────────────────────                        \n",
       "⎢     ╲╱                        Tᵣ                                       n_y⋅(\n",
       "⎢───────────────────────────────────────────────────────        ──────────────\n",
       "⎢                2                                 2              ⎛         2 \n",
       "⎣     2⋅D_{xx}⋅nₓ  + 4⋅D_{xy}⋅nₓ⋅n_y + 2⋅D_{yy}⋅n_y             2⋅⎝D_{xx}⋅nₓ  \n",
       "\n",
       "                                                                              \n",
       "                                                                              \n",
       "                                                                              \n",
       "                                                                              \n",
       "D_{xx}⋅nₓ + D_{xy}⋅n_y)                                n_y⋅(D_{xy}⋅nₓ + D_{yy}\n",
       "────────────────────────────────              ────────────────────────────────\n",
       "                              2⎞                ⎛         2                   \n",
       "+ 2⋅D_{xy}⋅nₓ⋅n_y + D_{yy}⋅n_y ⎠              2⋅⎝D_{xx}⋅nₓ  + 2⋅D_{xy}⋅nₓ⋅n_y \n",
       "                                                                              \n",
       "D_{xx}⋅nₓ + D_{xy}⋅n_y)                                nₓ⋅(D_{xx}⋅nₓ + D_{xy}⋅\n",
       "──────────────────────────────────────  ──────────────────────────────────────\n",
       "y}⋅n_y) + n_y⋅(D_{xy}⋅nₓ + D_{yy}⋅n_y)  nₓ⋅(D_{xx}⋅nₓ + D_{xy}⋅n_y) + n_y⋅(D_{\n",
       "                                                                              \n",
       "                                                                              \n",
       "                                                                              \n",
       "                                                                              \n",
       "                                                                              \n",
       "D_{xx}⋅nₓ + D_{xy}⋅n_y)                                n_y⋅(D_{xy}⋅nₓ + D_{yy}\n",
       "────────────────────────────────              ────────────────────────────────\n",
       "                              2⎞                ⎛         2                   \n",
       "+ 2⋅D_{xy}⋅nₓ⋅n_y + D_{yy}⋅n_y ⎠              2⋅⎝D_{xx}⋅nₓ  + 2⋅D_{xy}⋅nₓ⋅n_y \n",
       "\n",
       "                    ⎤\n",
       "                    ⎥\n",
       "                    ⎥\n",
       "                    ⎥\n",
       "⋅n_y)               ⎥\n",
       "──────────────      ⎥\n",
       "            2⎞      ⎥\n",
       "+ D_{yy}⋅n_y ⎠      ⎥\n",
       "                    ⎥\n",
       "n_y)                ⎥\n",
       "────────────────────⎥\n",
       "xy}⋅nₓ + D_{yy}⋅n_y)⎥\n",
       "                    ⎥\n",
       "                    ⎥\n",
       "                    ⎥\n",
       "                    ⎥\n",
       "                    ⎥\n",
       "⋅n_y)               ⎥\n",
       "──────────────      ⎥\n",
       "            2⎞      ⎥\n",
       "+ D_{yy}⋅n_y ⎠      ⎦"
      ]
     },
     "execution_count": 57,
     "metadata": {},
     "output_type": "execute_result"
    }
   ],
   "source": [
    "simplify(L)"
   ]
  },
  {
   "cell_type": "markdown",
   "metadata": {},
   "source": [
    "# The absolute Jacobian is given by"
   ]
  },
  {
   "cell_type": "code",
   "execution_count": 58,
   "metadata": {},
   "outputs": [
    {
     "data": {
      "image/png": "[encoded data removed]",
      "text/latex": [
       "$$\\left[\\begin{matrix}\\left|{\\sqrt{\\frac{1}{T_{r}} \\left(D_{xx} n_{x}^{2} + 2 D_{xy} n_{x} n_{y} + D_{yy} n_{y}^{2}\\right)}}\\right| & 0 & 0\\\\0 & \\frac{n_{x} \\left(D_{xx} n_{x} + D_{xy} n_{y}\\right) \\left|{\\sqrt{\\frac{1}{T_{r}} \\left(D_{xx} n_{x}^{2} + 2 D_{xy} n_{x} n_{y} + D_{yy} n_{y}^{2}\\right)}}\\right|}{D_{xx} n_{x}^{2} + 2 D_{xy} n_{x} n_{y} + D_{yy} n_{y}^{2}} & \\frac{n_{x} \\left(D_{xy} n_{x} + D_{yy} n_{y}\\right) \\left|{\\sqrt{\\frac{1}{T_{r}} \\left(D_{xx} n_{x}^{2} + 2 D_{xy} n_{x} n_{y} + D_{yy} n_{y}^{2}\\right)}}\\right|}{D_{xx} n_{x}^{2} + 2 D_{xy} n_{x} n_{y} + D_{yy} n_{y}^{2}}\\\\0 & \\frac{n_{y} \\left(D_{xx} n_{x} + D_{xy} n_{y}\\right) \\left|{\\sqrt{\\frac{1}{T_{r}} \\left(D_{xx} n_{x}^{2} + 2 D_{xy} n_{x} n_{y} + D_{yy} n_{y}^{2}\\right)}}\\right|}{D_{xx} n_{x}^{2} + 2 D_{xy} n_{x} n_{y} + D_{yy} n_{y}^{2}} & \\frac{n_{y} \\left(D_{xy} n_{x} + D_{yy} n_{y}\\right) \\left|{\\sqrt{\\frac{1}{T_{r}} \\left(D_{xx} n_{x}^{2} + 2 D_{xy} n_{x} n_{y} + D_{yy} n_{y}^{2}\\right)}}\\right|}{D_{xx} n_{x}^{2} + 2 D_{xy} n_{x} n_{y} + D_{yy} n_{y}^{2}}\\end{matrix}\\right]$$"
      ],
      "text/plain": [
       "⎡│     ____________________________________________│                          \n",
       "⎢│    ╱          2                               2 │                          \n",
       "⎢│   ╱  D_{xx}⋅nₓ  + 2⋅D_{xy}⋅nₓ⋅n_y + D_{yy}⋅n_y  │                          \n",
       "⎢│  ╱   ────────────────────────────────────────── │                          \n",
       "⎢│╲╱                        Tᵣ                     │                          \n",
       "⎢                                                                             \n",
       "⎢                                                                             \n",
       "⎢                                                                             \n",
       "⎢                                                                             \n",
       "⎢                                                     nₓ⋅(D_{xx}⋅nₓ + D_{xy}⋅n\n",
       "⎢                                                                             \n",
       "⎢                         0                           ────────────────────────\n",
       "⎢                                                                             \n",
       "⎢                                                                        D_{xx\n",
       "⎢                                                                             \n",
       "⎢                                                                             \n",
       "⎢                                                                             \n",
       "⎢                                                                             \n",
       "⎢                                                     n_y⋅(D_{xx}⋅nₓ + D_{xy}⋅\n",
       "⎢                                                                             \n",
       "⎢                         0                           ────────────────────────\n",
       "⎢                                                                             \n",
       "⎣                                                                        D_{xx\n",
       "\n",
       "                                                                              \n",
       "                                                                              \n",
       "                                                                              \n",
       "               0                                                              \n",
       "                                                                              \n",
       "                                                                              \n",
       "    │     ____________________________________________│                       \n",
       "    │    ╱          2                               2 │                       \n",
       "    │   ╱  D_{xx}⋅nₓ  + 2⋅D_{xy}⋅nₓ⋅n_y + D_{yy}⋅n_y  │                       \n",
       "_y)⋅│  ╱   ────────────────────────────────────────── │   nₓ⋅(D_{xy}⋅nₓ + D_{y\n",
       "    │╲╱                        Tᵣ                     │                       \n",
       "───────────────────────────────────────────────────────   ────────────────────\n",
       "    2                               2                                         \n",
       "}⋅nₓ  + 2⋅D_{xy}⋅nₓ⋅n_y + D_{yy}⋅n_y                                         D\n",
       "                                                                              \n",
       "     │     ____________________________________________│                      \n",
       "     │    ╱          2                               2 │                      \n",
       "     │   ╱  D_{xx}⋅nₓ  + 2⋅D_{xy}⋅nₓ⋅n_y + D_{yy}⋅n_y  │                      \n",
       "n_y)⋅│  ╱   ────────────────────────────────────────── │  n_y⋅(D_{xy}⋅nₓ + D_{\n",
       "     │╲╱                        Tᵣ                     │                      \n",
       "────────────────────────────────────────────────────────  ────────────────────\n",
       "    2                               2                                         \n",
       "}⋅nₓ  + 2⋅D_{xy}⋅nₓ⋅n_y + D_{yy}⋅n_y                                         D\n",
       "\n",
       "                                                            ⎤\n",
       "                                                            ⎥\n",
       "                                                            ⎥\n",
       "                   0                                        ⎥\n",
       "                                                            ⎥\n",
       "                                                            ⎥\n",
       "        │     ____________________________________________│ ⎥\n",
       "        │    ╱          2                               2 │ ⎥\n",
       "        │   ╱  D_{xx}⋅nₓ  + 2⋅D_{xy}⋅nₓ⋅n_y + D_{yy}⋅n_y  │ ⎥\n",
       "y}⋅n_y)⋅│  ╱   ────────────────────────────────────────── │ ⎥\n",
       "        │╲╱                        Tᵣ                     │ ⎥\n",
       "─────────────────────────────────────────────────────────── ⎥\n",
       "        2                               2                   ⎥\n",
       "_{xx}⋅nₓ  + 2⋅D_{xy}⋅nₓ⋅n_y + D_{yy}⋅n_y                    ⎥\n",
       "                                                            ⎥\n",
       "         │     ____________________________________________│⎥\n",
       "         │    ╱          2                               2 │⎥\n",
       "         │   ╱  D_{xx}⋅nₓ  + 2⋅D_{xy}⋅nₓ⋅n_y + D_{yy}⋅n_y  │⎥\n",
       "yy}⋅n_y)⋅│  ╱   ────────────────────────────────────────── │⎥\n",
       "         │╲╱                        Tᵣ                     │⎥\n",
       "────────────────────────────────────────────────────────────⎥\n",
       "        2                               2                   ⎥\n",
       "_{xx}⋅nₓ  + 2⋅D_{xy}⋅nₓ⋅n_y + D_{yy}⋅n_y                    ⎦"
      ]
     },
     "execution_count": 58,
     "metadata": {},
     "output_type": "execute_result"
    }
   ],
   "source": [
    "simplify(R*abs(ND)*R**-1)"
   ]
  },
  {
   "cell_type": "code",
   "execution_count": 59,
   "metadata": {},
   "outputs": [
    {
     "data": {
      "image/png": "[encoded data removed]",
      "text/latex": [
       "$$\\left|{\\sqrt{\\frac{1}{T_{r}} \\left(D_{xx} n_{x}^{2} + 2 D_{xy} n_{x} n_{y} + D_{yy} n_{y}^{2}\\right)}}\\right|$$"
      ],
      "text/plain": [
       "│     ____________________________________________│\n",
       "│    ╱          2                               2 │\n",
       "│   ╱  D_{xx}⋅nₓ  + 2⋅D_{xy}⋅nₓ⋅n_y + D_{yy}⋅n_y  │\n",
       "│  ╱   ────────────────────────────────────────── │\n",
       "│╲╱                        Tᵣ                     │"
      ]
     },
     "execution_count": 59,
     "metadata": {},
     "output_type": "execute_result"
    }
   ],
   "source": [
    "abs(sqrt((nu_xx*n_x*n_x + 2*nu_xy*n_x*n_y+nu_yy*n_y*n_y)/Tr))"
   ]
  },
  {
   "cell_type": "code",
   "execution_count": 60,
   "metadata": {},
   "outputs": [
    {
     "data": {
      "image/png": "[encoded data removed]",
      "text/latex": [
       "$$\\left[\\begin{matrix}1 & 0 & 0\\\\0 & \\frac{n_{x} \\left(D_{xx} n_{x} + D_{xy} n_{y}\\right)}{D_{xx} n_{x}^{2} + 2 D_{xy} n_{x} n_{y} + D_{yy} n_{y}^{2}} & \\frac{n_{x} \\left(D_{xy} n_{x} + D_{yy} n_{y}\\right)}{D_{xx} n_{x}^{2} + 2 D_{xy} n_{x} n_{y} + D_{yy} n_{y}^{2}}\\\\0 & \\frac{n_{y} \\left(D_{xx} n_{x} + D_{xy} n_{y}\\right)}{D_{xx} n_{x}^{2} + 2 D_{xy} n_{x} n_{y} + D_{yy} n_{y}^{2}} & \\frac{n_{y} \\left(D_{xy} n_{x} + D_{yy} n_{y}\\right)}{D_{xx} n_{x}^{2} + 2 D_{xy} n_{x} n_{y} + D_{yy} n_{y}^{2}}\\end{matrix}\\right]$$"
      ],
      "text/plain": [
       "⎡1                      0                                           0         \n",
       "⎢                                                                             \n",
       "⎢          nₓ⋅(D_{xx}⋅nₓ + D_{xy}⋅n_y)                 nₓ⋅(D_{xy}⋅nₓ + D_{yy}⋅\n",
       "⎢0  ──────────────────────────────────────────  ──────────────────────────────\n",
       "⎢            2                               2           2                    \n",
       "⎢   D_{xx}⋅nₓ  + 2⋅D_{xy}⋅nₓ⋅n_y + D_{yy}⋅n_y   D_{xx}⋅nₓ  + 2⋅D_{xy}⋅nₓ⋅n_y +\n",
       "⎢                                                                             \n",
       "⎢          n_y⋅(D_{xx}⋅nₓ + D_{xy}⋅n_y)                n_y⋅(D_{xy}⋅nₓ + D_{yy}\n",
       "⎢0  ──────────────────────────────────────────  ──────────────────────────────\n",
       "⎢            2                               2           2                    \n",
       "⎣   D_{xx}⋅nₓ  + 2⋅D_{xy}⋅nₓ⋅n_y + D_{yy}⋅n_y   D_{xx}⋅nₓ  + 2⋅D_{xy}⋅nₓ⋅n_y +\n",
       "\n",
       "            ⎤\n",
       "            ⎥\n",
       "n_y)        ⎥\n",
       "────────────⎥\n",
       "           2⎥\n",
       " D_{yy}⋅n_y ⎥\n",
       "            ⎥\n",
       "⋅n_y)       ⎥\n",
       "────────────⎥\n",
       "           2⎥\n",
       " D_{yy}⋅n_y ⎦"
      ]
     },
     "execution_count": 60,
     "metadata": {},
     "output_type": "execute_result"
    }
   ],
   "source": [
    "(simplify(R*abs(ND)*R**-1)/abs(sqrt((nu_xx*n_x*n_x + 2*nu_xy*n_x*n_y+nu_yy*n_y*n_y)/Tr)))"
   ]
  },
  {
   "cell_type": "code",
   "execution_count": null,
   "metadata": {},
   "outputs": [],
   "source": []
  }
 ],
 "metadata": {
  "anaconda-cloud": {},
  "kernelspec": {
   "display_name": "Python 3",
   "language": "python",
   "name": "python3"
  },
  "language_info": {
   "codemirror_mode": {
    "name": "ipython",
    "version": 3
   },
   "file_extension": ".py",
   "mimetype": "text/x-python",
   "name": "python",
   "nbconvert_exporter": "python",
   "pygments_lexer": "ipython3",
   "version": "3.6.5"
  }
 },
 "nbformat": 4,
 "nbformat_minor": 1
}
