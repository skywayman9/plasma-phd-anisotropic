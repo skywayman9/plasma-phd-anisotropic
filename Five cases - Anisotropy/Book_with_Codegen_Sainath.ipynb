{
 "cells": [
  {
   "cell_type": "code",
   "execution_count": 1,
   "metadata": {
    "collapsed": true
   },
   "outputs": [],
   "source": [
    "from sympy import *\n",
    "# init_session()\n",
    "init_printing()"
   ]
  },
  {
   "cell_type": "markdown",
   "metadata": {},
   "source": [
    "## Anisotrpic Diffusion, Manufactured solutions and computation of magnetic field angle through streamfunction"
   ]
  },
  {
   "cell_type": "markdown",
   "metadata": {},
   "source": [
    "Poisson Equation: Substitute\n",
    "$u_{exact}$ is the exact solution\n",
    "    $u_{exact} = sin(x)+ cos(y)$ into the Poisson equation, $u_{xx}+u_{yy} =f$,to get\n",
    "                    \\begin{equation}\n",
    "                    − sin x − cos y = f,\n",
    "                    \\end{equation}\n",
    "which suggests to define $f = − sin x − cos y.$\n",
    "\n",
    "Therefore, the Poisson equation, $u_{xx}+u_{yy} =f$ with $f =−sinx−cosy$, has the following exact solution,\n",
    "\n",
    "\\begin{equation}\n",
    "u = sin x + cos y.\n",
    "\\end{equation}"
   ]
  },
  {
   "cell_type": "markdown",
   "metadata": {},
   "source": [
    "Only Dirichlet boundary conditions.\n",
    "Take any function and substitute it into a governing equation you want to solve, and whatever remains is the source term. In this way, you can come up with an exact solution to any equation by introducing a source term. \n",
    "\n",
    "Streamfunction computation is in another MATLAB code (Well, now it is easy and is part of the Python/FORTRAN code)\n",
    "\n",
    "\n",
    "$\\psi$ is the Streamfunction\n",
    "\\begin{equation}\n",
    "\\psi = cos(\\pi x) cos(\\pi y)\n",
    "\\end{equation}\n",
    "\n",
    "\n",
    "\\begin{equation}\n",
    "B_x = \\partial\\psi/\\partial y  = -\\pi cos(\\pi x) sin(\\pi y) \n",
    "\\end{equation}\n",
    "\n",
    "\n",
    "\\begin{equation}\n",
    "B_y = -\\partial\\psi/\\partial x  = \\pi sin(\\pi x) cos(\\pi y).\n",
    "\\end{equation}"
   ]
  },
  {
   "cell_type": "code",
   "execution_count": 2,
   "metadata": {
    "collapsed": true
   },
   "outputs": [],
   "source": [
    "from sympy.abc import rho, beta, nu\n",
    "from sympy.utilities.codegen import codegen\n",
    "%matplotlib inline\n",
    "import matplotlib.pyplot as plt\n",
    "plt.style.use('seaborn-whitegrid')\n",
    "import numpy as np\n",
    "\n",
    "# import sys\n",
    "# import mpmath\n",
    "# sys.modules['sympy.mpmath'] = mpmath\n",
    "rho, u, c, s = symbols('rho u c s')\n",
    "gamma,h, theta = symbols('gamma h \\theta')\n",
    "\n",
    "T_e,phi,n_e = symbols('T_{e} \\phi n_e')\n",
    "\n",
    "D_para, D_per, nu_col = symbols('D_para D_perp \\eta_{col}')\n",
    "u_x = symbols(' u_{x}')\n",
    "deb,mu,B = symbols ('\\lambda_{D} \\mu B')\n",
    "\n",
    "x ,y,a,b = symbols('x y a b')\n"
   ]
  },
  {
   "cell_type": "markdown",
   "metadata": {},
   "source": [
    "# 1. Simple Test case of Kuzmin JCP 2009\n",
    "https://www.sciencedirect.com/science/article/pii/S0021999109000552"
   ]
  },
  {
   "cell_type": "code",
   "execution_count": 3,
   "metadata": {},
   "outputs": [
    {
     "data": {
      "image/png": "[encoded data removed]",
      "text/latex": [
       "$$\\frac{1}{2} \\left(D_{para} + 1\\right) \\sin{\\left (\\pi x \\right )} \\sin{\\left (\\pi y \\right )}$$"
      ],
      "text/plain": [
       "(Dₚₐᵣₐ + 1)⋅sin(π⋅x)⋅sin(π⋅y)\n",
       "─────────────────────────────\n",
       "              2              "
      ]
     },
     "execution_count": 3,
     "metadata": {},
     "output_type": "execute_result"
    }
   ],
   "source": [
    "t=sin(pi*x)*sin(pi*y)*(1/(2*pi**2))\n",
    "D = Matrix ([[D_para,0],\n",
    "             [0,1]])\n",
    "tx=diff(t,x)\n",
    "txx=diff(tx,x)\n",
    "ty=diff(t,y)\n",
    "tyy=diff(ty,y)\n",
    "delT=Matrix ([[tx], [ty]])\n",
    "DdelT=-D*(delT)\n",
    "simplify(DdelT)\n",
    "simple=((diff((DdelT[0]),x))+(diff((DdelT[1]),y)))\n",
    "simplify(simple)"
   ]
  },
  {
   "cell_type": "code",
   "execution_count": 4,
   "metadata": {},
   "outputs": [
    {
     "name": "stdout",
     "output_type": "stream",
     "text": [
      "!******************************************************************************\n",
      "!*                      Code generated with sympy 1.1.1                       *\n",
      "!*                                                                            *\n",
      "!*              See http://www.sympy.org/ for more information.               *\n",
      "!*                                                                            *\n",
      "!*                       This file is part of 'project'                       *\n",
      "!******************************************************************************\n",
      "\n",
      "REAL*8 function my_function(D_para, x, y)\n",
      "implicit none\n",
      "REAL*8, intent(in) :: D_para\n",
      "REAL*8, intent(in) :: x\n",
      "REAL*8, intent(in) :: y\n",
      "\n",
      "my_function = (1.0d0/2.0d0)*(D_para + 1)*sin(3.14159265358979d0*x)*sin( &\n",
      "      3.14159265358979d0*y)\n",
      "\n",
      "end function\n",
      "\n"
     ]
    }
   ],
   "source": [
    "result = codegen(('my_function', simplify(simple)), 'f95', 'my_project')\n",
    "print ( result[0][1])"
   ]
  },
  {
   "cell_type": "code",
   "execution_count": 5,
   "metadata": {},
   "outputs": [
    {
     "data": {
      "image/png": "[encoded data removed]",
      "text/latex": [
       "$$\\frac{1}{2 \\pi} \\sin{\\left (\\pi y \\right )} \\cos{\\left (\\pi x \\right )}$$"
      ],
      "text/plain": [
       "sin(π⋅y)⋅cos(π⋅x)\n",
       "─────────────────\n",
       "       2⋅π       "
      ]
     },
     "execution_count": 5,
     "metadata": {},
     "output_type": "execute_result"
    }
   ],
   "source": [
    "tx"
   ]
  },
  {
   "cell_type": "code",
   "execution_count": 6,
   "metadata": {},
   "outputs": [
    {
     "name": "stdout",
     "output_type": "stream",
     "text": [
      "!******************************************************************************\n",
      "!*                      Code generated with sympy 1.1.1                       *\n",
      "!*                                                                            *\n",
      "!*              See http://www.sympy.org/ for more information.               *\n",
      "!*                                                                            *\n",
      "!*                       This file is part of 'project'                       *\n",
      "!******************************************************************************\n",
      "\n",
      "REAL*8 function my_function(x, y)\n",
      "implicit none\n",
      "REAL*8, intent(in) :: x\n",
      "REAL*8, intent(in) :: y\n",
      "\n",
      "REAL*8, parameter :: pi = 3.14159265358979d0\n",
      "my_function = (1.0d0/2.0d0)*sin(3.14159265358979d0*y)*cos( &\n",
      "      3.14159265358979d0*x)/pi\n",
      "\n",
      "end function\n",
      "\n"
     ]
    }
   ],
   "source": [
    "result = codegen(('my_function', simplify(tx)), 'f95', 'my_project')\n",
    "print ( result[0][1])"
   ]
  },
  {
   "cell_type": "code",
   "execution_count": 7,
   "metadata": {},
   "outputs": [
    {
     "data": {
      "image/png": "[encoded data removed]",
      "text/latex": [
       "$$\\frac{1}{2 \\pi} \\sin{\\left (\\pi x \\right )} \\cos{\\left (\\pi y \\right )}$$"
      ],
      "text/plain": [
       "sin(π⋅x)⋅cos(π⋅y)\n",
       "─────────────────\n",
       "       2⋅π       "
      ]
     },
     "execution_count": 7,
     "metadata": {},
     "output_type": "execute_result"
    }
   ],
   "source": [
    "ty\n"
   ]
  },
  {
   "cell_type": "code",
   "execution_count": 8,
   "metadata": {},
   "outputs": [
    {
     "name": "stdout",
     "output_type": "stream",
     "text": [
      "!******************************************************************************\n",
      "!*                      Code generated with sympy 1.1.1                       *\n",
      "!*                                                                            *\n",
      "!*              See http://www.sympy.org/ for more information.               *\n",
      "!*                                                                            *\n",
      "!*                       This file is part of 'project'                       *\n",
      "!******************************************************************************\n",
      "\n",
      "REAL*8 function my_function(x, y)\n",
      "implicit none\n",
      "REAL*8, intent(in) :: x\n",
      "REAL*8, intent(in) :: y\n",
      "\n",
      "REAL*8, parameter :: pi = 3.14159265358979d0\n",
      "my_function = (1.0d0/2.0d0)*sin(3.14159265358979d0*x)*cos( &\n",
      "      3.14159265358979d0*y)/pi\n",
      "\n",
      "end function\n",
      "\n"
     ]
    }
   ],
   "source": [
    "result = codegen(('my_function', simplify(ty)), 'f95', 'my_project')\n",
    "print ( result[0][1])"
   ]
  },
  {
   "cell_type": "code",
   "execution_count": 9,
   "metadata": {},
   "outputs": [
    {
     "data": {
      "image/png": "[encoded data removed]",
      "text/latex": [
       "$$\\left[\\begin{matrix}D_{para} & 0\\\\0 & 1\\end{matrix}\\right]$$"
      ],
      "text/plain": [
       "⎡Dₚₐᵣₐ  0⎤\n",
       "⎢        ⎥\n",
       "⎣  0    1⎦"
      ]
     },
     "execution_count": 9,
     "metadata": {},
     "output_type": "execute_result"
    }
   ],
   "source": [
    "simplify(D)"
   ]
  },
  {
   "cell_type": "code",
   "execution_count": 10,
   "metadata": {
    "scrolled": true
   },
   "outputs": [
    {
     "name": "stdout",
     "output_type": "stream",
     "text": [
      "!******************************************************************************\n",
      "!*                      Code generated with sympy 1.1.1                       *\n",
      "!*                                                                            *\n",
      "!*              See http://www.sympy.org/ for more information.               *\n",
      "!*                                                                            *\n",
      "!*                       This file is part of 'project'                       *\n",
      "!******************************************************************************\n",
      "\n",
      "subroutine my_function(D_para, out_1654158974128299383)\n",
      "implicit none\n",
      "REAL*8, intent(in) :: D_para\n",
      "REAL*8, intent(out), dimension(1:2, 1:2) :: out_1654158974128299383\n",
      "\n",
      "out_1654158974128299383(1, 1) = D_para\n",
      "out_1654158974128299383(2, 1) = 0\n",
      "out_1654158974128299383(1, 2) = 0\n",
      "out_1654158974128299383(2, 2) = 1\n",
      "\n",
      "end subroutine\n",
      "\n"
     ]
    }
   ],
   "source": [
    "result = codegen(('my_function', simplify(D)), 'f95', 'my_project')\n",
    "print ( result[0][1])"
   ]
  },
  {
   "cell_type": "markdown",
   "metadata": {},
   "source": [
    "## 2a. Van Es example -1 JCP 2014 test cases\n",
    "https://www.sciencedirect.com/science/article/pii/S0021999114003155"
   ]
  },
  {
   "cell_type": "markdown",
   "metadata": {},
   "source": [
    "# Constant angle of misalignment Example 1"
   ]
  },
  {
   "cell_type": "code",
   "execution_count": 11,
   "metadata": {
    "scrolled": true
   },
   "outputs": [
    {
     "data": {
      "image/png": "[encoded data removed]",
      "text/latex": [
       "$$\\frac{\\left(\\sin{\\left (\\pi x \\right )} \\sin{\\left (\\pi y \\right )}\\right)^{\\gamma}}{\\sin^{2}{\\left (\\pi x \\right )} \\sin^{2}{\\left (\\pi y \\right )}} \\left(- \\frac{\\pi \\gamma}{2} x \\left(D_{para} \\sin^{2}{\\left (\\beta \\right )} + \\cos^{2}{\\left (\\beta \\right )}\\right) \\left(\\pi \\gamma y \\cos{\\left (2 \\pi y \\right )} + \\pi \\gamma y - 2 \\pi y + 2 \\sin{\\left (2 \\pi y \\right )}\\right) \\sin^{2}{\\left (\\pi x \\right )} + \\frac{\\pi \\gamma}{2} y \\left(- D_{para} \\cos^{2}{\\left (\\beta \\right )} + \\cos^{2}{\\left (\\beta \\right )} - 1\\right) \\left(\\pi \\gamma x \\cos{\\left (2 \\pi x \\right )} + \\pi \\gamma x - 2 \\pi x + 2 \\sin{\\left (2 \\pi x \\right )}\\right) \\sin^{2}{\\left (\\pi y \\right )} + 2 \\left(- D_{para} + 1\\right) \\left(\\pi^{2} \\gamma^{2} x y \\cos{\\left (\\pi x \\right )} \\cos{\\left (\\pi y \\right )} + \\pi \\gamma x \\sin{\\left (\\pi y \\right )} \\cos{\\left (\\pi x \\right )} + \\pi \\gamma y \\sin{\\left (\\pi x \\right )} \\cos{\\left (\\pi y \\right )} + \\sin{\\left (\\pi x \\right )} \\sin{\\left (\\pi y \\right )}\\right) \\sin{\\left (\\beta \\right )} \\sin{\\left (\\pi x \\right )} \\sin{\\left (\\pi y \\right )} \\cos{\\left (\\beta \\right )}\\right)$$"
      ],
      "text/plain": [
       "                     ⎛        ⎛         2         2   ⎞                       \n",
       "                   γ ⎜  π⋅γ⋅x⋅⎝Dₚₐᵣₐ⋅sin (β) + cos (β)⎠⋅(π⋅γ⋅y⋅cos(2⋅π⋅y) + π⋅\n",
       "(sin(π⋅x)⋅sin(π⋅y)) ⋅⎜- ──────────────────────────────────────────────────────\n",
       "                     ⎝                                               2        \n",
       "──────────────────────────────────────────────────────────────────────────────\n",
       "                                                                              \n",
       "                                                                              \n",
       "\n",
       "                               2              ⎛           2         2       ⎞ \n",
       "γ⋅y - 2⋅π⋅y + 2⋅sin(2⋅π⋅y))⋅sin (π⋅x)   π⋅γ⋅y⋅⎝- Dₚₐᵣₐ⋅cos (β) + cos (β) - 1⎠⋅\n",
       "───────────────────────────────────── + ──────────────────────────────────────\n",
       "                                                                              \n",
       "──────────────────────────────────────────────────────────────────────────────\n",
       "                                                                              \n",
       "                                                                              \n",
       "\n",
       "                                                     2                        \n",
       "(π⋅γ⋅x⋅cos(2⋅π⋅x) + π⋅γ⋅x - 2⋅π⋅x + 2⋅sin(2⋅π⋅x))⋅sin (π⋅y)                  ⎛\n",
       "─────────────────────────────────────────────────────────── + 2⋅(-Dₚₐᵣₐ + 1)⋅⎝\n",
       "          2                                                                   \n",
       "──────────────────────────────────────────────────────────────────────────────\n",
       "                     2         2                                              \n",
       "                  sin (π⋅x)⋅sin (π⋅y)                                         \n",
       "\n",
       "                                                                              \n",
       " 2  2                                                                         \n",
       "π ⋅γ ⋅x⋅y⋅cos(π⋅x)⋅cos(π⋅y) + π⋅γ⋅x⋅sin(π⋅y)⋅cos(π⋅x) + π⋅γ⋅y⋅sin(π⋅x)⋅cos(π⋅y\n",
       "                                                                              \n",
       "──────────────────────────────────────────────────────────────────────────────\n",
       "                                                                              \n",
       "                                                                              \n",
       "\n",
       "                                                      ⎞\n",
       "                     ⎞                                ⎟\n",
       ") + sin(π⋅x)⋅sin(π⋅y)⎠⋅sin(β)⋅sin(π⋅x)⋅sin(π⋅y)⋅cos(β)⎟\n",
       "                                                      ⎠\n",
       "───────────────────────────────────────────────────────\n",
       "                                                       \n",
       "                                                       "
      ]
     },
     "execution_count": 11,
     "metadata": {},
     "output_type": "execute_result"
    }
   ],
   "source": [
    "t = x*y*((sin(pi*x)*sin(pi*y)))**gamma\n",
    "\n",
    "# t = ((sin(pi*x)*cos(pi*y)))**1\n",
    "\n",
    "U = Matrix ([[D_para,0],\n",
    "             [0,1]])\n",
    "R = Matrix ([[cos(beta),sin(beta)],\n",
    "             [-sin(beta),cos(beta)]])\n",
    "# R = Matrix ([[np.cos(45*3.14592/180),np.sin(45*3.14592/180)],\n",
    "#              [-np.sin(45*3.14592/180),np.cos(45*3.14592/180)]])\n",
    "tx=diff(t,x)\n",
    "txx=diff(tx,x)\n",
    "ty=diff(t,y)\n",
    "tyy=diff(t,y)\n",
    "D=R**-1*U*R\n",
    "\n",
    "delT=Matrix ([[tx], [ty]])\n",
    "DdelT=-D*(delT)\n",
    "simplify(DdelT)\n",
    "source=((diff((DdelT[0]),x))+(diff((DdelT[1]),y)))\n",
    "simplify(source)"
   ]
  },
  {
   "cell_type": "code",
   "execution_count": 12,
   "metadata": {
    "scrolled": true
   },
   "outputs": [
    {
     "name": "stdout",
     "output_type": "stream",
     "text": [
      "!******************************************************************************\n",
      "!*                      Code generated with sympy 1.1.1                       *\n",
      "!*                                                                            *\n",
      "!*              See http://www.sympy.org/ for more information.               *\n",
      "!*                                                                            *\n",
      "!*                       This file is part of 'project'                       *\n",
      "!******************************************************************************\n",
      "\n",
      "REAL*8 function my_function(D_para, beta, gamma, x, y)\n",
      "implicit none\n",
      "REAL*8, intent(in) :: D_para\n",
      "REAL*8, intent(in) :: beta\n",
      "REAL*8, intent(in) :: gamma\n",
      "REAL*8, intent(in) :: x\n",
      "REAL*8, intent(in) :: y\n",
      "\n",
      "REAL*8, parameter :: pi = 3.14159265358979d0\n",
      "my_function = (sin(3.14159265358979d0*x)*sin(3.14159265358979d0*y))** &\n",
      "      gamma*(-1.0d0/2.0d0*pi*gamma*x*(D_para*sin(beta)**2 + cos(beta)** &\n",
      "      2)*(pi*gamma*y*cos(6.28318530717959d0*y) + pi*gamma*y - 2*pi*y + &\n",
      "      2*sin(6.28318530717959d0*y))*sin(3.14159265358979d0*x)**2 + ( &\n",
      "      1.0d0/2.0d0)*pi*gamma*y*(-D_para*cos(beta)**2 + cos(beta)**2 - 1) &\n",
      "      *(pi*gamma*x*cos(6.28318530717959d0*x) + pi*gamma*x - 2*pi*x + 2* &\n",
      "      sin(6.28318530717959d0*x))*sin(3.14159265358979d0*y)**2 + 2*( &\n",
      "      -D_para + 1)*(pi**2*gamma**2*x*y*cos(3.14159265358979d0*x)*cos( &\n",
      "      3.14159265358979d0*y) + pi*gamma*x*sin(3.14159265358979d0*y)*cos( &\n",
      "      3.14159265358979d0*x) + pi*gamma*y*sin(3.14159265358979d0*x)*cos( &\n",
      "      3.14159265358979d0*y) + sin(3.14159265358979d0*x)*sin( &\n",
      "      3.14159265358979d0*y))*sin(beta)*sin(3.14159265358979d0*x)*sin( &\n",
      "      3.14159265358979d0*y)*cos(beta))/(sin(3.14159265358979d0*x)**2* &\n",
      "      sin(3.14159265358979d0*y)**2)\n",
      "\n",
      "end function\n",
      "\n"
     ]
    }
   ],
   "source": [
    "result = codegen(('my_function', simplify(source)), 'f95', 'my_project')\n",
    "print ( result[0][1])"
   ]
  },
  {
   "cell_type": "code",
   "execution_count": 13,
   "metadata": {},
   "outputs": [
    {
     "data": {
      "image/png": "[encoded data removed]",
      "text/latex": [
       "$$\\left[\\begin{matrix}D_{para} \\cos^{2}{\\left (\\beta \\right )} + \\sin^{2}{\\left (\\beta \\right )} & \\frac{1}{2} \\left(D_{para} - 1\\right) \\sin{\\left (2 \\beta \\right )}\\\\\\frac{1}{2} \\left(D_{para} - 1\\right) \\sin{\\left (2 \\beta \\right )} & D_{para} \\sin^{2}{\\left (\\beta \\right )} + \\cos^{2}{\\left (\\beta \\right )}\\end{matrix}\\right]$$"
      ],
      "text/plain": [
       "⎡         2         2      (Dₚₐᵣₐ - 1)⋅sin(2⋅β)  ⎤\n",
       "⎢Dₚₐᵣₐ⋅cos (β) + sin (β)   ────────────────────  ⎥\n",
       "⎢                                   2            ⎥\n",
       "⎢                                                ⎥\n",
       "⎢ (Dₚₐᵣₐ - 1)⋅sin(2⋅β)             2         2   ⎥\n",
       "⎢ ────────────────────    Dₚₐᵣₐ⋅sin (β) + cos (β)⎥\n",
       "⎣          2                                     ⎦"
      ]
     },
     "execution_count": 13,
     "metadata": {},
     "output_type": "execute_result"
    }
   ],
   "source": [
    "simplify(D)"
   ]
  },
  {
   "cell_type": "code",
   "execution_count": 14,
   "metadata": {},
   "outputs": [
    {
     "name": "stdout",
     "output_type": "stream",
     "text": [
      "!******************************************************************************\n",
      "!*                      Code generated with sympy 1.1.1                       *\n",
      "!*                                                                            *\n",
      "!*              See http://www.sympy.org/ for more information.               *\n",
      "!*                                                                            *\n",
      "!*                       This file is part of 'project'                       *\n",
      "!******************************************************************************\n",
      "\n",
      "subroutine my_function(D_para, beta, out_7743498222860489354)\n",
      "implicit none\n",
      "REAL*8, intent(in) :: D_para\n",
      "REAL*8, intent(in) :: beta\n",
      "REAL*8, intent(out), dimension(1:2, 1:2) :: out_7743498222860489354\n",
      "\n",
      "out_7743498222860489354(1, 1) = D_para*cos(beta)**2 + sin(beta)**2\n",
      "out_7743498222860489354(2, 1) = (1.0d0/2.0d0)*(D_para - 1)*sin(2.0d0* &\n",
      "      beta)\n",
      "out_7743498222860489354(1, 2) = (1.0d0/2.0d0)*(D_para - 1)*sin(2.0d0* &\n",
      "      beta)\n",
      "out_7743498222860489354(2, 2) = D_para*sin(beta)**2 + cos(beta)**2\n",
      "\n",
      "end subroutine\n",
      "\n"
     ]
    }
   ],
   "source": [
    "result = codegen(('my_function', simplify(D)), 'f95', 'my_project')\n",
    "print ( result[0][1])"
   ]
  },
  {
   "cell_type": "code",
   "execution_count": 15,
   "metadata": {},
   "outputs": [
    {
     "data": {
      "image/png": "[encoded data removed]",
      "text/latex": [
       "$$\\frac{\\pi \\gamma x y \\cos{\\left (\\pi x \\right )}}{\\sin{\\left (\\pi x \\right )}} \\left(\\sin{\\left (\\pi x \\right )} \\sin{\\left (\\pi y \\right )}\\right)^{\\gamma} + y \\left(\\sin{\\left (\\pi x \\right )} \\sin{\\left (\\pi y \\right )}\\right)^{\\gamma}$$"
      ],
      "text/plain": [
       "                           γ                                  \n",
       "π⋅γ⋅x⋅y⋅(sin(π⋅x)⋅sin(π⋅y)) ⋅cos(π⋅x)                        γ\n",
       "───────────────────────────────────── + y⋅(sin(π⋅x)⋅sin(π⋅y)) \n",
       "               sin(π⋅x)                                       "
      ]
     },
     "execution_count": 15,
     "metadata": {},
     "output_type": "execute_result"
    }
   ],
   "source": [
    "tx"
   ]
  },
  {
   "cell_type": "code",
   "execution_count": 16,
   "metadata": {},
   "outputs": [
    {
     "name": "stdout",
     "output_type": "stream",
     "text": [
      "!******************************************************************************\n",
      "!*                      Code generated with sympy 1.1.1                       *\n",
      "!*                                                                            *\n",
      "!*              See http://www.sympy.org/ for more information.               *\n",
      "!*                                                                            *\n",
      "!*                       This file is part of 'project'                       *\n",
      "!******************************************************************************\n",
      "\n",
      "REAL*8 function my_function(gamma, x, y)\n",
      "implicit none\n",
      "REAL*8, intent(in) :: gamma\n",
      "REAL*8, intent(in) :: x\n",
      "REAL*8, intent(in) :: y\n",
      "\n",
      "REAL*8, parameter :: pi = 3.14159265358979d0\n",
      "my_function = y*(sin(3.14159265358979d0*x)*sin(3.14159265358979d0*y))** &\n",
      "      gamma*(pi*gamma*x/tan(3.14159265358979d0*x) + 1)\n",
      "\n",
      "end function\n",
      "\n"
     ]
    }
   ],
   "source": [
    "result = codegen(('my_function', simplify(tx)), 'f95', 'my_project')\n",
    "print ( result[0][1])"
   ]
  },
  {
   "cell_type": "code",
   "execution_count": 17,
   "metadata": {},
   "outputs": [
    {
     "data": {
      "image/png": "[encoded data removed]",
      "text/latex": [
       "$$\\frac{\\pi \\gamma x y \\cos{\\left (\\pi y \\right )}}{\\sin{\\left (\\pi y \\right )}} \\left(\\sin{\\left (\\pi x \\right )} \\sin{\\left (\\pi y \\right )}\\right)^{\\gamma} + x \\left(\\sin{\\left (\\pi x \\right )} \\sin{\\left (\\pi y \\right )}\\right)^{\\gamma}$$"
      ],
      "text/plain": [
       "                           γ                                  \n",
       "π⋅γ⋅x⋅y⋅(sin(π⋅x)⋅sin(π⋅y)) ⋅cos(π⋅y)                        γ\n",
       "───────────────────────────────────── + x⋅(sin(π⋅x)⋅sin(π⋅y)) \n",
       "               sin(π⋅y)                                       "
      ]
     },
     "execution_count": 17,
     "metadata": {},
     "output_type": "execute_result"
    }
   ],
   "source": [
    "ty"
   ]
  },
  {
   "cell_type": "code",
   "execution_count": 18,
   "metadata": {},
   "outputs": [
    {
     "name": "stdout",
     "output_type": "stream",
     "text": [
      "!******************************************************************************\n",
      "!*                      Code generated with sympy 1.1.1                       *\n",
      "!*                                                                            *\n",
      "!*              See http://www.sympy.org/ for more information.               *\n",
      "!*                                                                            *\n",
      "!*                       This file is part of 'project'                       *\n",
      "!******************************************************************************\n",
      "\n",
      "REAL*8 function my_function(gamma, x, y)\n",
      "implicit none\n",
      "REAL*8, intent(in) :: gamma\n",
      "REAL*8, intent(in) :: x\n",
      "REAL*8, intent(in) :: y\n",
      "\n",
      "REAL*8, parameter :: pi = 3.14159265358979d0\n",
      "my_function = x*(sin(3.14159265358979d0*x)*sin(3.14159265358979d0*y))** &\n",
      "      gamma*(pi*gamma*y/tan(3.14159265358979d0*y) + 1)\n",
      "\n",
      "end function\n",
      "\n"
     ]
    }
   ],
   "source": [
    "result = codegen(('my_function', simplify(ty)), 'f95', 'my_project')\n",
    "print ( result[0][1])"
   ]
  },
  {
   "cell_type": "markdown",
   "metadata": {},
   "source": [
    "## 2b. Test case with high temperature gradient\n",
    "https://www.sciencedirect.com/science/article/pii/S0021999115007810\n",
    "\n",
    "Example 4.4"
   ]
  },
  {
   "cell_type": "code",
   "execution_count": 19,
   "metadata": {
    "scrolled": true
   },
   "outputs": [
    {
     "data": {
      "image/png": "[encoded data removed]",
      "text/latex": [
       "$$\\frac{2 \\gamma e^{2^{\\frac{1}{2 \\gamma}} - 2^{\\gamma} \\left(x^{2} + y^{2}\\right)^{\\gamma}}}{\\left(x^{2} + y^{2}\\right)^{2} \\left(e^{2^{\\frac{1}{2 \\gamma}}} - 1\\right)} \\left(- 2 \\cdot 2^{2 \\gamma} D_{para} \\gamma x y \\left(x^{2} + y^{2}\\right)^{2 \\gamma} \\sin{\\left (2 \\beta \\right )} + 2 \\cdot 2^{2 \\gamma} \\gamma x y \\left(x^{2} + y^{2}\\right)^{2 \\gamma} \\sin{\\left (2 \\beta \\right )} + 2 \\cdot 2^{\\gamma} D_{para} \\gamma x y \\left(x^{2} + y^{2}\\right)^{\\gamma} \\sin{\\left (2 \\beta \\right )} - 2 \\cdot 2^{\\gamma} D_{para} x y \\left(x^{2} + y^{2}\\right)^{\\gamma} \\sin{\\left (2 \\beta \\right )} - 2 \\cdot 2^{\\gamma} \\gamma x y \\left(x^{2} + y^{2}\\right)^{\\gamma} \\sin{\\left (2 \\beta \\right )} + 2 \\cdot 2^{\\gamma} x y \\left(x^{2} + y^{2}\\right)^{\\gamma} \\sin{\\left (2 \\beta \\right )} - 4^{\\gamma} D_{para} \\gamma x^{2} \\left(x^{2} + y^{2}\\right)^{2 \\gamma} \\cos{\\left (2 \\beta \\right )} - 4^{\\gamma} D_{para} \\gamma x^{2} \\left(x^{2} + y^{2}\\right)^{2 \\gamma} + 4^{\\gamma} D_{para} \\gamma y^{2} \\left(x^{2} + y^{2}\\right)^{2 \\gamma} \\cos{\\left (2 \\beta \\right )} - 4^{\\gamma} D_{para} \\gamma y^{2} \\left(x^{2} + y^{2}\\right)^{2 \\gamma} + 4^{\\gamma} \\gamma x^{2} \\left(x^{2} + y^{2}\\right)^{2 \\gamma} \\cos{\\left (2 \\beta \\right )} - 4^{\\gamma} \\gamma x^{2} \\left(x^{2} + y^{2}\\right)^{2 \\gamma} - 4^{\\gamma} \\gamma y^{2} \\left(x^{2} + y^{2}\\right)^{2 \\gamma} \\cos{\\left (2 \\beta \\right )} - 4^{\\gamma} \\gamma y^{2} \\left(x^{2} + y^{2}\\right)^{2 \\gamma} + D_{para} \\gamma x^{2} \\left(2 x^{2} + 2 y^{2}\\right)^{\\gamma} \\cos{\\left (2 \\beta \\right )} + D_{para} \\gamma x^{2} \\left(2 x^{2} + 2 y^{2}\\right)^{\\gamma} - D_{para} \\gamma y^{2} \\left(2 x^{2} + 2 y^{2}\\right)^{\\gamma} \\cos{\\left (2 \\beta \\right )} + D_{para} \\gamma y^{2} \\left(2 x^{2} + 2 y^{2}\\right)^{\\gamma} - D_{para} x^{2} \\left(2 x^{2} + 2 y^{2}\\right)^{\\gamma} \\cos{\\left (2 \\beta \\right )} + D_{para} y^{2} \\left(2 x^{2} + 2 y^{2}\\right)^{\\gamma} \\cos{\\left (2 \\beta \\right )} - \\gamma x^{2} \\left(2 x^{2} + 2 y^{2}\\right)^{\\gamma} \\cos{\\left (2 \\beta \\right )} + \\gamma x^{2} \\left(2 x^{2} + 2 y^{2}\\right)^{\\gamma} + \\gamma y^{2} \\left(2 x^{2} + 2 y^{2}\\right)^{\\gamma} \\cos{\\left (2 \\beta \\right )} + \\gamma y^{2} \\left(2 x^{2} + 2 y^{2}\\right)^{\\gamma} + x^{2} \\left(2 x^{2} + 2 y^{2}\\right)^{\\gamma} \\cos{\\left (2 \\beta \\right )} - y^{2} \\left(2 x^{2} + 2 y^{2}\\right)^{\\gamma} \\cos{\\left (2 \\beta \\right )}\\right)$$"
      ],
      "text/plain": [
       "                                                                              \n",
       "                                                                              \n",
       "    ⎛                              2⋅γ                                  2⋅γ   \n",
       "    ⎜     2⋅γ             ⎛ 2    2⎞                  2⋅γ       ⎛ 2    2⎞      \n",
       "2⋅γ⋅⎝- 2⋅2   ⋅Dₚₐᵣₐ⋅γ⋅x⋅y⋅⎝x  + y ⎠   ⋅sin(2⋅β) + 2⋅2   ⋅γ⋅x⋅y⋅⎝x  + y ⎠   ⋅si\n",
       "──────────────────────────────────────────────────────────────────────────────\n",
       "                                                                              \n",
       "                                                                              \n",
       "                                                                              \n",
       "                                                                              \n",
       "                                                                              \n",
       "\n",
       "                                                                              \n",
       "                                                                              \n",
       "                                   γ                                    γ     \n",
       "            γ             ⎛ 2    2⎞                γ           ⎛ 2    2⎞      \n",
       "n(2⋅β) + 2⋅2 ⋅Dₚₐᵣₐ⋅γ⋅x⋅y⋅⎝x  + y ⎠ ⋅sin(2⋅β) - 2⋅2 ⋅Dₚₐᵣₐ⋅x⋅y⋅⎝x  + y ⎠ ⋅sin(\n",
       "──────────────────────────────────────────────────────────────────────────────\n",
       "                                                                              \n",
       "                                                                              \n",
       "                                                                              \n",
       "                                                                              \n",
       "                                                                              \n",
       "\n",
       "                                                                              \n",
       "                                                                              \n",
       "                           γ                              γ                   \n",
       "          γ       ⎛ 2    2⎞                γ     ⎛ 2    2⎞              γ     \n",
       "2⋅β) - 2⋅2 ⋅γ⋅x⋅y⋅⎝x  + y ⎠ ⋅sin(2⋅β) + 2⋅2 ⋅x⋅y⋅⎝x  + y ⎠ ⋅sin(2⋅β) - 4 ⋅Dₚₐᵣ\n",
       "──────────────────────────────────────────────────────────────────────────────\n",
       "                                                                              \n",
       "                                                                              \n",
       "                                                                              \n",
       "                                                                              \n",
       "                                                                              \n",
       "\n",
       "                                                                              \n",
       "                                                                              \n",
       "                2⋅γ                                   2⋅γ                     \n",
       "     2 ⎛ 2    2⎞                γ          2 ⎛ 2    2⎞       γ          2 ⎛ 2 \n",
       "ₐ⋅γ⋅x ⋅⎝x  + y ⎠   ⋅cos(2⋅β) - 4 ⋅Dₚₐᵣₐ⋅γ⋅x ⋅⎝x  + y ⎠    + 4 ⋅Dₚₐᵣₐ⋅γ⋅y ⋅⎝x  \n",
       "──────────────────────────────────────────────────────────────────────────────\n",
       "                                                                              \n",
       "                                                                              \n",
       "                                                                              \n",
       "                                                                              \n",
       "                                                                              \n",
       "\n",
       "                                                                              \n",
       "                                                                              \n",
       "     2⋅γ                                   2⋅γ                    2⋅γ         \n",
       "   2⎞                γ          2 ⎛ 2    2⎞       γ    2 ⎛ 2    2⎞            \n",
       "+ y ⎠   ⋅cos(2⋅β) - 4 ⋅Dₚₐᵣₐ⋅γ⋅y ⋅⎝x  + y ⎠    + 4 ⋅γ⋅x ⋅⎝x  + y ⎠   ⋅cos(2⋅β)\n",
       "──────────────────────────────────────────────────────────────────────────────\n",
       "                                                                              \n",
       "                                                                              \n",
       "                                                                              \n",
       "                                                                              \n",
       "                                                                              \n",
       "\n",
       "                                                                              \n",
       "                                                                              \n",
       "                    2⋅γ                    2⋅γ                             2⋅γ\n",
       "    γ    2 ⎛ 2    2⎞       γ    2 ⎛ 2    2⎞                γ    2 ⎛ 2    2⎞   \n",
       " - 4 ⋅γ⋅x ⋅⎝x  + y ⎠    - 4 ⋅γ⋅y ⋅⎝x  + y ⎠   ⋅cos(2⋅β) - 4 ⋅γ⋅y ⋅⎝x  + y ⎠   \n",
       "──────────────────────────────────────────────────────────────────────────────\n",
       "                                     ⎛ ⎛  1 ⎞    ⎞                            \n",
       "                                     ⎜ ⎜ ───⎟    ⎟                            \n",
       "                                   2 ⎜ ⎜ 2⋅γ⎟    ⎟                            \n",
       "                          ⎛ 2    2⎞  ⎜ ⎝2   ⎠    ⎟                            \n",
       "                          ⎝x  + y ⎠ ⋅⎝ℯ       - 1⎠                            \n",
       "\n",
       "                                                                              \n",
       "                                                                              \n",
       "                           γ                                    γ             \n",
       "            2 ⎛   2      2⎞                      2 ⎛   2      2⎞             2\n",
       " + Dₚₐᵣₐ⋅γ⋅x ⋅⎝2⋅x  + 2⋅y ⎠ ⋅cos(2⋅β) + Dₚₐᵣₐ⋅γ⋅x ⋅⎝2⋅x  + 2⋅y ⎠  - Dₚₐᵣₐ⋅γ⋅y \n",
       "──────────────────────────────────────────────────────────────────────────────\n",
       "                                                                              \n",
       "                                                                              \n",
       "                                                                              \n",
       "                                                                              \n",
       "                                                                              \n",
       "\n",
       "                                                                              \n",
       "                                                                              \n",
       "              γ                                    γ                         γ\n",
       " ⎛   2      2⎞                      2 ⎛   2      2⎞           2 ⎛   2      2⎞ \n",
       "⋅⎝2⋅x  + 2⋅y ⎠ ⋅cos(2⋅β) + Dₚₐᵣₐ⋅γ⋅y ⋅⎝2⋅x  + 2⋅y ⎠  - Dₚₐᵣₐ⋅x ⋅⎝2⋅x  + 2⋅y ⎠ \n",
       "──────────────────────────────────────────────────────────────────────────────\n",
       "                                                                              \n",
       "                                                                              \n",
       "                                                                              \n",
       "                                                                              \n",
       "                                                                              \n",
       "\n",
       "                                                                              \n",
       "                                                                              \n",
       "                                  γ                              γ            \n",
       "                   2 ⎛   2      2⎞                2 ⎛   2      2⎞             \n",
       "⋅cos(2⋅β) + Dₚₐᵣₐ⋅y ⋅⎝2⋅x  + 2⋅y ⎠ ⋅cos(2⋅β) - γ⋅x ⋅⎝2⋅x  + 2⋅y ⎠ ⋅cos(2⋅β) + \n",
       "──────────────────────────────────────────────────────────────────────────────\n",
       "                                                                              \n",
       "                                                                              \n",
       "                                                                              \n",
       "                                                                              \n",
       "                                                                              \n",
       "\n",
       "                                                                              \n",
       "                                                                              \n",
       "                  γ                     γ                              γ      \n",
       "   2 ⎛   2      2⎞       2 ⎛   2      2⎞                2 ⎛   2      2⎞     2 \n",
       "γ⋅x ⋅⎝2⋅x  + 2⋅y ⎠  + γ⋅y ⋅⎝2⋅x  + 2⋅y ⎠ ⋅cos(2⋅β) + γ⋅y ⋅⎝2⋅x  + 2⋅y ⎠  + x ⋅\n",
       "──────────────────────────────────────────────────────────────────────────────\n",
       "                                                                              \n",
       "                                                                              \n",
       "                                                                              \n",
       "                                                                              \n",
       "                                                                              \n",
       "\n",
       "                                                         1                 \n",
       "                                                        ───               γ\n",
       "             γ                            γ         ⎞   2⋅γ    γ ⎛ 2    2⎞ \n",
       "⎛   2      2⎞              2 ⎛   2      2⎞          ⎟  2    - 2 ⋅⎝x  + y ⎠ \n",
       "⎝2⋅x  + 2⋅y ⎠ ⋅cos(2⋅β) - y ⋅⎝2⋅x  + 2⋅y ⎠ ⋅cos(2⋅β)⎠⋅ℯ                    \n",
       "───────────────────────────────────────────────────────────────────────────\n",
       "                                                                           \n",
       "                                                                           \n",
       "                                                                           \n",
       "                                                                           \n",
       "                                                                           "
      ]
     },
     "execution_count": 19,
     "metadata": {},
     "output_type": "execute_result"
    }
   ],
   "source": [
    "t = (1/(1-exp(-2**(1/(2*gamma)))))*(exp((-2**gamma)*(x**2+y**2)**gamma)-exp(-2**(1/(2*gamma))))\n",
    "\n",
    "# t = exp((sin(pi*x)*cos(pi*y)))**1\n",
    "\n",
    "U = Matrix ([[D_para,0],\n",
    "             [0,1]])\n",
    "R = Matrix ([[cos(beta),sin(beta)],\n",
    "             [-sin(beta),cos(beta)]])\n",
    "# R = Matrix ([[np.cos(45*3.14592/180),np.sin(45*3.14592/180)],\n",
    "#              [-np.sin(45*3.14592/180),np.cos(45*3.14592/180)]])\n",
    "tx=diff(t,x)\n",
    "txx=diff(tx,x)\n",
    "ty=diff(t,y)\n",
    "tyy=diff(t,y)\n",
    "D=R**-1*U*R\n",
    "\n",
    "delT=Matrix ([[tx], [ty]])\n",
    "DdelT=-D*(delT)\n",
    "simplify(DdelT)\n",
    "source=((diff((DdelT[0]),x))+(diff((DdelT[1]),y)))\n",
    "simplify(source)"
   ]
  },
  {
   "cell_type": "code",
   "execution_count": 20,
   "metadata": {
    "scrolled": true
   },
   "outputs": [
    {
     "name": "stdout",
     "output_type": "stream",
     "text": [
      "!******************************************************************************\n",
      "!*                      Code generated with sympy 1.1.1                       *\n",
      "!*                                                                            *\n",
      "!*              See http://www.sympy.org/ for more information.               *\n",
      "!*                                                                            *\n",
      "!*                       This file is part of 'project'                       *\n",
      "!******************************************************************************\n",
      "\n",
      "REAL*8 function my_function(D_para, beta, gamma, x, y)\n",
      "implicit none\n",
      "REAL*8, intent(in) :: D_para\n",
      "REAL*8, intent(in) :: beta\n",
      "REAL*8, intent(in) :: gamma\n",
      "REAL*8, intent(in) :: x\n",
      "REAL*8, intent(in) :: y\n",
      "\n",
      "my_function = 2*gamma*(-2*2**(2*gamma)*D_para*gamma*x*y*(x**2 + y**2)**( &\n",
      "      2*gamma)*sin(2.0d0*beta) + 2*2**(2*gamma)*gamma*x*y*(x**2 + y**2) &\n",
      "      **(2*gamma)*sin(2.0d0*beta) + 2*2**gamma*D_para*gamma*x*y*(x**2 + &\n",
      "      y**2)**gamma*sin(2.0d0*beta) - 2*2**gamma*D_para*x*y*(x**2 + y**2 &\n",
      "      )**gamma*sin(2.0d0*beta) - 2*2**gamma*gamma*x*y*(x**2 + y**2)** &\n",
      "      gamma*sin(2.0d0*beta) + 2*2**gamma*x*y*(x**2 + y**2)**gamma*sin( &\n",
      "      2.0d0*beta) - 4**gamma*D_para*gamma*x**2*(x**2 + y**2)**(2*gamma) &\n",
      "      *cos(2.0d0*beta) - 4**gamma*D_para*gamma*x**2*(x**2 + y**2)**(2* &\n",
      "      gamma) + 4**gamma*D_para*gamma*y**2*(x**2 + y**2)**(2*gamma)*cos( &\n",
      "      2.0d0*beta) - 4**gamma*D_para*gamma*y**2*(x**2 + y**2)**(2*gamma &\n",
      "      ) + 4**gamma*gamma*x**2*(x**2 + y**2)**(2*gamma)*cos(2.0d0*beta) &\n",
      "      - 4**gamma*gamma*x**2*(x**2 + y**2)**(2*gamma) - 4**gamma*gamma*y &\n",
      "      **2*(x**2 + y**2)**(2*gamma)*cos(2.0d0*beta) - 4**gamma*gamma*y** &\n",
      "      2*(x**2 + y**2)**(2*gamma) + D_para*gamma*x**2*(2*x**2 + 2*y**2) &\n",
      "      **gamma*cos(2.0d0*beta) + D_para*gamma*x**2*(2*x**2 + 2*y**2)** &\n",
      "      gamma - D_para*gamma*y**2*(2*x**2 + 2*y**2)**gamma*cos(2.0d0*beta &\n",
      "      ) + D_para*gamma*y**2*(2*x**2 + 2*y**2)**gamma - D_para*x**2*(2*x &\n",
      "      **2 + 2*y**2)**gamma*cos(2.0d0*beta) + D_para*y**2*(2*x**2 + 2*y &\n",
      "      **2)**gamma*cos(2.0d0*beta) - gamma*x**2*(2*x**2 + 2*y**2)**gamma &\n",
      "      *cos(2.0d0*beta) + gamma*x**2*(2*x**2 + 2*y**2)**gamma + gamma*y &\n",
      "      **2*(2*x**2 + 2*y**2)**gamma*cos(2.0d0*beta) + gamma*y**2*(2*x**2 &\n",
      "      + 2*y**2)**gamma + x**2*(2*x**2 + 2*y**2)**gamma*cos(2.0d0*beta) &\n",
      "      - y**2*(2*x**2 + 2*y**2)**gamma*cos(2.0d0*beta))*exp(2.0d0**( &\n",
      "      0.5d0/gamma) - 2.0d0**gamma*(x**2 + y**2)**gamma)/((x**2 + y**2) &\n",
      "      **2*(exp(2.0d0**(0.5d0/gamma)) - 1))\n",
      "\n",
      "end function\n",
      "\n"
     ]
    }
   ],
   "source": [
    "result = codegen(('my_function', simplify(source)), 'f95', 'my_project')\n",
    "print ( result[0][1])"
   ]
  },
  {
   "cell_type": "code",
   "execution_count": 21,
   "metadata": {},
   "outputs": [
    {
     "data": {
      "image/png": "[encoded data removed]",
      "text/latex": [
       "$$\\left[\\begin{matrix}D_{para} \\cos^{2}{\\left (\\beta \\right )} + \\sin^{2}{\\left (\\beta \\right )} & \\frac{1}{2} \\left(D_{para} - 1\\right) \\sin{\\left (2 \\beta \\right )}\\\\\\frac{1}{2} \\left(D_{para} - 1\\right) \\sin{\\left (2 \\beta \\right )} & D_{para} \\sin^{2}{\\left (\\beta \\right )} + \\cos^{2}{\\left (\\beta \\right )}\\end{matrix}\\right]$$"
      ],
      "text/plain": [
       "⎡         2         2      (Dₚₐᵣₐ - 1)⋅sin(2⋅β)  ⎤\n",
       "⎢Dₚₐᵣₐ⋅cos (β) + sin (β)   ────────────────────  ⎥\n",
       "⎢                                   2            ⎥\n",
       "⎢                                                ⎥\n",
       "⎢ (Dₚₐᵣₐ - 1)⋅sin(2⋅β)             2         2   ⎥\n",
       "⎢ ────────────────────    Dₚₐᵣₐ⋅sin (β) + cos (β)⎥\n",
       "⎣          2                                     ⎦"
      ]
     },
     "execution_count": 21,
     "metadata": {},
     "output_type": "execute_result"
    }
   ],
   "source": [
    "simplify(D)"
   ]
  },
  {
   "cell_type": "code",
   "execution_count": 22,
   "metadata": {},
   "outputs": [
    {
     "name": "stdout",
     "output_type": "stream",
     "text": [
      "!******************************************************************************\n",
      "!*                      Code generated with sympy 1.1.1                       *\n",
      "!*                                                                            *\n",
      "!*              See http://www.sympy.org/ for more information.               *\n",
      "!*                                                                            *\n",
      "!*                       This file is part of 'project'                       *\n",
      "!******************************************************************************\n",
      "\n",
      "subroutine my_function(D_para, beta, out_7743498222860489354)\n",
      "implicit none\n",
      "REAL*8, intent(in) :: D_para\n",
      "REAL*8, intent(in) :: beta\n",
      "REAL*8, intent(out), dimension(1:2, 1:2) :: out_7743498222860489354\n",
      "\n",
      "out_7743498222860489354(1, 1) = D_para*cos(beta)**2 + sin(beta)**2\n",
      "out_7743498222860489354(2, 1) = (1.0d0/2.0d0)*(D_para - 1)*sin(2.0d0* &\n",
      "      beta)\n",
      "out_7743498222860489354(1, 2) = (1.0d0/2.0d0)*(D_para - 1)*sin(2.0d0* &\n",
      "      beta)\n",
      "out_7743498222860489354(2, 2) = D_para*sin(beta)**2 + cos(beta)**2\n",
      "\n",
      "end subroutine\n",
      "\n"
     ]
    }
   ],
   "source": [
    "result = codegen(('my_function', simplify(D)), 'f95', 'my_project')\n",
    "print ( result[0][1])"
   ]
  },
  {
   "cell_type": "code",
   "execution_count": 23,
   "metadata": {},
   "outputs": [
    {
     "data": {
      "image/png": "[encoded data removed]",
      "text/latex": [
       "$$- \\frac{2 \\cdot 2^{\\gamma} \\gamma x \\left(x^{2} + y^{2}\\right)^{\\gamma} e^{- 2^{\\gamma} \\left(x^{2} + y^{2}\\right)^{\\gamma}}}{\\left(1 - e^{- 2^{\\frac{1}{2 \\gamma}}}\\right) \\left(x^{2} + y^{2}\\right)}$$"
      ],
      "text/plain": [
       "                                   γ \n",
       "                   γ    γ ⎛ 2    2⎞  \n",
       "    γ     ⎛ 2    2⎞   -2 ⋅⎝x  + y ⎠  \n",
       "-2⋅2 ⋅γ⋅x⋅⎝x  + y ⎠ ⋅ℯ               \n",
       "─────────────────────────────────────\n",
       "        ⎛        1 ⎞                 \n",
       "        ⎜       ───⎟                 \n",
       "        ⎜       2⋅γ⎟                 \n",
       "        ⎜     -2   ⎟ ⎛ 2    2⎞       \n",
       "        ⎝1 - ℯ     ⎠⋅⎝x  + y ⎠       "
      ]
     },
     "execution_count": 23,
     "metadata": {},
     "output_type": "execute_result"
    }
   ],
   "source": [
    "tx"
   ]
  },
  {
   "cell_type": "code",
   "execution_count": 24,
   "metadata": {},
   "outputs": [
    {
     "name": "stdout",
     "output_type": "stream",
     "text": [
      "!******************************************************************************\n",
      "!*                      Code generated with sympy 1.1.1                       *\n",
      "!*                                                                            *\n",
      "!*              See http://www.sympy.org/ for more information.               *\n",
      "!*                                                                            *\n",
      "!*                       This file is part of 'project'                       *\n",
      "!******************************************************************************\n",
      "\n",
      "REAL*8 function my_function(gamma, x, y)\n",
      "implicit none\n",
      "REAL*8, intent(in) :: gamma\n",
      "REAL*8, intent(in) :: x\n",
      "REAL*8, intent(in) :: y\n",
      "\n",
      "my_function = -2**(gamma + 1)*gamma*x*(x**2 + y**2)**(gamma - 1)*exp( &\n",
      "      2.0d0**(0.5d0/gamma) - 2.0d0**gamma*(x**2 + y**2)**gamma)/(exp( &\n",
      "      2.0d0**(0.5d0/gamma)) - 1)\n",
      "\n",
      "end function\n",
      "\n"
     ]
    }
   ],
   "source": [
    "result = codegen(('my_function', simplify(tx)), 'f95', 'my_project')\n",
    "print ( result[0][1])"
   ]
  },
  {
   "cell_type": "code",
   "execution_count": 25,
   "metadata": {},
   "outputs": [
    {
     "data": {
      "image/png": "[encoded data removed]",
      "text/latex": [
       "$$- \\frac{2 \\cdot 2^{\\gamma} \\gamma y \\left(x^{2} + y^{2}\\right)^{\\gamma} e^{- 2^{\\gamma} \\left(x^{2} + y^{2}\\right)^{\\gamma}}}{\\left(1 - e^{- 2^{\\frac{1}{2 \\gamma}}}\\right) \\left(x^{2} + y^{2}\\right)}$$"
      ],
      "text/plain": [
       "                                   γ \n",
       "                   γ    γ ⎛ 2    2⎞  \n",
       "    γ     ⎛ 2    2⎞   -2 ⋅⎝x  + y ⎠  \n",
       "-2⋅2 ⋅γ⋅y⋅⎝x  + y ⎠ ⋅ℯ               \n",
       "─────────────────────────────────────\n",
       "        ⎛        1 ⎞                 \n",
       "        ⎜       ───⎟                 \n",
       "        ⎜       2⋅γ⎟                 \n",
       "        ⎜     -2   ⎟ ⎛ 2    2⎞       \n",
       "        ⎝1 - ℯ     ⎠⋅⎝x  + y ⎠       "
      ]
     },
     "execution_count": 25,
     "metadata": {},
     "output_type": "execute_result"
    }
   ],
   "source": [
    "ty"
   ]
  },
  {
   "cell_type": "code",
   "execution_count": 26,
   "metadata": {},
   "outputs": [
    {
     "name": "stdout",
     "output_type": "stream",
     "text": [
      "!******************************************************************************\n",
      "!*                      Code generated with sympy 1.1.1                       *\n",
      "!*                                                                            *\n",
      "!*              See http://www.sympy.org/ for more information.               *\n",
      "!*                                                                            *\n",
      "!*                       This file is part of 'project'                       *\n",
      "!******************************************************************************\n",
      "\n",
      "REAL*8 function my_function(gamma, x, y)\n",
      "implicit none\n",
      "REAL*8, intent(in) :: gamma\n",
      "REAL*8, intent(in) :: x\n",
      "REAL*8, intent(in) :: y\n",
      "\n",
      "my_function = -2**(gamma + 1)*gamma*y*(x**2 + y**2)**(gamma - 1)*exp( &\n",
      "      2.0d0**(0.5d0/gamma) - 2.0d0**gamma*(x**2 + y**2)**gamma)/(exp( &\n",
      "      2.0d0**(0.5d0/gamma)) - 1)\n",
      "\n",
      "end function\n",
      "\n"
     ]
    }
   ],
   "source": [
    "result = codegen(('my_function', simplify(ty)), 'f95', 'my_project')\n",
    "print ( result[0][1])"
   ]
  },
  {
   "cell_type": "code",
   "execution_count": 27,
   "metadata": {},
   "outputs": [
    {
     "data": {
      "image/png": "[encoded data removed]",
      "text/latex": [
       "$$\\frac{e^{- 2^{\\gamma} \\left(x^{2} + y^{2}\\right)^{\\gamma}} - e^{- 2^{\\frac{1}{2 \\gamma}}}}{1 - e^{- 2^{\\frac{1}{2 \\gamma}}}}$$"
      ],
      "text/plain": [
       "                      1 \n",
       "              γ      ───\n",
       "   γ ⎛ 2    2⎞       2⋅γ\n",
       " -2 ⋅⎝x  + y ⎠     -2   \n",
       "ℯ               - ℯ     \n",
       "────────────────────────\n",
       "               1        \n",
       "              ───       \n",
       "              2⋅γ       \n",
       "            -2          \n",
       "       1 - ℯ            "
      ]
     },
     "execution_count": 27,
     "metadata": {},
     "output_type": "execute_result"
    }
   ],
   "source": [
    "t"
   ]
  },
  {
   "cell_type": "code",
   "execution_count": 28,
   "metadata": {},
   "outputs": [
    {
     "name": "stdout",
     "output_type": "stream",
     "text": [
      "!******************************************************************************\n",
      "!*                      Code generated with sympy 1.1.1                       *\n",
      "!*                                                                            *\n",
      "!*              See http://www.sympy.org/ for more information.               *\n",
      "!*                                                                            *\n",
      "!*                       This file is part of 'project'                       *\n",
      "!******************************************************************************\n",
      "\n",
      "REAL*8 function my_function(gamma, x, y)\n",
      "implicit none\n",
      "REAL*8, intent(in) :: gamma\n",
      "REAL*8, intent(in) :: x\n",
      "REAL*8, intent(in) :: y\n",
      "\n",
      "my_function = (exp(-2.0d0**gamma*(x**2 + y**2)**gamma) - exp(-2.0d0**( &\n",
      "      0.5d0/gamma)))/(1 - exp(-2.0d0**(0.5d0/gamma)))\n",
      "\n",
      "end function\n",
      "\n"
     ]
    }
   ],
   "source": [
    "result = codegen(('my_function', t), 'f95', 'my_project')\n",
    "print ( result[0][1])"
   ]
  },
  {
   "cell_type": "code",
   "execution_count": null,
   "metadata": {
    "collapsed": true
   },
   "outputs": [],
   "source": []
  },
  {
   "cell_type": "markdown",
   "metadata": {},
   "source": [
    "# 3a. Nishikawa AIAA 2017\n",
    "https://arc.aiaa.org/doi/abs/10.2514/6.2017-0310"
   ]
  },
  {
   "cell_type": "code",
   "execution_count": 29,
   "metadata": {
    "scrolled": true
   },
   "outputs": [
    {
     "data": {
      "image/png": "[encoded data removed]",
      "text/latex": [
       "$$- \\left(\\tanh^{2}{\\left (100.0 \\left(x - 0.5\\right)^{2} + 100.0 \\left(y - 0.5\\right)^{2} \\right )} - 1\\right) \\left(- x \\left(200.0 x - 100.0\\right) + 200.0 y^{2} - y \\left(200.0 y - 100.0\\right) + 200.0 \\left(x + 1\\right)^{2} + 2 \\left(x + 1\\right) \\left(200.0 x - 100.0\\right) + 2 \\left(200.0 x - 100.0\\right) \\left(x y \\left(200.0 y - 100.0\\right) - \\left(200.0 x - 100.0\\right) \\left(y^{2} + \\left(x + 1\\right)^{2}\\right)\\right) \\tanh{\\left (100.0 \\left(x - 0.5\\right)^{2} + 100.0 \\left(y - 0.5\\right)^{2} \\right )} + 200.0 \\left(y + 1\\right)^{2} + 2 \\left(y + 1\\right) \\left(200.0 y - 100.0\\right) + 2 \\left(200.0 y - 100.0\\right) \\left(x y \\left(200.0 x - 100.0\\right) - \\left(y + 1\\right)^{2} \\left(200.0 y - 100.0\\right)\\right) \\tanh{\\left (100.0 \\left(x - 0.5\\right)^{2} + 100.0 \\left(y - 0.5\\right)^{2} \\right )}\\right)$$"
      ],
      "text/plain": [
       " ⎛    2⎛               2                  2⎞    ⎞ ⎛                           \n",
       "-⎝tanh ⎝100.0⋅(x - 0.5)  + 100.0⋅(y - 0.5) ⎠ - 1⎠⋅⎝-x⋅(200.0⋅x - 100.0) + 200.\n",
       "\n",
       "   2                                      2                                   \n",
       "0⋅y  - y⋅(200.0⋅y - 100.0) + 200.0⋅(x + 1)  + 2⋅(x + 1)⋅(200.0⋅x - 100.0) + 2⋅\n",
       "\n",
       "                  ⎛                                          ⎛ 2          2⎞⎞ \n",
       "(200.0⋅x - 100.0)⋅⎝x⋅y⋅(200.0⋅y - 100.0) - (200.0⋅x - 100.0)⋅⎝y  + (x + 1) ⎠⎠⋅\n",
       "\n",
       "    ⎛               2                  2⎞                2                    \n",
       "tanh⎝100.0⋅(x - 0.5)  + 100.0⋅(y - 0.5) ⎠ + 200.0⋅(y + 1)  + 2⋅(y + 1)⋅(200.0⋅\n",
       "\n",
       "                                 ⎛                               2            \n",
       "y - 100.0) + 2⋅(200.0⋅y - 100.0)⋅⎝x⋅y⋅(200.0⋅x - 100.0) - (y + 1) ⋅(200.0⋅y - \n",
       "\n",
       "      ⎞     ⎛               2                  2⎞⎞\n",
       "100.0)⎠⋅tanh⎝100.0⋅(x - 0.5)  + 100.0⋅(y - 0.5) ⎠⎠"
      ]
     },
     "execution_count": 29,
     "metadata": {},
     "output_type": "execute_result"
    }
   ],
   "source": [
    "#  t is the exact solution and we have to 'fmms' which is the source term\n",
    "\n",
    "t = 1-tanh (((x-0.5)**2+(y-0.5)**2)/0.01)\n",
    "\n",
    "# This is the Diffusion matrix\n",
    "\n",
    "D = Matrix ([[(x+1)**2+y**2,-x*y],\n",
    "             [-x*y,(y+1)**2]])\n",
    "tx=diff(t,x)\n",
    "txx=diff(tx,x)\n",
    "ty=diff(t,y)\n",
    "tyy=diff(ty,y)\n",
    "delT=Matrix ([[tx], [ty]])\n",
    "\n",
    "DdelT=-D*(delT)\n",
    "\n",
    "simplify(DdelT)\n",
    "\n",
    "# Substitute in the diffusion equation\n",
    "\n",
    "fmms=simplify(simplify(diff(simplify(DdelT[0]),x))+simplify(diff(simplify(DdelT[1]),y)))\n",
    "simplify(fmms)"
   ]
  },
  {
   "cell_type": "code",
   "execution_count": 30,
   "metadata": {},
   "outputs": [
    {
     "name": "stdout",
     "output_type": "stream",
     "text": [
      "!******************************************************************************\n",
      "!*                      Code generated with sympy 1.1.1                       *\n",
      "!*                                                                            *\n",
      "!*              See http://www.sympy.org/ for more information.               *\n",
      "!*                                                                            *\n",
      "!*                       This file is part of 'project'                       *\n",
      "!******************************************************************************\n",
      "\n",
      "REAL*8 function my_function(x, y)\n",
      "implicit none\n",
      "REAL*8, intent(in) :: x\n",
      "REAL*8, intent(in) :: y\n",
      "\n",
      "my_function = -(tanh(100.0d0*(x - 0.5d0)**2 + 100.0d0*(y - 0.5d0)**2)**2 &\n",
      "      - 1)*(-x*(200.0d0*x - 100.0d0) + 200.0d0*y**2 - y*(200.0d0*y - &\n",
      "      100.0d0) + 200.0d0*(x + 1)**2 + 2*(x + 1)*(200.0d0*x - 100.0d0) + &\n",
      "      2*(200.0d0*x - 100.0d0)*(x*y*(200.0d0*y - 100.0d0) - (200.0d0*x - &\n",
      "      100.0d0)*(y**2 + (x + 1)**2))*tanh(100.0d0*(x - 0.5d0)**2 + &\n",
      "      100.0d0*(y - 0.5d0)**2) + 200.0d0*(y + 1)**2 + 2*(y + 1)*(200.0d0 &\n",
      "      *y - 100.0d0) + 2*(200.0d0*y - 100.0d0)*(x*y*(200.0d0*x - 100.0d0 &\n",
      "      ) - (y + 1)**2*(200.0d0*y - 100.0d0))*tanh(100.0d0*(x - 0.5d0)**2 &\n",
      "      + 100.0d0*(y - 0.5d0)**2))\n",
      "\n",
      "end function\n",
      "\n"
     ]
    }
   ],
   "source": [
    "result = codegen(('my_function', simplify(fmms)), 'f95', 'my_project')\n",
    "print ( result[0][1])"
   ]
  },
  {
   "cell_type": "code",
   "execution_count": 31,
   "metadata": {},
   "outputs": [
    {
     "data": {
      "image/png": "[encoded data removed]",
      "text/latex": [
       "$$\\left[\\begin{matrix}y^{2} + \\left(x + 1\\right)^{2} & - x y\\\\- x y & \\left(y + 1\\right)^{2}\\end{matrix}\\right]$$"
      ],
      "text/plain": [
       "⎡ 2          2          ⎤\n",
       "⎢y  + (x + 1)     -x⋅y  ⎥\n",
       "⎢                       ⎥\n",
       "⎢                      2⎥\n",
       "⎣    -x⋅y       (y + 1) ⎦"
      ]
     },
     "execution_count": 31,
     "metadata": {},
     "output_type": "execute_result"
    }
   ],
   "source": [
    "simplify(D)"
   ]
  },
  {
   "cell_type": "code",
   "execution_count": 32,
   "metadata": {},
   "outputs": [
    {
     "name": "stdout",
     "output_type": "stream",
     "text": [
      "!******************************************************************************\n",
      "!*                      Code generated with sympy 1.1.1                       *\n",
      "!*                                                                            *\n",
      "!*              See http://www.sympy.org/ for more information.               *\n",
      "!*                                                                            *\n",
      "!*                       This file is part of 'project'                       *\n",
      "!******************************************************************************\n",
      "\n",
      "subroutine my_function(x, y, out_7502789821249382767)\n",
      "implicit none\n",
      "REAL*8, intent(in) :: x\n",
      "REAL*8, intent(in) :: y\n",
      "REAL*8, intent(out), dimension(1:2, 1:2) :: out_7502789821249382767\n",
      "\n",
      "out_7502789821249382767(1, 1) = y**2 + (x + 1)**2\n",
      "out_7502789821249382767(2, 1) = -x*y\n",
      "out_7502789821249382767(1, 2) = -x*y\n",
      "out_7502789821249382767(2, 2) = (y + 1)**2\n",
      "\n",
      "end subroutine\n",
      "\n"
     ]
    }
   ],
   "source": [
    "result = codegen(('my_function', simplify(D)), 'f95', 'my_project')\n",
    "print ( result[0][1])"
   ]
  },
  {
   "cell_type": "code",
   "execution_count": 33,
   "metadata": {},
   "outputs": [
    {
     "data": {
      "image/png": "[encoded data removed]",
      "text/latex": [
       "$$\\left(200.0 x - 100.0\\right) \\left(\\tanh^{2}{\\left (100.0 \\left(x - 0.5\\right)^{2} + 100.0 \\left(y - 0.5\\right)^{2} \\right )} - 1\\right)$$"
      ],
      "text/plain": [
       "                  ⎛    2⎛               2                  2⎞    ⎞\n",
       "(200.0⋅x - 100.0)⋅⎝tanh ⎝100.0⋅(x - 0.5)  + 100.0⋅(y - 0.5) ⎠ - 1⎠"
      ]
     },
     "execution_count": 33,
     "metadata": {},
     "output_type": "execute_result"
    }
   ],
   "source": [
    "simplify(tx)"
   ]
  },
  {
   "cell_type": "code",
   "execution_count": 34,
   "metadata": {},
   "outputs": [
    {
     "name": "stdout",
     "output_type": "stream",
     "text": [
      "!******************************************************************************\n",
      "!*                      Code generated with sympy 1.1.1                       *\n",
      "!*                                                                            *\n",
      "!*              See http://www.sympy.org/ for more information.               *\n",
      "!*                                                                            *\n",
      "!*                       This file is part of 'project'                       *\n",
      "!******************************************************************************\n",
      "\n",
      "REAL*8 function my_function(x, y)\n",
      "implicit none\n",
      "REAL*8, intent(in) :: x\n",
      "REAL*8, intent(in) :: y\n",
      "\n",
      "my_function = (200.0d0*x - 100.0d0)*(tanh(100.0d0*(x - 0.5d0)**2 + &\n",
      "      100.0d0*(y - 0.5d0)**2)**2 - 1)\n",
      "\n",
      "end function\n",
      "\n"
     ]
    }
   ],
   "source": [
    "result = codegen(('my_function', simplify(tx)), 'f95', 'my_project')\n",
    "print ( result[0][1])"
   ]
  },
  {
   "cell_type": "code",
   "execution_count": 35,
   "metadata": {},
   "outputs": [
    {
     "data": {
      "image/png": "[encoded data removed]",
      "text/latex": [
       "$$\\left(200.0 y - 100.0\\right) \\left(\\tanh^{2}{\\left (100.0 \\left(x - 0.5\\right)^{2} + 100.0 \\left(y - 0.5\\right)^{2} \\right )} - 1\\right)$$"
      ],
      "text/plain": [
       "                  ⎛    2⎛               2                  2⎞    ⎞\n",
       "(200.0⋅y - 100.0)⋅⎝tanh ⎝100.0⋅(x - 0.5)  + 100.0⋅(y - 0.5) ⎠ - 1⎠"
      ]
     },
     "execution_count": 35,
     "metadata": {},
     "output_type": "execute_result"
    }
   ],
   "source": [
    "simplify(ty)"
   ]
  },
  {
   "cell_type": "code",
   "execution_count": 36,
   "metadata": {},
   "outputs": [
    {
     "name": "stdout",
     "output_type": "stream",
     "text": [
      "!******************************************************************************\n",
      "!*                      Code generated with sympy 1.1.1                       *\n",
      "!*                                                                            *\n",
      "!*              See http://www.sympy.org/ for more information.               *\n",
      "!*                                                                            *\n",
      "!*                       This file is part of 'project'                       *\n",
      "!******************************************************************************\n",
      "\n",
      "REAL*8 function my_function(x, y)\n",
      "implicit none\n",
      "REAL*8, intent(in) :: x\n",
      "REAL*8, intent(in) :: y\n",
      "\n",
      "my_function = (200.0d0*y - 100.0d0)*(tanh(100.0d0*(x - 0.5d0)**2 + &\n",
      "      100.0d0*(y - 0.5d0)**2)**2 - 1)\n",
      "\n",
      "end function\n",
      "\n"
     ]
    }
   ],
   "source": [
    "result = codegen(('my_function', simplify(ty)), 'f95', 'my_project')\n",
    "print ( result[0][1])"
   ]
  },
  {
   "cell_type": "markdown",
   "metadata": {},
   "source": [
    "# 3b. Monotone finite volume schemes for diffusion equations on polygonal meshes Yuan and Sheng\n",
    "https://www.sciencedirect.com/science/article/pii/S0021999108001587"
   ]
  },
  {
   "cell_type": "code",
   "execution_count": 37,
   "metadata": {},
   "outputs": [
    {
     "data": {
      "image/png": "[encoded data removed]",
      "text/latex": [
       "$$\\pi \\left(2 x \\left(\\sin^{2}{\\left (\\beta \\right )} - 2\\right) \\sin{\\left (\\pi y \\right )} \\cos{\\left (\\pi x \\right )} - 2 x \\sin{\\left (\\beta \\right )} \\sin{\\left (\\pi x \\right )} \\cos{\\left (\\beta \\right )} \\cos{\\left (\\pi y \\right )} + 2 y \\left(\\sin^{2}{\\left (\\beta \\right )} - 2\\right) \\sin{\\left (\\pi x \\right )} \\cos{\\left (\\pi y \\right )} + 2 y \\sin{\\left (\\beta \\right )} \\sin{\\left (\\pi y \\right )} \\cos{\\left (\\beta \\right )} \\cos{\\left (\\pi x \\right )} - 2 \\pi \\left(x^{2} - y^{2}\\right) \\sin{\\left (\\beta \\right )} \\cos{\\left (\\beta \\right )} \\cos{\\left (\\pi x \\right )} \\cos{\\left (\\pi y \\right )} + \\pi \\left(- x^{2} \\sin^{2}{\\left (\\beta \\right )} + 2 x^{2} + y^{2} \\sin^{2}{\\left (\\beta \\right )} + y^{2} + 1\\right) \\sin{\\left (\\pi x \\right )} \\sin{\\left (\\pi y \\right )} + \\pi \\left(x^{2} \\sin^{2}{\\left (\\beta \\right )} + x^{2} - y^{2} \\sin^{2}{\\left (\\beta \\right )} + 2 y^{2} + 1\\right) \\sin{\\left (\\pi x \\right )} \\sin{\\left (\\pi y \\right )}\\right)$$"
      ],
      "text/plain": [
       "  ⎛    ⎛   2       ⎞                                                          \n",
       "π⋅⎝2⋅x⋅⎝sin (β) - 2⎠⋅sin(π⋅y)⋅cos(π⋅x) - 2⋅x⋅sin(β)⋅sin(π⋅x)⋅cos(β)⋅cos(π⋅y) +\n",
       "\n",
       "     ⎛   2       ⎞                                                            \n",
       " 2⋅y⋅⎝sin (β) - 2⎠⋅sin(π⋅x)⋅cos(π⋅y) + 2⋅y⋅sin(β)⋅sin(π⋅y)⋅cos(β)⋅cos(π⋅x) - 2\n",
       "\n",
       "   ⎛ 2    2⎞                                     ⎛   2    2         2    2    \n",
       "⋅π⋅⎝x  - y ⎠⋅sin(β)⋅cos(β)⋅cos(π⋅x)⋅cos(π⋅y) + π⋅⎝- x ⋅sin (β) + 2⋅x  + y ⋅sin\n",
       "\n",
       "2       2    ⎞                       ⎛ 2    2       2    2    2         2    ⎞\n",
       " (β) + y  + 1⎠⋅sin(π⋅x)⋅sin(π⋅y) + π⋅⎝x ⋅sin (β) + x  - y ⋅sin (β) + 2⋅y  + 1⎠\n",
       "\n",
       "                  ⎞\n",
       "⋅sin(π⋅x)⋅sin(π⋅y)⎠"
      ]
     },
     "execution_count": 37,
     "metadata": {},
     "output_type": "execute_result"
    }
   ],
   "source": [
    "t = sin(pi*x)*sin(pi*y)\n",
    "\n",
    "U = Matrix ([[1+2*(x)**2+y**2,0],\n",
    "             [0,1+(x)**2+2*y**2]])\n",
    "R = Matrix ([[cos(beta),sin(beta)],\n",
    "             [-sin(beta),cos(beta)]])\n",
    "tx=diff(t,x)\n",
    "txx=diff(tx,x)\n",
    "ty=diff(t,y)\n",
    "tyy=diff(ty,y)\n",
    "D=R**-1*U*R\n",
    "delT=Matrix ([[tx], [ty]])\n",
    "DdelT=-D*(delT)\n",
    "simplify(DdelT)\n",
    "fmms=simplify(simplify(diff(simplify(DdelT[0]),x))+simplify(diff(simplify(DdelT[1]),y)))\n",
    "\n",
    "simplify(fmms)"
   ]
  },
  {
   "cell_type": "code",
   "execution_count": 38,
   "metadata": {},
   "outputs": [
    {
     "name": "stdout",
     "output_type": "stream",
     "text": [
      "!******************************************************************************\n",
      "!*                      Code generated with sympy 1.1.1                       *\n",
      "!*                                                                            *\n",
      "!*              See http://www.sympy.org/ for more information.               *\n",
      "!*                                                                            *\n",
      "!*                       This file is part of 'project'                       *\n",
      "!******************************************************************************\n",
      "\n",
      "REAL*8 function my_function(beta, x, y)\n",
      "implicit none\n",
      "REAL*8, intent(in) :: beta\n",
      "REAL*8, intent(in) :: x\n",
      "REAL*8, intent(in) :: y\n",
      "\n",
      "REAL*8, parameter :: pi = 3.14159265358979d0\n",
      "my_function = pi*(2*x*(sin(beta)**2 - 2)*sin(3.14159265358979d0*y)*cos( &\n",
      "      3.14159265358979d0*x) - 2*x*sin(beta)*sin(3.14159265358979d0*x)* &\n",
      "      cos(beta)*cos(3.14159265358979d0*y) + 2*y*(sin(beta)**2 - 2)*sin( &\n",
      "      3.14159265358979d0*x)*cos(3.14159265358979d0*y) + 2*y*sin(beta)* &\n",
      "      sin(3.14159265358979d0*y)*cos(beta)*cos(3.14159265358979d0*x) - 2 &\n",
      "      *pi*(x**2 - y**2)*sin(beta)*cos(beta)*cos(3.14159265358979d0*x)* &\n",
      "      cos(3.14159265358979d0*y) + pi*(-x**2*sin(beta)**2 + 2*x**2 + y** &\n",
      "      2*sin(beta)**2 + y**2 + 1)*sin(3.14159265358979d0*x)*sin( &\n",
      "      3.14159265358979d0*y) + pi*(x**2*sin(beta)**2 + x**2 - y**2*sin( &\n",
      "      beta)**2 + 2*y**2 + 1)*sin(3.14159265358979d0*x)*sin( &\n",
      "      3.14159265358979d0*y))\n",
      "\n",
      "end function\n",
      "\n"
     ]
    }
   ],
   "source": [
    "result = codegen(('my_function', simplify(fmms)), 'f95', 'my_project')\n",
    "print ( result[0][1])"
   ]
  },
  {
   "cell_type": "code",
   "execution_count": 39,
   "metadata": {},
   "outputs": [
    {
     "data": {
      "image/png": "[encoded data removed]",
      "text/latex": [
       "$$\\left[\\begin{matrix}- x^{2} \\sin^{2}{\\left (\\beta \\right )} + 2 x^{2} + y^{2} \\sin^{2}{\\left (\\beta \\right )} + y^{2} + 1 & \\frac{1}{2} \\left(x^{2} - y^{2}\\right) \\sin{\\left (2 \\beta \\right )}\\\\\\frac{1}{2} \\left(x^{2} - y^{2}\\right) \\sin{\\left (2 \\beta \\right )} & x^{2} \\sin^{2}{\\left (\\beta \\right )} + x^{2} - y^{2} \\sin^{2}{\\left (\\beta \\right )} + 2 y^{2} + 1\\end{matrix}\\right]$$"
      ],
      "text/plain": [
       "⎡                                                     ⎛ 2    2⎞               \n",
       "⎢   2    2         2    2    2       2                ⎝x  - y ⎠⋅sin(2⋅β)      \n",
       "⎢- x ⋅sin (β) + 2⋅x  + y ⋅sin (β) + y  + 1            ──────────────────      \n",
       "⎢                                                             2               \n",
       "⎢                                                                             \n",
       "⎢           ⎛ 2    2⎞                                                         \n",
       "⎢           ⎝x  - y ⎠⋅sin(2⋅β)               2    2       2    2    2         \n",
       "⎢           ──────────────────              x ⋅sin (β) + x  - y ⋅sin (β) + 2⋅y\n",
       "⎣                   2                                                         \n",
       "\n",
       "     ⎤\n",
       "     ⎥\n",
       "     ⎥\n",
       "     ⎥\n",
       "     ⎥\n",
       "     ⎥\n",
       "2    ⎥\n",
       "  + 1⎥\n",
       "     ⎦"
      ]
     },
     "execution_count": 39,
     "metadata": {},
     "output_type": "execute_result"
    }
   ],
   "source": [
    "simplify(D)"
   ]
  },
  {
   "cell_type": "code",
   "execution_count": 40,
   "metadata": {},
   "outputs": [
    {
     "name": "stdout",
     "output_type": "stream",
     "text": [
      "!******************************************************************************\n",
      "!*                      Code generated with sympy 1.1.1                       *\n",
      "!*                                                                            *\n",
      "!*              See http://www.sympy.org/ for more information.               *\n",
      "!*                                                                            *\n",
      "!*                       This file is part of 'project'                       *\n",
      "!******************************************************************************\n",
      "\n",
      "subroutine my_function(beta, x, y, out_4818250075572645832)\n",
      "implicit none\n",
      "REAL*8, intent(in) :: beta\n",
      "REAL*8, intent(in) :: x\n",
      "REAL*8, intent(in) :: y\n",
      "REAL*8, intent(out), dimension(1:2, 1:2) :: out_4818250075572645832\n",
      "\n",
      "out_4818250075572645832(1, 1) = -x**2*sin(beta)**2 + 2*x**2 + y**2*sin( &\n",
      "      beta)**2 + y**2 + 1\n",
      "out_4818250075572645832(2, 1) = (1.0d0/2.0d0)*(x**2 - y**2)*sin(2.0d0* &\n",
      "      beta)\n",
      "out_4818250075572645832(1, 2) = (1.0d0/2.0d0)*(x**2 - y**2)*sin(2.0d0* &\n",
      "      beta)\n",
      "out_4818250075572645832(2, 2) = x**2*sin(beta)**2 + x**2 - y**2*sin(beta &\n",
      "      )**2 + 2*y**2 + 1\n",
      "\n",
      "end subroutine\n",
      "\n"
     ]
    }
   ],
   "source": [
    "result = codegen(('my_function', simplify(D)), 'f95', 'my_project')\n",
    "print ( result[0][1])"
   ]
  },
  {
   "cell_type": "code",
   "execution_count": 41,
   "metadata": {},
   "outputs": [
    {
     "data": {
      "image/png": "[encoded data removed]",
      "text/latex": [
       "$$\\pi \\sin{\\left (\\pi y \\right )} \\cos{\\left (\\pi x \\right )}$$"
      ],
      "text/plain": [
       "π⋅sin(π⋅y)⋅cos(π⋅x)"
      ]
     },
     "execution_count": 41,
     "metadata": {},
     "output_type": "execute_result"
    }
   ],
   "source": [
    "simplify(tx)"
   ]
  },
  {
   "cell_type": "code",
   "execution_count": 42,
   "metadata": {},
   "outputs": [
    {
     "name": "stdout",
     "output_type": "stream",
     "text": [
      "!******************************************************************************\n",
      "!*                      Code generated with sympy 1.1.1                       *\n",
      "!*                                                                            *\n",
      "!*              See http://www.sympy.org/ for more information.               *\n",
      "!*                                                                            *\n",
      "!*                       This file is part of 'project'                       *\n",
      "!******************************************************************************\n",
      "\n",
      "REAL*8 function my_function(x, y)\n",
      "implicit none\n",
      "REAL*8, intent(in) :: x\n",
      "REAL*8, intent(in) :: y\n",
      "\n",
      "REAL*8, parameter :: pi = 3.14159265358979d0\n",
      "my_function = pi*sin(3.14159265358979d0*y)*cos(3.14159265358979d0*x)\n",
      "\n",
      "end function\n",
      "\n"
     ]
    }
   ],
   "source": [
    "result = codegen(('my_function', simplify(tx)), 'f95', 'my_project')\n",
    "print ( result[0][1])"
   ]
  },
  {
   "cell_type": "code",
   "execution_count": 43,
   "metadata": {},
   "outputs": [
    {
     "data": {
      "image/png": "[encoded data removed]",
      "text/latex": [
       "$$\\pi \\sin{\\left (\\pi x \\right )} \\cos{\\left (\\pi y \\right )}$$"
      ],
      "text/plain": [
       "π⋅sin(π⋅x)⋅cos(π⋅y)"
      ]
     },
     "execution_count": 43,
     "metadata": {},
     "output_type": "execute_result"
    }
   ],
   "source": [
    "simplify(ty)"
   ]
  },
  {
   "cell_type": "code",
   "execution_count": 44,
   "metadata": {},
   "outputs": [
    {
     "name": "stdout",
     "output_type": "stream",
     "text": [
      "!******************************************************************************\n",
      "!*                      Code generated with sympy 1.1.1                       *\n",
      "!*                                                                            *\n",
      "!*              See http://www.sympy.org/ for more information.               *\n",
      "!*                                                                            *\n",
      "!*                       This file is part of 'project'                       *\n",
      "!******************************************************************************\n",
      "\n",
      "REAL*8 function my_function(x, y)\n",
      "implicit none\n",
      "REAL*8, intent(in) :: x\n",
      "REAL*8, intent(in) :: y\n",
      "\n",
      "REAL*8, parameter :: pi = 3.14159265358979d0\n",
      "my_function = pi*sin(3.14159265358979d0*x)*cos(3.14159265358979d0*y)\n",
      "\n",
      "end function\n",
      "\n"
     ]
    }
   ],
   "source": [
    "result = codegen(('my_function', simplify(ty)), 'f95', 'my_project')\n",
    "print ( result[0][1])"
   ]
  },
  {
   "cell_type": "markdown",
   "metadata": {},
   "source": [
    "## 4a. Varying angle of misalignment Example 2b Closed field lines\n",
    "https://www.sciencedirect.com/science/article/pii/"
   ]
  },
  {
   "cell_type": "code",
   "execution_count": 45,
   "metadata": {},
   "outputs": [
    {
     "data": {
      "image/png": "[encoded data removed]",
      "text/latex": [
       "$$\\frac{12.0 D_{para} x^{2} y^{2}}{\\left(x^{2} + y^{2}\\right)^{1.5}} + \\frac{3.0 D_{para} x^{2}}{\\left(x^{2} + y^{2}\\right)^{0.5}} + \\frac{3.0 D_{para} y^{2}}{\\left(x^{2} + y^{2}\\right)^{0.5}} + \\frac{3.0 x^{4}}{\\left(x^{2} + y^{2}\\right)^{1.5}} - \\frac{6.0 x^{2} y^{2}}{\\left(x^{2} + y^{2}\\right)^{1.5}} + \\frac{3.0 x^{2}}{\\left(x^{2} + y^{2}\\right)^{0.5}} + \\frac{3.0 y^{4}}{\\left(x^{2} + y^{2}\\right)^{1.5}} + \\frac{3.0 y^{2}}{\\left(x^{2} + y^{2}\\right)^{0.5}}$$"
      ],
      "text/plain": [
       "                          -1.5                         -0.5                   \n",
       "            2  2 ⎛ 2    2⎞                  2 ⎛ 2    2⎞                  2 ⎛ 2\n",
       "12.0⋅Dₚₐᵣₐ⋅x ⋅y ⋅⎝x  + y ⎠     + 3.0⋅Dₚₐᵣₐ⋅x ⋅⎝x  + y ⎠     + 3.0⋅Dₚₐᵣₐ⋅y ⋅⎝x \n",
       "\n",
       "      -0.5                   -1.5                      -1.5                   \n",
       "    2⎞            4 ⎛ 2    2⎞            2  2 ⎛ 2    2⎞            2 ⎛ 2    2⎞\n",
       " + y ⎠     + 3.0⋅x ⋅⎝x  + y ⎠     - 6.0⋅x ⋅y ⋅⎝x  + y ⎠     + 3.0⋅x ⋅⎝x  + y ⎠\n",
       "\n",
       "-0.5                   -1.5                   -0.5\n",
       "            4 ⎛ 2    2⎞            2 ⎛ 2    2⎞    \n",
       "     + 3.0⋅y ⋅⎝x  + y ⎠     + 3.0⋅y ⋅⎝x  + y ⎠    "
      ]
     },
     "execution_count": 45,
     "metadata": {},
     "output_type": "execute_result"
    }
   ],
   "source": [
    "t = 1-((x)**2+(y)**2)**1.5\n",
    "tx=diff(t,x)\n",
    "txx=diff(tx,x)\n",
    "ty=diff(t,y)\n",
    "tyy=diff(ty,y)\n",
    "beta = atan(-y/x)\n",
    "U = Matrix ([[D_para,0],\n",
    "             [0,1]])\n",
    "R = Matrix ([[cos(beta),sin(beta)],\n",
    "             [-sin(beta),cos(beta)]])\n",
    "D=R**-1*U*R\n",
    "\n",
    "delT=Matrix ([[tx], [ty]])\n",
    "DdelT=-D*(delT)\n",
    "simplify(DdelT)\n",
    "Source_closed=((diff((DdelT[0]),x))+(diff((DdelT[1]),y)))\n",
    "simplify(Source_closed)"
   ]
  },
  {
   "cell_type": "code",
   "execution_count": 46,
   "metadata": {},
   "outputs": [
    {
     "name": "stdout",
     "output_type": "stream",
     "text": [
      "!******************************************************************************\n",
      "!*                      Code generated with sympy 1.1.1                       *\n",
      "!*                                                                            *\n",
      "!*              See http://www.sympy.org/ for more information.               *\n",
      "!*                                                                            *\n",
      "!*                       This file is part of 'project'                       *\n",
      "!******************************************************************************\n",
      "\n",
      "REAL*8 function my_function(D_para, x, y)\n",
      "implicit none\n",
      "REAL*8, intent(in) :: D_para\n",
      "REAL*8, intent(in) :: x\n",
      "REAL*8, intent(in) :: y\n",
      "\n",
      "my_function = 12.0d0*D_para*x**2*y**2*(x**2 + y**2)**(-1.5d0) + 3.0d0* &\n",
      "      D_para*x**2*(x**2 + y**2)**(-0.5d0) + 3.0d0*D_para*y**2*(x**2 + y &\n",
      "      **2)**(-0.5d0) + 3.0d0*x**4*(x**2 + y**2)**(-1.5d0) - 6.0d0*x**2* &\n",
      "      y**2*(x**2 + y**2)**(-1.5d0) + 3.0d0*x**2*(x**2 + y**2)**(-0.5d0 &\n",
      "      ) + 3.0d0*y**4*(x**2 + y**2)**(-1.5d0) + 3.0d0*y**2*(x**2 + y**2) &\n",
      "      **(-0.5d0)\n",
      "\n",
      "end function\n",
      "\n"
     ]
    }
   ],
   "source": [
    "result = codegen(('my_function', simplify(Source_closed)), 'f95', 'my_project')\n",
    "print ( result[0][1])"
   ]
  },
  {
   "cell_type": "code",
   "execution_count": 47,
   "metadata": {},
   "outputs": [
    {
     "data": {
      "image/png": "[encoded data removed]",
      "text/latex": [
       "$$\\left[\\begin{matrix}\\frac{D_{para} x^{2} + y^{2}}{x^{2} + y^{2}} & \\frac{x y \\left(- D_{para} + 1\\right)}{x^{2} + y^{2}}\\\\\\frac{x y \\left(- D_{para} + 1\\right)}{x^{2} + y^{2}} & \\frac{D_{para} y^{2} + x^{2}}{x^{2} + y^{2}}\\end{matrix}\\right]$$"
      ],
      "text/plain": [
       "⎡        2    2                    ⎤\n",
       "⎢ Dₚₐᵣₐ⋅x  + y     x⋅y⋅(-Dₚₐᵣₐ + 1)⎥\n",
       "⎢ ─────────────    ────────────────⎥\n",
       "⎢     2    2            2    2     ⎥\n",
       "⎢    x  + y            x  + y      ⎥\n",
       "⎢                                  ⎥\n",
       "⎢                          2    2  ⎥\n",
       "⎢x⋅y⋅(-Dₚₐᵣₐ + 1)   Dₚₐᵣₐ⋅y  + x   ⎥\n",
       "⎢────────────────   ─────────────  ⎥\n",
       "⎢     2    2            2    2     ⎥\n",
       "⎣    x  + y            x  + y      ⎦"
      ]
     },
     "execution_count": 47,
     "metadata": {},
     "output_type": "execute_result"
    }
   ],
   "source": [
    "simplify(D)"
   ]
  },
  {
   "cell_type": "code",
   "execution_count": 48,
   "metadata": {},
   "outputs": [
    {
     "name": "stdout",
     "output_type": "stream",
     "text": [
      "!******************************************************************************\n",
      "!*                      Code generated with sympy 1.1.1                       *\n",
      "!*                                                                            *\n",
      "!*              See http://www.sympy.org/ for more information.               *\n",
      "!*                                                                            *\n",
      "!*                       This file is part of 'project'                       *\n",
      "!******************************************************************************\n",
      "\n",
      "subroutine my_function(D_para, x, y, out_5505896859365914830)\n",
      "implicit none\n",
      "REAL*8, intent(in) :: D_para\n",
      "REAL*8, intent(in) :: x\n",
      "REAL*8, intent(in) :: y\n",
      "REAL*8, intent(out), dimension(1:2, 1:2) :: out_5505896859365914830\n",
      "\n",
      "out_5505896859365914830(1, 1) = (D_para*x**2 + y**2)/(x**2 + y**2)\n",
      "out_5505896859365914830(2, 1) = x*y*(-D_para + 1)/(x**2 + y**2)\n",
      "out_5505896859365914830(1, 2) = x*y*(-D_para + 1)/(x**2 + y**2)\n",
      "out_5505896859365914830(2, 2) = (D_para*y**2 + x**2)/(x**2 + y**2)\n",
      "\n",
      "end subroutine\n",
      "\n"
     ]
    }
   ],
   "source": [
    "result = codegen(('my_function', simplify(D)), 'f95', 'my_project')\n",
    "print ( result[0][1])"
   ]
  },
  {
   "cell_type": "code",
   "execution_count": 49,
   "metadata": {},
   "outputs": [
    {
     "data": {
      "image/png": "[encoded data removed]",
      "text/latex": [
       "$$- 3.0 x \\left(x^{2} + y^{2}\\right)^{0.5}$$"
      ],
      "text/plain": [
       "                0.5\n",
       "       ⎛ 2    2⎞   \n",
       "-3.0⋅x⋅⎝x  + y ⎠   "
      ]
     },
     "execution_count": 49,
     "metadata": {},
     "output_type": "execute_result"
    }
   ],
   "source": [
    "simplify(tx)"
   ]
  },
  {
   "cell_type": "code",
   "execution_count": 50,
   "metadata": {},
   "outputs": [
    {
     "name": "stdout",
     "output_type": "stream",
     "text": [
      "!******************************************************************************\n",
      "!*                      Code generated with sympy 1.1.1                       *\n",
      "!*                                                                            *\n",
      "!*              See http://www.sympy.org/ for more information.               *\n",
      "!*                                                                            *\n",
      "!*                       This file is part of 'project'                       *\n",
      "!******************************************************************************\n",
      "\n",
      "REAL*8 function my_function(x, y)\n",
      "implicit none\n",
      "REAL*8, intent(in) :: x\n",
      "REAL*8, intent(in) :: y\n",
      "\n",
      "my_function = -3.0d0*x*sqrt(x**2 + y**2)\n",
      "\n",
      "end function\n",
      "\n"
     ]
    }
   ],
   "source": [
    "result = codegen(('my_function', simplify(tx)), 'f95', 'my_project')\n",
    "print ( result[0][1])"
   ]
  },
  {
   "cell_type": "code",
   "execution_count": 51,
   "metadata": {},
   "outputs": [
    {
     "data": {
      "image/png": "[encoded data removed]",
      "text/latex": [
       "$$- 3.0 y \\left(x^{2} + y^{2}\\right)^{0.5}$$"
      ],
      "text/plain": [
       "                0.5\n",
       "       ⎛ 2    2⎞   \n",
       "-3.0⋅y⋅⎝x  + y ⎠   "
      ]
     },
     "execution_count": 51,
     "metadata": {},
     "output_type": "execute_result"
    }
   ],
   "source": [
    "simplify(ty)"
   ]
  },
  {
   "cell_type": "code",
   "execution_count": 52,
   "metadata": {},
   "outputs": [
    {
     "name": "stdout",
     "output_type": "stream",
     "text": [
      "!******************************************************************************\n",
      "!*                      Code generated with sympy 1.1.1                       *\n",
      "!*                                                                            *\n",
      "!*              See http://www.sympy.org/ for more information.               *\n",
      "!*                                                                            *\n",
      "!*                       This file is part of 'project'                       *\n",
      "!******************************************************************************\n",
      "\n",
      "REAL*8 function my_function(x, y)\n",
      "implicit none\n",
      "REAL*8, intent(in) :: x\n",
      "REAL*8, intent(in) :: y\n",
      "\n",
      "my_function = -3.0d0*y*sqrt(x**2 + y**2)\n",
      "\n",
      "end function\n",
      "\n"
     ]
    }
   ],
   "source": [
    "result = codegen(('my_function', simplify(ty)), 'f95', 'my_project')\n",
    "print ( result[0][1])"
   ]
  },
  {
   "cell_type": "markdown",
   "metadata": {},
   "source": [
    "## 4b .Varying angle of misalignment Example 2b Open field lines\n",
    "https://www.sciencedirect.com/science/article/pii/"
   ]
  },
  {
   "cell_type": "code",
   "execution_count": 53,
   "metadata": {},
   "outputs": [
    {
     "data": {
      "image/png": "[encoded data removed]",
      "text/latex": [
       "$$\\frac{1}{\\left(\\left(x - 0.5\\right)^{2} + \\left(y - 0.5\\right)^{2}\\right)^{15.5}} \\left(2 \\left(D_{para} - 1\\right) \\left(x - 0.5\\right) \\left(3.0 x - 1.5\\right) \\left(y - 0.5\\right)^{2} \\left(\\left(x - 0.5\\right)^{2} + \\left(y - 0.5\\right)^{2}\\right)^{14.0} + \\left(3.0 y - 1.5\\right) \\left(\\left(x - 0.5\\right)^{2} + \\left(y - 0.5\\right)^{2}\\right)^{14.0} \\left(- 2 D_{para} \\left(y - 0.5\\right)^{3} + 2 \\left(y - 0.5\\right)^{3} + \\left(\\left(x - 0.5\\right)^{2} + \\left(y - 0.5\\right)^{2}\\right) \\left(D_{para} \\left(y - 0.5\\right) - y + 0.5\\right)\\right) - \\left(\\left(3.0 x - 1.5\\right) \\left(\\left(- D_{para} + 1\\right) \\left(x - 0.5\\right) \\left(y - 0.5\\right) \\left(2 y - 1.0\\right) + \\left(\\left(x - 0.5\\right)^{2} + \\left(y - 0.5\\right)^{2}\\right) \\left(D_{para} \\left(x - 0.5\\right) - x + 0.5\\right)\\right) + \\left(2 y - 1.0\\right) \\left(3.0 y - 1.5\\right) \\left(D_{para} \\left(y - 0.5\\right)^{2} - D_{para} \\left(\\left(x - 0.5\\right)^{2} + \\left(y - 0.5\\right)^{2}\\right) + \\left(x - 0.5\\right)^{2}\\right)\\right) \\left(\\left(x - 0.5\\right)^{2} + \\left(y - 0.5\\right)^{2}\\right)^{14.0} + \\left(\\left(x - 0.5\\right)^{2} + \\left(y - 0.5\\right)^{2}\\right)^{14.0} \\left(- \\left(D_{para} - 1\\right) \\left(x - 0.5\\right) \\left(1.0 x - 0.5\\right) \\left(y - 0.5\\right) \\left(3.0 y - 1.5\\right) - \\left(D_{para} - 1\\right) \\left(x - 0.5\\right) \\left(3.0 x - 1.5\\right) \\left(y - 0.5\\right) \\left(1.0 y - 0.5\\right) + \\left(1.0 x - 0.5\\right) \\left(3.0 x - 1.5\\right) \\left(D_{para} \\left(x - 0.5\\right)^{2} + \\left(y - 0.5\\right)^{2}\\right) + \\left(1.0 y - 0.5\\right) \\left(3.0 y - 1.5\\right) \\left(D_{para} \\left(y - 0.5\\right)^{2} + \\left(x - 0.5\\right)^{2}\\right)\\right) + 3.0 \\left(\\left(x - 0.5\\right)^{2} + \\left(y - 0.5\\right)^{2}\\right)^{15.0} \\left(D_{para} \\left(x - 0.5\\right)^{2} + D_{para} \\left(y - 0.5\\right)^{2} + \\left(x - 0.5\\right)^{2} + \\left(y - 0.5\\right)^{2}\\right)\\right)$$"
      ],
      "text/plain": [
       "                         -15.5 ⎛                                              \n",
       "⎛         2            2⎞      ⎜                                              \n",
       "⎝(x - 0.5)  + (y - 0.5) ⎠     ⋅⎝2⋅(Dₚₐᵣₐ - 1)⋅(x - 0.5)⋅(3.0⋅x - 1.5)⋅(y - 0.5\n",
       "\n",
       "                            14.0                                          14.0\n",
       " 2 ⎛         2            2⎞                     ⎛         2            2⎞    \n",
       ") ⋅⎝(x - 0.5)  + (y - 0.5) ⎠     + (3.0⋅y - 1.5)⋅⎝(x - 0.5)  + (y - 0.5) ⎠    \n",
       "\n",
       "                                                                              \n",
       " ⎛                   3              3   ⎛         2            2⎞             \n",
       "⋅⎝- 2⋅Dₚₐᵣₐ⋅(y - 0.5)  + 2⋅(y - 0.5)  + ⎝(x - 0.5)  + (y - 0.5) ⎠⋅(Dₚₐᵣₐ⋅(y - \n",
       "\n",
       "                                                                              \n",
       "               ⎞   ⎛              ⎛                                           \n",
       "0.5) - y + 0.5)⎠ - ⎝(3.0⋅x - 1.5)⋅⎝(-Dₚₐᵣₐ + 1)⋅(x - 0.5)⋅(y - 0.5)⋅(2⋅y - 1.0\n",
       "\n",
       "                                                                              \n",
       "    ⎛         2            2⎞                            ⎞                    \n",
       ") + ⎝(x - 0.5)  + (y - 0.5) ⎠⋅(Dₚₐᵣₐ⋅(x - 0.5) - x + 0.5)⎠ + (2⋅y - 1.0)⋅(3.0⋅\n",
       "\n",
       "                                                                              \n",
       "         ⎛               2         ⎛         2            2⎞            2⎞⎞ ⎛ \n",
       "y - 1.5)⋅⎝Dₚₐᵣₐ⋅(y - 0.5)  - Dₚₐᵣₐ⋅⎝(x - 0.5)  + (y - 0.5) ⎠ + (x - 0.5) ⎠⎠⋅⎝(\n",
       "\n",
       "                       14.0                            14.0                   \n",
       "        2            2⎞       ⎛         2            2⎞     ⎛                 \n",
       "x - 0.5)  + (y - 0.5) ⎠     + ⎝(x - 0.5)  + (y - 0.5) ⎠    ⋅⎝-(Dₚₐᵣₐ - 1)⋅(x -\n",
       "\n",
       "                                                                              \n",
       "                                                                              \n",
       " 0.5)⋅(1.0⋅x - 0.5)⋅(y - 0.5)⋅(3.0⋅y - 1.5) - (Dₚₐᵣₐ - 1)⋅(x - 0.5)⋅(3.0⋅x - 1\n",
       "\n",
       "                                                                              \n",
       "                                                          ⎛               2   \n",
       ".5)⋅(y - 0.5)⋅(1.0⋅y - 0.5) + (1.0⋅x - 0.5)⋅(3.0⋅x - 1.5)⋅⎝Dₚₐᵣₐ⋅(x - 0.5)  + \n",
       "\n",
       "                                                                              \n",
       "         2⎞                               ⎛               2            2⎞⎞    \n",
       "(y - 0.5) ⎠ + (1.0⋅y - 0.5)⋅(3.0⋅y - 1.5)⋅⎝Dₚₐᵣₐ⋅(y - 0.5)  + (x - 0.5) ⎠⎠ + 3\n",
       "\n",
       "                            15.0                                              \n",
       "   ⎛         2            2⎞     ⎛               2                  2         \n",
       ".0⋅⎝(x - 0.5)  + (y - 0.5) ⎠    ⋅⎝Dₚₐᵣₐ⋅(x - 0.5)  + Dₚₐᵣₐ⋅(y - 0.5)  + (x - 0\n",
       "\n",
       "                  ⎞\n",
       "   2            2⎞⎟\n",
       ".5)  + (y - 0.5) ⎠⎠"
      ]
     },
     "execution_count": 53,
     "metadata": {},
     "output_type": "execute_result"
    }
   ],
   "source": [
    "t = 1-((x-0.5)**2+(y-0.5)**2)**1.5\n",
    "tx=diff(t,x)\n",
    "txx=diff(tx,x)\n",
    "ty=diff(t,y)\n",
    "tyy=diff(ty,y)\n",
    "beta = atan(-(y-0.5)/(x-0.5))\n",
    "U = Matrix ([[D_para,0],\n",
    "             [0,1]])\n",
    "R = Matrix ([[cos(beta),sin(beta)],\n",
    "             [-sin(beta),cos(beta)]])\n",
    "D=R**-1*U*R\n",
    "\n",
    "delT=Matrix ([[tx], [ty]])\n",
    "DdelT=-D*(delT)\n",
    "simplify(DdelT)\n",
    "Source_open=((diff((DdelT[0]),x))+(diff((DdelT[1]),y)))\n",
    "simplify(Source_open)"
   ]
  },
  {
   "cell_type": "code",
   "execution_count": 54,
   "metadata": {
    "scrolled": true
   },
   "outputs": [
    {
     "name": "stdout",
     "output_type": "stream",
     "text": [
      "!******************************************************************************\n",
      "!*                      Code generated with sympy 1.1.1                       *\n",
      "!*                                                                            *\n",
      "!*              See http://www.sympy.org/ for more information.               *\n",
      "!*                                                                            *\n",
      "!*                       This file is part of 'project'                       *\n",
      "!******************************************************************************\n",
      "\n",
      "REAL*8 function my_function(D_para, x, y)\n",
      "implicit none\n",
      "REAL*8, intent(in) :: D_para\n",
      "REAL*8, intent(in) :: x\n",
      "REAL*8, intent(in) :: y\n",
      "\n",
      "my_function = ((x - 0.5d0)**2 + (y - 0.5d0)**2)**(-15.5d0)*(2*(D_para - &\n",
      "      1)*(x - 0.5d0)*(3.0d0*x - 1.5d0)*(y - 0.5d0)**2*((x - 0.5d0)**2 + &\n",
      "      (y - 0.5d0)**2)**14.0d0 + (3.0d0*y - 1.5d0)*((x - 0.5d0)**2 + (y &\n",
      "      - 0.5d0)**2)**14.0d0*(-2*D_para*(y - 0.5d0)**3 + 2*(y - 0.5d0)**3 &\n",
      "      + ((x - 0.5d0)**2 + (y - 0.5d0)**2)*(D_para*(y - 0.5d0) - y + &\n",
      "      0.5d0)) - ((3.0d0*x - 1.5d0)*((-D_para + 1)*(x - 0.5d0)*(y - &\n",
      "      0.5d0)*(2*y - 1.0d0) + ((x - 0.5d0)**2 + (y - 0.5d0)**2)*(D_para* &\n",
      "      (x - 0.5d0) - x + 0.5d0)) + (2*y - 1.0d0)*(3.0d0*y - 1.5d0)*( &\n",
      "      D_para*(y - 0.5d0)**2 - D_para*((x - 0.5d0)**2 + (y - 0.5d0)**2) &\n",
      "      + (x - 0.5d0)**2))*((x - 0.5d0)**2 + (y - 0.5d0)**2)**14.0d0 + (( &\n",
      "      x - 0.5d0)**2 + (y - 0.5d0)**2)**14.0d0*(-(D_para - 1)*(x - 0.5d0 &\n",
      "      )*(1.0d0*x - 0.5d0)*(y - 0.5d0)*(3.0d0*y - 1.5d0) - (D_para - 1)* &\n",
      "      (x - 0.5d0)*(3.0d0*x - 1.5d0)*(y - 0.5d0)*(1.0d0*y - 0.5d0) + ( &\n",
      "      1.0d0*x - 0.5d0)*(3.0d0*x - 1.5d0)*(D_para*(x - 0.5d0)**2 + (y - &\n",
      "      0.5d0)**2) + (1.0d0*y - 0.5d0)*(3.0d0*y - 1.5d0)*(D_para*(y - &\n",
      "      0.5d0)**2 + (x - 0.5d0)**2)) + 3.0d0*((x - 0.5d0)**2 + (y - 0.5d0 &\n",
      "      )**2)**15.0d0*(D_para*(x - 0.5d0)**2 + D_para*(y - 0.5d0)**2 + (x &\n",
      "      - 0.5d0)**2 + (y - 0.5d0)**2))\n",
      "\n",
      "end function\n",
      "\n"
     ]
    }
   ],
   "source": [
    "result = codegen(('my_function', simplify(Source_open)), 'f95', 'my_project')\n",
    "print ( result[0][1])"
   ]
  },
  {
   "cell_type": "code",
   "execution_count": 55,
   "metadata": {},
   "outputs": [
    {
     "data": {
      "image/png": "[encoded data removed]",
      "text/latex": [
       "$$\\left[\\begin{matrix}\\frac{D_{para} \\left(x - 0.5\\right)^{2} + \\left(y - 0.5\\right)^{2}}{\\left(x - 0.5\\right)^{2} + \\left(y - 0.5\\right)^{2}} & \\frac{\\left(- D_{para} + 1\\right) \\left(x - 0.5\\right) \\left(y - 0.5\\right)}{\\left(x - 0.5\\right)^{2} + \\left(y - 0.5\\right)^{2}}\\\\\\frac{\\left(- D_{para} + 1\\right) \\left(x - 0.5\\right) \\left(y - 0.5\\right)}{\\left(x - 0.5\\right)^{2} + \\left(y - 0.5\\right)^{2}} & \\frac{D_{para} \\left(y - 0.5\\right)^{2} + \\left(x - 0.5\\right)^{2}}{\\left(x - 0.5\\right)^{2} + \\left(y - 0.5\\right)^{2}}\\end{matrix}\\right]$$"
      ],
      "text/plain": [
       "⎡                2            2                                    ⎤\n",
       "⎢ Dₚₐᵣₐ⋅(x - 0.5)  + (y - 0.5)     (-Dₚₐᵣₐ + 1)⋅(x - 0.5)⋅(y - 0.5)⎥\n",
       "⎢ ─────────────────────────────    ────────────────────────────────⎥\n",
       "⎢             2            2                    2            2     ⎥\n",
       "⎢    (x - 0.5)  + (y - 0.5)            (x - 0.5)  + (y - 0.5)      ⎥\n",
       "⎢                                                                  ⎥\n",
       "⎢                                                  2            2  ⎥\n",
       "⎢(-Dₚₐᵣₐ + 1)⋅(x - 0.5)⋅(y - 0.5)   Dₚₐᵣₐ⋅(y - 0.5)  + (x - 0.5)   ⎥\n",
       "⎢────────────────────────────────   ─────────────────────────────  ⎥\n",
       "⎢             2            2                    2            2     ⎥\n",
       "⎣    (x - 0.5)  + (y - 0.5)            (x - 0.5)  + (y - 0.5)      ⎦"
      ]
     },
     "execution_count": 55,
     "metadata": {},
     "output_type": "execute_result"
    }
   ],
   "source": [
    "simplify(D)"
   ]
  },
  {
   "cell_type": "code",
   "execution_count": 56,
   "metadata": {},
   "outputs": [
    {
     "name": "stdout",
     "output_type": "stream",
     "text": [
      "!******************************************************************************\n",
      "!*                      Code generated with sympy 1.1.1                       *\n",
      "!*                                                                            *\n",
      "!*              See http://www.sympy.org/ for more information.               *\n",
      "!*                                                                            *\n",
      "!*                       This file is part of 'project'                       *\n",
      "!******************************************************************************\n",
      "\n",
      "subroutine my_function(D_para, x, y, out_7445189485379538126)\n",
      "implicit none\n",
      "REAL*8, intent(in) :: D_para\n",
      "REAL*8, intent(in) :: x\n",
      "REAL*8, intent(in) :: y\n",
      "REAL*8, intent(out), dimension(1:2, 1:2) :: out_7445189485379538126\n",
      "\n",
      "out_7445189485379538126(1, 1) = (D_para*(x - 0.5d0)**2 + (y - 0.5d0)**2) &\n",
      "      /((x - 0.5d0)**2 + (y - 0.5d0)**2)\n",
      "out_7445189485379538126(2, 1) = (-D_para + 1)*(x - 0.5d0)*(y - 0.5d0)/(( &\n",
      "      x - 0.5d0)**2 + (y - 0.5d0)**2)\n",
      "out_7445189485379538126(1, 2) = (-D_para + 1)*(x - 0.5d0)*(y - 0.5d0)/(( &\n",
      "      x - 0.5d0)**2 + (y - 0.5d0)**2)\n",
      "out_7445189485379538126(2, 2) = (D_para*(y - 0.5d0)**2 + (x - 0.5d0)**2) &\n",
      "      /((x - 0.5d0)**2 + (y - 0.5d0)**2)\n",
      "\n",
      "end subroutine\n",
      "\n"
     ]
    }
   ],
   "source": [
    "result = codegen(('my_function',simplify(D)), 'f95', 'my_project')\n",
    "print ( result[0][1])"
   ]
  },
  {
   "cell_type": "code",
   "execution_count": 57,
   "metadata": {},
   "outputs": [
    {
     "data": {
      "image/png": "[encoded data removed]",
      "text/latex": [
       "$$\\left(- 3.0 x + 1.5\\right) \\left(\\left(x - 0.5\\right)^{2} + \\left(y - 0.5\\right)^{2}\\right)^{0.5}$$"
      ],
      "text/plain": [
       "                                        0.5\n",
       "               ⎛         2            2⎞   \n",
       "(-3.0⋅x + 1.5)⋅⎝(x - 0.5)  + (y - 0.5) ⎠   "
      ]
     },
     "execution_count": 57,
     "metadata": {},
     "output_type": "execute_result"
    }
   ],
   "source": [
    "simplify(tx)"
   ]
  },
  {
   "cell_type": "code",
   "execution_count": 58,
   "metadata": {},
   "outputs": [
    {
     "name": "stdout",
     "output_type": "stream",
     "text": [
      "!******************************************************************************\n",
      "!*                      Code generated with sympy 1.1.1                       *\n",
      "!*                                                                            *\n",
      "!*              See http://www.sympy.org/ for more information.               *\n",
      "!*                                                                            *\n",
      "!*                       This file is part of 'project'                       *\n",
      "!******************************************************************************\n",
      "\n",
      "REAL*8 function my_function(x, y)\n",
      "implicit none\n",
      "REAL*8, intent(in) :: x\n",
      "REAL*8, intent(in) :: y\n",
      "\n",
      "my_function = (-3.0d0*x + 1.5d0)*sqrt((x - 0.5d0)**2 + (y - 0.5d0)**2)\n",
      "\n",
      "end function\n",
      "\n"
     ]
    }
   ],
   "source": [
    "result = codegen(('my_function', simplify(tx)), 'f95', 'my_project')\n",
    "print ( result[0][1])"
   ]
  },
  {
   "cell_type": "code",
   "execution_count": 59,
   "metadata": {},
   "outputs": [
    {
     "data": {
      "image/png": "[encoded data removed]",
      "text/latex": [
       "$$\\left(- 3.0 y + 1.5\\right) \\left(\\left(x - 0.5\\right)^{2} + \\left(y - 0.5\\right)^{2}\\right)^{0.5}$$"
      ],
      "text/plain": [
       "                                        0.5\n",
       "               ⎛         2            2⎞   \n",
       "(-3.0⋅y + 1.5)⋅⎝(x - 0.5)  + (y - 0.5) ⎠   "
      ]
     },
     "execution_count": 59,
     "metadata": {},
     "output_type": "execute_result"
    }
   ],
   "source": [
    "simplify(ty)"
   ]
  },
  {
   "cell_type": "code",
   "execution_count": 60,
   "metadata": {},
   "outputs": [
    {
     "name": "stdout",
     "output_type": "stream",
     "text": [
      "!******************************************************************************\n",
      "!*                      Code generated with sympy 1.1.1                       *\n",
      "!*                                                                            *\n",
      "!*              See http://www.sympy.org/ for more information.               *\n",
      "!*                                                                            *\n",
      "!*                       This file is part of 'project'                       *\n",
      "!******************************************************************************\n",
      "\n",
      "REAL*8 function my_function(x, y)\n",
      "implicit none\n",
      "REAL*8, intent(in) :: x\n",
      "REAL*8, intent(in) :: y\n",
      "\n",
      "my_function = (-3.0d0*y + 1.5d0)*sqrt((x - 0.5d0)**2 + (y - 0.5d0)**2)\n",
      "\n",
      "end function\n",
      "\n"
     ]
    }
   ],
   "source": [
    "result = codegen(('my_function', simplify(ty)), 'f95', 'my_project')\n",
    "print ( result[0][1])"
   ]
  },
  {
   "cell_type": "code",
   "execution_count": null,
   "metadata": {
    "collapsed": true
   },
   "outputs": [],
   "source": []
  },
  {
   "cell_type": "markdown",
   "metadata": {},
   "source": [
    "## 4c. Tilted elliptic temperature distributions Example 3a Open field lines\n",
    "https://www.sciencedirect.com/science/article/pii/"
   ]
  },
  {
   "cell_type": "code",
   "execution_count": 61,
   "metadata": {},
   "outputs": [
    {
     "name": "stdout",
     "output_type": "stream",
     "text": [
      "!******************************************************************************\n",
      "!*                      Code generated with sympy 1.1.1                       *\n",
      "!*                                                                            *\n",
      "!*              See http://www.sympy.org/ for more information.               *\n",
      "!*                                                                            *\n",
      "!*                       This file is part of 'project'                       *\n",
      "!******************************************************************************\n",
      "\n",
      "REAL*8 function my_function(D_para, a, b, x, y)\n",
      "implicit none\n",
      "REAL*8, intent(in) :: D_para\n",
      "REAL*8, intent(in) :: a\n",
      "REAL*8, intent(in) :: b\n",
      "REAL*8, intent(in) :: x\n",
      "REAL*8, intent(in) :: y\n",
      "\n",
      "my_function = -(x**2 + y**2)**(-0.5d0)*(-(a*(x**2 + y**2)**1.5d0 + 3.0d0 &\n",
      "      *x*sqrt(x**2 + y**2)*(a*x + b*y))**3*((D_para - 1)*(b*(x**2 + y** &\n",
      "      2)**1.5d0 + 3.0d0*y*sqrt(x**2 + y**2)*(a*x + b*y))**2*((a*(x**2 + &\n",
      "      y**2)**1.5d0 + 3.0d0*x*sqrt(x**2 + y**2)*(a*x + b*y))*(6.0d0*y**2 &\n",
      "      *(a*x + b*y) + (x**2 + y**2)**1.0d0*(6.0d0*a*x + 18.0d0*b*y)) - &\n",
      "      6.0d0*(b*(x**2 + y**2)**1.5d0 + 3.0d0*y*sqrt(x**2 + y**2)*(a*x + &\n",
      "      b*y))*(x*y*(a*x + b*y) + (x**2 + y**2)**1.0d0*(a*y + b*x))) - ((a &\n",
      "      *(x**2 + y**2)**1.5d0 + 3.0d0*x*sqrt(x**2 + y**2)*(a*x + b*y))**2 &\n",
      "      + (b*(x**2 + y**2)**1.5d0 + 3.0d0*y*sqrt(x**2 + y**2)*(a*x + b*y &\n",
      "      ))**2)*(D_para*(a*(x**2 + y**2)**1.5d0 + 3.0d0*x*sqrt(x**2 + y**2 &\n",
      "      )*(a*x + b*y))*(3.0d0*y**2*(a*x + b*y) + (x**2 + y**2)**1.0d0*( &\n",
      "      3.0d0*a*x + 9.0d0*b*y)) - 3.0d0*D_para*(b*(x**2 + y**2)**1.5d0 + &\n",
      "      3.0d0*y*sqrt(x**2 + y**2)*(a*x + b*y))*(x*y*(a*x + b*y) + (x**2 + &\n",
      "      y**2)**1.0d0*(a*y + b*x)) - (a*(x**2 + y**2)**1.5d0 + 3.0d0*x* &\n",
      "      sqrt(x**2 + y**2)*(a*x + b*y))*(3.0d0*y**2*(a*x + b*y) + (x**2 + &\n",
      "      y**2)**1.0d0*(3.0d0*a*x + 9.0d0*b*y)) + 3.0d0*(b*(x**2 + y**2)** &\n",
      "      1.5d0 + 3.0d0*y*sqrt(x**2 + y**2)*(a*x + b*y))*(x*y*(a*x + b*y) + &\n",
      "      (x**2 + y**2)**1.0d0*(a*y + b*x)))) - (a*(x**2 + y**2)**1.5d0 + &\n",
      "      3.0d0*x*sqrt(x**2 + y**2)*(a*x + b*y))**2*(b*(x**2 + y**2)**1.5d0 &\n",
      "      + 3.0d0*y*sqrt(x**2 + y**2)*(a*x + b*y))*(D_para*(-6.0d0*(a*(x**2 &\n",
      "      + y**2)**1.5d0 + 3.0d0*x*sqrt(x**2 + y**2)*(a*x + b*y))*(x*y*(a*x &\n",
      "      + b*y) + (x**2 + y**2)**1.0d0*(a*y + b*x))*((a*(x**2 + y**2)** &\n",
      "      1.5d0 + 3.0d0*x*sqrt(x**2 + y**2)*(a*x + b*y))**2 + (b*(x**2 + y &\n",
      "      **2)**1.5d0 + 3.0d0*y*sqrt(x**2 + y**2)*(a*x + b*y))**2) + (b*(x &\n",
      "      **2 + y**2)**1.5d0 + 3.0d0*y*sqrt(x**2 + y**2)*(a*x + b*y))**2*( &\n",
      "      6.0d0*(a*(x**2 + y**2)**1.5d0 + 3.0d0*x*sqrt(x**2 + y**2)*(a*x + &\n",
      "      b*y))*(x*y*(a*x + b*y) + (x**2 + y**2)**1.0d0*(a*y + b*x)) - (b*( &\n",
      "      x**2 + y**2)**1.5d0 + 3.0d0*y*sqrt(x**2 + y**2)*(a*x + b*y))*( &\n",
      "      6.0d0*x**2*(a*x + b*y) + (x**2 + y**2)**1.0d0*(18.0d0*a*x + 6.0d0 &\n",
      "      *b*y))) + (b*(x**2 + y**2)**1.5d0 + 3.0d0*y*sqrt(x**2 + y**2)*(a* &\n",
      "      x + b*y))*(6.0d0*x**2*(a*x + b*y) + (x**2 + y**2)**1.0d0*(18.0d0* &\n",
      "      a*x + 6.0d0*b*y))*((a*(x**2 + y**2)**1.5d0 + 3.0d0*x*sqrt(x**2 + &\n",
      "      y**2)*(a*x + b*y))**2 + (b*(x**2 + y**2)**1.5d0 + 3.0d0*y*sqrt(x &\n",
      "      **2 + y**2)*(a*x + b*y))**2)) + 6.0d0*(a*(x**2 + y**2)**1.5d0 + &\n",
      "      3.0d0*x*sqrt(x**2 + y**2)*(a*x + b*y))*(x*y*(a*x + b*y) + (x**2 + &\n",
      "      y**2)**1.0d0*(a*y + b*x))*((a*(x**2 + y**2)**1.5d0 + 3.0d0*x*sqrt &\n",
      "      (x**2 + y**2)*(a*x + b*y))**2 + (b*(x**2 + y**2)**1.5d0 + 3.0d0*y &\n",
      "      *sqrt(x**2 + y**2)*(a*x + b*y))**2) - (b*(x**2 + y**2)**1.5d0 + &\n",
      "      3.0d0*y*sqrt(x**2 + y**2)*(a*x + b*y))**2*(6.0d0*(a*(x**2 + y**2) &\n",
      "      **1.5d0 + 3.0d0*x*sqrt(x**2 + y**2)*(a*x + b*y))*(x*y*(a*x + b*y &\n",
      "      ) + (x**2 + y**2)**1.0d0*(a*y + b*x)) - (b*(x**2 + y**2)**1.5d0 + &\n",
      "      3.0d0*y*sqrt(x**2 + y**2)*(a*x + b*y))*(6.0d0*x**2*(a*x + b*y) + &\n",
      "      (x**2 + y**2)**1.0d0*(18.0d0*a*x + 6.0d0*b*y))) - (b*(x**2 + y**2 &\n",
      "      )**1.5d0 + 3.0d0*y*sqrt(x**2 + y**2)*(a*x + b*y))*(6.0d0*x**2*(a* &\n",
      "      x + b*y) + (x**2 + y**2)**1.0d0*(18.0d0*a*x + 6.0d0*b*y))*((a*(x &\n",
      "      **2 + y**2)**1.5d0 + 3.0d0*x*sqrt(x**2 + y**2)*(a*x + b*y))**2 + &\n",
      "      (b*(x**2 + y**2)**1.5d0 + 3.0d0*y*sqrt(x**2 + y**2)*(a*x + b*y)) &\n",
      "      **2)) - (a*(x**2 + y**2)**1.5d0 + 3.0d0*x*sqrt(x**2 + y**2)*(a*x &\n",
      "      + b*y))**2*((a*(x**2 + y**2)**1.5d0 + 3.0d0*x*sqrt(x**2 + y**2)*( &\n",
      "      a*x + b*y))**2 + (b*(x**2 + y**2)**1.5d0 + 3.0d0*y*sqrt(x**2 + y &\n",
      "      **2)*(a*x + b*y))**2)*(-6.0d0*(D_para - 1)*(a*(x**2 + y**2)** &\n",
      "      1.5d0 + 3.0d0*x*sqrt(x**2 + y**2)*(a*x + b*y))*(b*(x**2 + y**2)** &\n",
      "      1.5d0 + 3.0d0*y*sqrt(x**2 + y**2)*(a*x + b*y))*(x*y*(a*x + b*y) + &\n",
      "      (x**2 + y**2)**1.0d0*(a*y + b*x)) + (D_para*(a*(x**2 + y**2)** &\n",
      "      1.5d0 + 3.0d0*x*sqrt(x**2 + y**2)*(a*x + b*y))**2 + (b*(x**2 + y &\n",
      "      **2)**1.5d0 + 3.0d0*y*sqrt(x**2 + y**2)*(a*x + b*y))**2)*(3.0d0*x &\n",
      "      **2*(a*x + b*y) + (x**2 + y**2)**1.0d0*(9.0d0*a*x + 3.0d0*b*y)) + &\n",
      "      (D_para*(b*(x**2 + y**2)**1.5d0 + 3.0d0*y*sqrt(x**2 + y**2)*(a*x &\n",
      "      + b*y))**2 + (a*(x**2 + y**2)**1.5d0 + 3.0d0*x*sqrt(x**2 + y**2)* &\n",
      "      (a*x + b*y))**2)*(3.0d0*y**2*(a*x + b*y) + (x**2 + y**2)**1.0d0*( &\n",
      "      3.0d0*a*x + 9.0d0*b*y))) + (a*(x**2 + y**2)**1.5d0 + 3.0d0*x*sqrt &\n",
      "      (x**2 + y**2)*(a*x + b*y))*(b*(x**2 + y**2)**1.5d0 + 3.0d0*y*sqrt &\n",
      "      (x**2 + y**2)*(a*x + b*y))**2*(-D_para*(a*(x**2 + y**2)**1.5d0 + &\n",
      "      3.0d0*x*sqrt(x**2 + y**2)*(a*x + b*y))*(6.0d0*y**2*(a*x + b*y) + &\n",
      "      (x**2 + y**2)**1.0d0*(6.0d0*a*x + 18.0d0*b*y))*((a*(x**2 + y**2) &\n",
      "      **1.5d0 + 3.0d0*x*sqrt(x**2 + y**2)*(a*x + b*y))**2 + (b*(x**2 + &\n",
      "      y**2)**1.5d0 + 3.0d0*y*sqrt(x**2 + y**2)*(a*x + b*y))**2) + &\n",
      "      D_para*(b*(x**2 + y**2)**1.5d0 + 3.0d0*y*sqrt(x**2 + y**2)*(a*x + &\n",
      "      b*y))**2*((a*(x**2 + y**2)**1.5d0 + 3.0d0*x*sqrt(x**2 + y**2)*(a* &\n",
      "      x + b*y))*(6.0d0*y**2*(a*x + b*y) + (x**2 + y**2)**1.0d0*(6.0d0*a &\n",
      "      *x + 18.0d0*b*y)) - 6.0d0*(b*(x**2 + y**2)**1.5d0 + 3.0d0*y*sqrt( &\n",
      "      x**2 + y**2)*(a*x + b*y))*(x*y*(a*x + b*y) + (x**2 + y**2)**1.0d0 &\n",
      "      *(a*y + b*x))) + 6.0d0*D_para*(b*(x**2 + y**2)**1.5d0 + 3.0d0*y* &\n",
      "      sqrt(x**2 + y**2)*(a*x + b*y))*(x*y*(a*x + b*y) + (x**2 + y**2)** &\n",
      "      1.0d0*(a*y + b*x))*((a*(x**2 + y**2)**1.5d0 + 3.0d0*x*sqrt(x**2 + &\n",
      "      y**2)*(a*x + b*y))**2 + (b*(x**2 + y**2)**1.5d0 + 3.0d0*y*sqrt(x &\n",
      "      **2 + y**2)*(a*x + b*y))**2) + (a*(x**2 + y**2)**1.5d0 + 3.0d0*x* &\n",
      "      sqrt(x**2 + y**2)*(a*x + b*y))**2*((a*(x**2 + y**2)**1.5d0 + &\n",
      "      3.0d0*x*sqrt(x**2 + y**2)*(a*x + b*y))*(6.0d0*y**2*(a*x + b*y) + &\n",
      "      (x**2 + y**2)**1.0d0*(6.0d0*a*x + 18.0d0*b*y)) - 6.0d0*(b*(x**2 + &\n",
      "      y**2)**1.5d0 + 3.0d0*y*sqrt(x**2 + y**2)*(a*x + b*y))*(x*y*(a*x + &\n",
      "      b*y) + (x**2 + y**2)**1.0d0*(a*y + b*x)))) + (b*(x**2 + y**2)** &\n",
      "      1.5d0 + 3.0d0*y*sqrt(x**2 + y**2)*(a*x + b*y))*(D_para*(b*(x**2 + &\n",
      "      y**2)**1.5d0 + 3.0d0*y*sqrt(x**2 + y**2)*(a*x + b*y))**2*(-6.0d0* &\n",
      "      (a*(x**2 + y**2)**1.5d0 + 3.0d0*x*sqrt(x**2 + y**2)*(a*x + b*y))* &\n",
      "      (x*y*(a*x + b*y) + (x**2 + y**2)**1.0d0*(a*y + b*x))*((a*(x**2 + &\n",
      "      y**2)**1.5d0 + 3.0d0*x*sqrt(x**2 + y**2)*(a*x + b*y))**2 + (b*(x &\n",
      "      **2 + y**2)**1.5d0 + 3.0d0*y*sqrt(x**2 + y**2)*(a*x + b*y))**2) + &\n",
      "      (b*(x**2 + y**2)**1.5d0 + 3.0d0*y*sqrt(x**2 + y**2)*(a*x + b*y)) &\n",
      "      **2*(6.0d0*(a*(x**2 + y**2)**1.5d0 + 3.0d0*x*sqrt(x**2 + y**2)*(a &\n",
      "      *x + b*y))*(x*y*(a*x + b*y) + (x**2 + y**2)**1.0d0*(a*y + b*x)) - &\n",
      "      (b*(x**2 + y**2)**1.5d0 + 3.0d0*y*sqrt(x**2 + y**2)*(a*x + b*y))* &\n",
      "      (6.0d0*x**2*(a*x + b*y) + (x**2 + y**2)**1.0d0*(18.0d0*a*x + &\n",
      "      6.0d0*b*y))) + (b*(x**2 + y**2)**1.5d0 + 3.0d0*y*sqrt(x**2 + y**2 &\n",
      "      )*(a*x + b*y))*(6.0d0*x**2*(a*x + b*y) + (x**2 + y**2)**1.0d0*( &\n",
      "      18.0d0*a*x + 6.0d0*b*y))*((a*(x**2 + y**2)**1.5d0 + 3.0d0*x*sqrt( &\n",
      "      x**2 + y**2)*(a*x + b*y))**2 + (b*(x**2 + y**2)**1.5d0 + 3.0d0*y* &\n",
      "      sqrt(x**2 + y**2)*(a*x + b*y))**2)) + (a*(x**2 + y**2)**1.5d0 + &\n",
      "      3.0d0*x*sqrt(x**2 + y**2)*(a*x + b*y))**2*(b*(x**2 + y**2)**1.5d0 &\n",
      "      + 3.0d0*y*sqrt(x**2 + y**2)*(a*x + b*y))**2*(6.0d0*(a*(x**2 + y** &\n",
      "      2)**1.5d0 + 3.0d0*x*sqrt(x**2 + y**2)*(a*x + b*y))*(x*y*(a*x + b* &\n",
      "      y) + (x**2 + y**2)**1.0d0*(a*y + b*x)) - (b*(x**2 + y**2)**1.5d0 &\n",
      "      + 3.0d0*y*sqrt(x**2 + y**2)*(a*x + b*y))*(6.0d0*x**2*(a*x + b*y) &\n",
      "      + (x**2 + y**2)**1.0d0*(18.0d0*a*x + 6.0d0*b*y))) + (a*(x**2 + y &\n",
      "      **2)**1.5d0 + 3.0d0*x*sqrt(x**2 + y**2)*(a*x + b*y))**2*((a*(x**2 &\n",
      "      + y**2)**1.5d0 + 3.0d0*x*sqrt(x**2 + y**2)*(a*x + b*y))**2 + (b*( &\n",
      "      x**2 + y**2)**1.5d0 + 3.0d0*y*sqrt(x**2 + y**2)*(a*x + b*y))**2)* &\n",
      "      (3.0d0*D_para*(a*(x**2 + y**2)**1.5d0 + 3.0d0*x*sqrt(x**2 + y**2) &\n",
      "      *(a*x + b*y))*(x*y*(a*x + b*y) + (x**2 + y**2)**1.0d0*(a*y + b*x &\n",
      "      )) - D_para*(b*(x**2 + y**2)**1.5d0 + 3.0d0*y*sqrt(x**2 + y**2)*( &\n",
      "      a*x + b*y))*(3.0d0*x**2*(a*x + b*y) + (x**2 + y**2)**1.0d0*(9.0d0 &\n",
      "      *a*x + 3.0d0*b*y)) - 3.0d0*(a*(x**2 + y**2)**1.5d0 + 3.0d0*x*sqrt &\n",
      "      (x**2 + y**2)*(a*x + b*y))*(x*y*(a*x + b*y) + (x**2 + y**2)** &\n",
      "      1.0d0*(a*y + b*x)) + (b*(x**2 + y**2)**1.5d0 + 3.0d0*y*sqrt(x**2 &\n",
      "      + y**2)*(a*x + b*y))*(3.0d0*x**2*(a*x + b*y) + (x**2 + y**2)** &\n",
      "      1.0d0*(9.0d0*a*x + 3.0d0*b*y)))))/((a*(x**2 + y**2)**1.5d0 + &\n",
      "      3.0d0*x*sqrt(x**2 + y**2)*(a*x + b*y))**2*((a*(x**2 + y**2)** &\n",
      "      1.5d0 + 3.0d0*x*sqrt(x**2 + y**2)*(a*x + b*y))**2 + (b*(x**2 + y &\n",
      "      **2)**1.5d0 + 3.0d0*y*sqrt(x**2 + y**2)*(a*x + b*y))**2)**2)\n",
      "\n",
      "end function\n",
      "\n"
     ]
    }
   ],
   "source": [
    "t = 1-(a*x+b*y)*(x**2+y**2)**1.5\n",
    "tx=diff(t,x)\n",
    "txx=diff(tx,x)\n",
    "ty=diff(t,y)\n",
    "tyy=diff(ty,y)\n",
    "beta = atan(-ty/tx)\n",
    "U = Matrix ([[D_para,0],\n",
    "             [0,1]])\n",
    "R = Matrix ([[cos(beta),sin(beta)],\n",
    "             [-sin(beta),cos(beta)]])\n",
    "\n",
    "D=R**-1*U*R\n",
    "\n",
    "delT=Matrix ([[tx], [ty]])\n",
    "DdelT=-D*(delT)\n",
    "simplify(DdelT)\n",
    "Source_elliptic_open=((diff((DdelT[0]),x))+(diff((DdelT[1]),y)))\n",
    "result = codegen(('my_function', simplify(Source_elliptic_open)), 'f95', 'my_project')\n",
    "print ( result[0][1])"
   ]
  },
  {
   "cell_type": "code",
   "execution_count": 62,
   "metadata": {},
   "outputs": [
    {
     "data": {
      "image/png": "[encoded data removed]",
      "text/latex": [
       "$$- a \\left(x^{2} + y^{2}\\right)^{1.5} - 3.0 x \\left(x^{2} + y^{2}\\right)^{0.5} \\left(a x + b y\\right)$$"
      ],
      "text/plain": [
       "             1.5                  0.5            \n",
       "    ⎛ 2    2⎞            ⎛ 2    2⎞               \n",
       "- a⋅⎝x  + y ⎠    - 3.0⋅x⋅⎝x  + y ⎠   ⋅(a⋅x + b⋅y)"
      ]
     },
     "execution_count": 62,
     "metadata": {},
     "output_type": "execute_result"
    }
   ],
   "source": [
    "simplify(tx)"
   ]
  },
  {
   "cell_type": "code",
   "execution_count": 63,
   "metadata": {},
   "outputs": [
    {
     "name": "stdout",
     "output_type": "stream",
     "text": [
      "!******************************************************************************\n",
      "!*                      Code generated with sympy 1.1.1                       *\n",
      "!*                                                                            *\n",
      "!*              See http://www.sympy.org/ for more information.               *\n",
      "!*                                                                            *\n",
      "!*                       This file is part of 'project'                       *\n",
      "!******************************************************************************\n",
      "\n",
      "REAL*8 function my_function(a, b, x, y)\n",
      "implicit none\n",
      "REAL*8, intent(in) :: a\n",
      "REAL*8, intent(in) :: b\n",
      "REAL*8, intent(in) :: x\n",
      "REAL*8, intent(in) :: y\n",
      "\n",
      "my_function = -a*(x**2 + y**2)**1.5d0 - 3.0d0*x*sqrt(x**2 + y**2)*(a*x + &\n",
      "      b*y)\n",
      "\n",
      "end function\n",
      "\n"
     ]
    }
   ],
   "source": [
    "result = codegen(('my_function', simplify(tx)), 'f95', 'my_project')\n",
    "print ( result[0][1])"
   ]
  },
  {
   "cell_type": "code",
   "execution_count": 64,
   "metadata": {},
   "outputs": [
    {
     "data": {
      "image/png": "[encoded data removed]",
      "text/latex": [
       "$$- b \\left(x^{2} + y^{2}\\right)^{1.5} - 3.0 y \\left(x^{2} + y^{2}\\right)^{0.5} \\left(a x + b y\\right)$$"
      ],
      "text/plain": [
       "             1.5                  0.5            \n",
       "    ⎛ 2    2⎞            ⎛ 2    2⎞               \n",
       "- b⋅⎝x  + y ⎠    - 3.0⋅y⋅⎝x  + y ⎠   ⋅(a⋅x + b⋅y)"
      ]
     },
     "execution_count": 64,
     "metadata": {},
     "output_type": "execute_result"
    }
   ],
   "source": [
    "simplify(ty)"
   ]
  },
  {
   "cell_type": "code",
   "execution_count": 65,
   "metadata": {},
   "outputs": [
    {
     "name": "stdout",
     "output_type": "stream",
     "text": [
      "!******************************************************************************\n",
      "!*                      Code generated with sympy 1.1.1                       *\n",
      "!*                                                                            *\n",
      "!*              See http://www.sympy.org/ for more information.               *\n",
      "!*                                                                            *\n",
      "!*                       This file is part of 'project'                       *\n",
      "!******************************************************************************\n",
      "\n",
      "REAL*8 function my_function(a, b, x, y)\n",
      "implicit none\n",
      "REAL*8, intent(in) :: a\n",
      "REAL*8, intent(in) :: b\n",
      "REAL*8, intent(in) :: x\n",
      "REAL*8, intent(in) :: y\n",
      "\n",
      "my_function = -b*(x**2 + y**2)**1.5d0 - 3.0d0*y*sqrt(x**2 + y**2)*(a*x + &\n",
      "      b*y)\n",
      "\n",
      "end function\n",
      "\n"
     ]
    }
   ],
   "source": [
    "result = codegen(('my_function', simplify(ty)), 'f95', 'my_project')\n",
    "print ( result[0][1])"
   ]
  },
  {
   "cell_type": "code",
   "execution_count": 66,
   "metadata": {},
   "outputs": [
    {
     "data": {
      "image/png": "[encoded data removed]",
      "text/latex": [
       "$$\\left[\\begin{matrix}\\frac{D_{para} \\left(a \\left(x^{2} + y^{2}\\right)^{1.5} + 3.0 x \\left(x^{2} + y^{2}\\right)^{0.5} \\left(a x + b y\\right)\\right)^{2} + \\left(b \\left(x^{2} + y^{2}\\right)^{1.5} + 3.0 y \\left(x^{2} + y^{2}\\right)^{0.5} \\left(a x + b y\\right)\\right)^{2}}{\\left(a \\left(x^{2} + y^{2}\\right)^{1.5} + 3.0 x \\left(x^{2} + y^{2}\\right)^{0.5} \\left(a x + b y\\right)\\right)^{2} + \\left(b \\left(x^{2} + y^{2}\\right)^{1.5} + 3.0 y \\left(x^{2} + y^{2}\\right)^{0.5} \\left(a x + b y\\right)\\right)^{2}} & \\frac{\\left(- D_{para} + 1\\right) \\left(a \\left(x^{2} + y^{2}\\right)^{1.5} + 3.0 x \\left(x^{2} + y^{2}\\right)^{0.5} \\left(a x + b y\\right)\\right) \\left(b \\left(x^{2} + y^{2}\\right)^{1.5} + 3.0 y \\left(x^{2} + y^{2}\\right)^{0.5} \\left(a x + b y\\right)\\right)}{\\left(a \\left(x^{2} + y^{2}\\right)^{1.5} + 3.0 x \\left(x^{2} + y^{2}\\right)^{0.5} \\left(a x + b y\\right)\\right)^{2} + \\left(b \\left(x^{2} + y^{2}\\right)^{1.5} + 3.0 y \\left(x^{2} + y^{2}\\right)^{0.5} \\left(a x + b y\\right)\\right)^{2}}\\\\\\frac{\\left(- D_{para} + 1\\right) \\left(a \\left(x^{2} + y^{2}\\right)^{1.5} + 3.0 x \\left(x^{2} + y^{2}\\right)^{0.5} \\left(a x + b y\\right)\\right) \\left(b \\left(x^{2} + y^{2}\\right)^{1.5} + 3.0 y \\left(x^{2} + y^{2}\\right)^{0.5} \\left(a x + b y\\right)\\right)}{\\left(a \\left(x^{2} + y^{2}\\right)^{1.5} + 3.0 x \\left(x^{2} + y^{2}\\right)^{0.5} \\left(a x + b y\\right)\\right)^{2} + \\left(b \\left(x^{2} + y^{2}\\right)^{1.5} + 3.0 y \\left(x^{2} + y^{2}\\right)^{0.5} \\left(a x + b y\\right)\\right)^{2}} & \\frac{D_{para} \\left(b \\left(x^{2} + y^{2}\\right)^{1.5} + 3.0 y \\left(x^{2} + y^{2}\\right)^{0.5} \\left(a x + b y\\right)\\right)^{2} + \\left(a \\left(x^{2} + y^{2}\\right)^{1.5} + 3.0 x \\left(x^{2} + y^{2}\\right)^{0.5} \\left(a x + b y\\right)\\right)^{2}}{\\left(a \\left(x^{2} + y^{2}\\right)^{1.5} + 3.0 x \\left(x^{2} + y^{2}\\right)^{0.5} \\left(a x + b y\\right)\\right)^{2} + \\left(b \\left(x^{2} + y^{2}\\right)^{1.5} + 3.0 y \\left(x^{2} + y^{2}\\right)^{0.5} \\left(a x + b y\\right)\\right)^{2}}\\end{matrix}\\right]$$"
      ],
      "text/plain": [
       "⎡                                                        2                    \n",
       "⎢       ⎛           1.5                  0.5            ⎞    ⎛           1.5  \n",
       "⎢       ⎜  ⎛ 2    2⎞            ⎛ 2    2⎞               ⎟    ⎜  ⎛ 2    2⎞     \n",
       "⎢ Dₚₐᵣₐ⋅⎝a⋅⎝x  + y ⎠    + 3.0⋅x⋅⎝x  + y ⎠   ⋅(a⋅x + b⋅y)⎠  + ⎝b⋅⎝x  + y ⎠    +\n",
       "⎢ ────────────────────────────────────────────────────────────────────────────\n",
       "⎢                                                     2                       \n",
       "⎢    ⎛           1.5                  0.5            ⎞    ⎛           1.5     \n",
       "⎢    ⎜  ⎛ 2    2⎞            ⎛ 2    2⎞               ⎟    ⎜  ⎛ 2    2⎞        \n",
       "⎢    ⎝a⋅⎝x  + y ⎠    + 3.0⋅x⋅⎝x  + y ⎠   ⋅(a⋅x + b⋅y)⎠  + ⎝b⋅⎝x  + y ⎠    + 3.\n",
       "⎢                                                                             \n",
       "⎢                                                                             \n",
       "⎢             ⎛           1.5                  0.5            ⎞ ⎛           1.\n",
       "⎢             ⎜  ⎛ 2    2⎞            ⎛ 2    2⎞               ⎟ ⎜  ⎛ 2    2⎞  \n",
       "⎢(-Dₚₐᵣₐ + 1)⋅⎝a⋅⎝x  + y ⎠    + 3.0⋅x⋅⎝x  + y ⎠   ⋅(a⋅x + b⋅y)⎠⋅⎝b⋅⎝x  + y ⎠  \n",
       "⎢─────────────────────────────────────────────────────────────────────────────\n",
       "⎢                                                     2                       \n",
       "⎢    ⎛           1.5                  0.5            ⎞    ⎛           1.5     \n",
       "⎢    ⎜  ⎛ 2    2⎞            ⎛ 2    2⎞               ⎟    ⎜  ⎛ 2    2⎞        \n",
       "⎣    ⎝a⋅⎝x  + y ⎠    + 3.0⋅x⋅⎝x  + y ⎠   ⋅(a⋅x + b⋅y)⎠  + ⎝b⋅⎝x  + y ⎠    + 3.\n",
       "\n",
       "                                2                                             \n",
       "                0.5            ⎞                  ⎛           1.5             \n",
       "       ⎛ 2    2⎞               ⎟                  ⎜  ⎛ 2    2⎞            ⎛ 2 \n",
       " 3.0⋅y⋅⎝x  + y ⎠   ⋅(a⋅x + b⋅y)⎠     (-Dₚₐᵣₐ + 1)⋅⎝a⋅⎝x  + y ⎠    + 3.0⋅x⋅⎝x  \n",
       "─────────────────────────────────    ─────────────────────────────────────────\n",
       "                             2                                                \n",
       "             0.5            ⎞            ⎛           1.5                  0.5 \n",
       "    ⎛ 2    2⎞               ⎟            ⎜  ⎛ 2    2⎞            ⎛ 2    2⎞    \n",
       "0⋅y⋅⎝x  + y ⎠   ⋅(a⋅x + b⋅y)⎠            ⎝a⋅⎝x  + y ⎠    + 3.0⋅x⋅⎝x  + y ⎠   ⋅\n",
       "                                                                              \n",
       "                                                                              \n",
       "5                  0.5            ⎞         ⎛           1.5                  0\n",
       "          ⎛ 2    2⎞               ⎟         ⎜  ⎛ 2    2⎞            ⎛ 2    2⎞ \n",
       "  + 3.0⋅y⋅⎝x  + y ⎠   ⋅(a⋅x + b⋅y)⎠   Dₚₐᵣₐ⋅⎝b⋅⎝x  + y ⎠    + 3.0⋅y⋅⎝x  + y ⎠ \n",
       "───────────────────────────────────   ────────────────────────────────────────\n",
       "                             2                                                \n",
       "             0.5            ⎞            ⎛           1.5                  0.5 \n",
       "    ⎛ 2    2⎞               ⎟            ⎜  ⎛ 2    2⎞            ⎛ 2    2⎞    \n",
       "0⋅y⋅⎝x  + y ⎠   ⋅(a⋅x + b⋅y)⎠            ⎝a⋅⎝x  + y ⎠    + 3.0⋅x⋅⎝x  + y ⎠   ⋅\n",
       "\n",
       "                                                                       ⎤\n",
       "     0.5            ⎞ ⎛           1.5                  0.5            ⎞⎥\n",
       "   2⎞               ⎟ ⎜  ⎛ 2    2⎞            ⎛ 2    2⎞               ⎟⎥\n",
       "+ y ⎠   ⋅(a⋅x + b⋅y)⎠⋅⎝b⋅⎝x  + y ⎠    + 3.0⋅y⋅⎝x  + y ⎠   ⋅(a⋅x + b⋅y)⎠⎥\n",
       "───────────────────────────────────────────────────────────────────────⎥\n",
       "            2                                                    2     ⎥\n",
       "           ⎞    ⎛           1.5                  0.5            ⎞      ⎥\n",
       "           ⎟    ⎜  ⎛ 2    2⎞            ⎛ 2    2⎞               ⎟      ⎥\n",
       "(a⋅x + b⋅y)⎠  + ⎝b⋅⎝x  + y ⎠    + 3.0⋅y⋅⎝x  + y ⎠   ⋅(a⋅x + b⋅y)⎠      ⎥\n",
       "                                                                       ⎥\n",
       "               2                                                    2  ⎥\n",
       ".5            ⎞    ⎛           1.5                  0.5            ⎞   ⎥\n",
       "              ⎟    ⎜  ⎛ 2    2⎞            ⎛ 2    2⎞               ⎟   ⎥\n",
       "  ⋅(a⋅x + b⋅y)⎠  + ⎝a⋅⎝x  + y ⎠    + 3.0⋅x⋅⎝x  + y ⎠   ⋅(a⋅x + b⋅y)⎠   ⎥\n",
       "─────────────────────────────────────────────────────────────────────  ⎥\n",
       "            2                                                    2     ⎥\n",
       "           ⎞    ⎛           1.5                  0.5            ⎞      ⎥\n",
       "           ⎟    ⎜  ⎛ 2    2⎞            ⎛ 2    2⎞               ⎟      ⎥\n",
       "(a⋅x + b⋅y)⎠  + ⎝b⋅⎝x  + y ⎠    + 3.0⋅y⋅⎝x  + y ⎠   ⋅(a⋅x + b⋅y)⎠      ⎦"
      ]
     },
     "execution_count": 66,
     "metadata": {},
     "output_type": "execute_result"
    }
   ],
   "source": [
    "simplify(D)"
   ]
  },
  {
   "cell_type": "code",
   "execution_count": 67,
   "metadata": {},
   "outputs": [
    {
     "name": "stdout",
     "output_type": "stream",
     "text": [
      "!******************************************************************************\n",
      "!*                      Code generated with sympy 1.1.1                       *\n",
      "!*                                                                            *\n",
      "!*              See http://www.sympy.org/ for more information.               *\n",
      "!*                                                                            *\n",
      "!*                       This file is part of 'project'                       *\n",
      "!******************************************************************************\n",
      "\n",
      "subroutine my_function(D_para, a, b, x, y, out_8948775841857299638)\n",
      "implicit none\n",
      "REAL*8, intent(in) :: D_para\n",
      "REAL*8, intent(in) :: a\n",
      "REAL*8, intent(in) :: b\n",
      "REAL*8, intent(in) :: x\n",
      "REAL*8, intent(in) :: y\n",
      "REAL*8, intent(out), dimension(1:2, 1:2) :: out_8948775841857299638\n",
      "\n",
      "out_8948775841857299638(1, 1) = (D_para*(a*(x**2 + y**2)**1.5d0 + 3.0d0* &\n",
      "      x*sqrt(x**2 + y**2)*(a*x + b*y))**2 + (b*(x**2 + y**2)**1.5d0 + &\n",
      "      3.0d0*y*sqrt(x**2 + y**2)*(a*x + b*y))**2)/((a*(x**2 + y**2)** &\n",
      "      1.5d0 + 3.0d0*x*sqrt(x**2 + y**2)*(a*x + b*y))**2 + (b*(x**2 + y &\n",
      "      **2)**1.5d0 + 3.0d0*y*sqrt(x**2 + y**2)*(a*x + b*y))**2)\n",
      "out_8948775841857299638(2, 1) = (-D_para + 1)*(a*(x**2 + y**2)**1.5d0 + &\n",
      "      3.0d0*x*sqrt(x**2 + y**2)*(a*x + b*y))*(b*(x**2 + y**2)**1.5d0 + &\n",
      "      3.0d0*y*sqrt(x**2 + y**2)*(a*x + b*y))/((a*(x**2 + y**2)**1.5d0 + &\n",
      "      3.0d0*x*sqrt(x**2 + y**2)*(a*x + b*y))**2 + (b*(x**2 + y**2)** &\n",
      "      1.5d0 + 3.0d0*y*sqrt(x**2 + y**2)*(a*x + b*y))**2)\n",
      "out_8948775841857299638(1, 2) = (-D_para + 1)*(a*(x**2 + y**2)**1.5d0 + &\n",
      "      3.0d0*x*sqrt(x**2 + y**2)*(a*x + b*y))*(b*(x**2 + y**2)**1.5d0 + &\n",
      "      3.0d0*y*sqrt(x**2 + y**2)*(a*x + b*y))/((a*(x**2 + y**2)**1.5d0 + &\n",
      "      3.0d0*x*sqrt(x**2 + y**2)*(a*x + b*y))**2 + (b*(x**2 + y**2)** &\n",
      "      1.5d0 + 3.0d0*y*sqrt(x**2 + y**2)*(a*x + b*y))**2)\n",
      "out_8948775841857299638(2, 2) = (D_para*(b*(x**2 + y**2)**1.5d0 + 3.0d0* &\n",
      "      y*sqrt(x**2 + y**2)*(a*x + b*y))**2 + (a*(x**2 + y**2)**1.5d0 + &\n",
      "      3.0d0*x*sqrt(x**2 + y**2)*(a*x + b*y))**2)/((a*(x**2 + y**2)** &\n",
      "      1.5d0 + 3.0d0*x*sqrt(x**2 + y**2)*(a*x + b*y))**2 + (b*(x**2 + y &\n",
      "      **2)**1.5d0 + 3.0d0*y*sqrt(x**2 + y**2)*(a*x + b*y))**2)\n",
      "\n",
      "end subroutine\n",
      "\n"
     ]
    }
   ],
   "source": [
    "result = codegen(('my_function', simplify(D)), 'f95', 'my_project')\n",
    "print ( result[0][1])"
   ]
  },
  {
   "cell_type": "markdown",
   "metadata": {},
   "source": [
    "# 5a .Nonlinear isotropic"
   ]
  },
  {
   "cell_type": "code",
   "execution_count": 68,
   "metadata": {},
   "outputs": [
    {
     "data": {
      "image/png": "[encoded data removed]",
      "text/latex": [
       "$$2 \\pi^{2} \\left(3 \\sin^{2}{\\left (\\pi x \\right )} \\sin^{2}{\\left (\\pi y \\right )} - \\sin^{2}{\\left (\\pi x \\right )} - \\sin^{2}{\\left (\\pi y \\right )} + 1\\right) \\sin{\\left (\\pi x \\right )} \\sin{\\left (\\pi y \\right )}$$"
      ],
      "text/plain": [
       "   2 ⎛     2         2           2           2         ⎞                  \n",
       "2⋅π ⋅⎝3⋅sin (π⋅x)⋅sin (π⋅y) - sin (π⋅x) - sin (π⋅y) + 1⎠⋅sin(π⋅x)⋅sin(π⋅y)"
      ]
     },
     "execution_count": 68,
     "metadata": {},
     "output_type": "execute_result"
    }
   ],
   "source": [
    "t = ((sin(pi*x)*sin(pi*y)))\n",
    "# t=t\n",
    "\n",
    "# This is the Diffusion matrix\n",
    "\n",
    "D = Matrix ([[1+t**2,0],\n",
    "             [0,1+t**2]])\n",
    "tx=diff(t,x)\n",
    "txx=diff(tx,x)\n",
    "ty=diff(t,y)\n",
    "tyy=diff(ty,y)\n",
    "delT=Matrix ([[tx], [ty]])\n",
    "\n",
    "DdelT=-D*(delT)\n",
    "\n",
    "simplify(DdelT)\n",
    "\n",
    "# Substitute in the diffusion equation\n",
    "\n",
    "fmms=simplify((diff((DdelT[0]),x))+(diff((DdelT[1]),y)))\n",
    "simplify(fmms)"
   ]
  },
  {
   "cell_type": "code",
   "execution_count": 69,
   "metadata": {},
   "outputs": [
    {
     "data": {
      "image/png": "[encoded data removed]",
      "text/latex": [
       "$$\\pi \\sin{\\left (\\pi y \\right )} \\cos{\\left (\\pi x \\right )}$$"
      ],
      "text/plain": [
       "π⋅sin(π⋅y)⋅cos(π⋅x)"
      ]
     },
     "execution_count": 69,
     "metadata": {},
     "output_type": "execute_result"
    }
   ],
   "source": [
    "tx"
   ]
  },
  {
   "cell_type": "code",
   "execution_count": 70,
   "metadata": {},
   "outputs": [
    {
     "name": "stdout",
     "output_type": "stream",
     "text": [
      "!******************************************************************************\n",
      "!*                      Code generated with sympy 1.1.1                       *\n",
      "!*                                                                            *\n",
      "!*              See http://www.sympy.org/ for more information.               *\n",
      "!*                                                                            *\n",
      "!*                       This file is part of 'project'                       *\n",
      "!******************************************************************************\n",
      "\n",
      "REAL*8 function my_function(x, y)\n",
      "implicit none\n",
      "REAL*8, intent(in) :: x\n",
      "REAL*8, intent(in) :: y\n",
      "\n",
      "REAL*8, parameter :: pi = 3.14159265358979d0\n",
      "my_function = pi*sin(3.14159265358979d0*y)*cos(3.14159265358979d0*x)\n",
      "\n",
      "end function\n",
      "\n"
     ]
    }
   ],
   "source": [
    "result = codegen(('my_function', simplify(tx)), 'f95', 'my_project')\n",
    "print ( result[0][1])"
   ]
  },
  {
   "cell_type": "code",
   "execution_count": 71,
   "metadata": {},
   "outputs": [
    {
     "data": {
      "image/png": "[encoded data removed]",
      "text/latex": [
       "$$\\pi \\sin{\\left (\\pi x \\right )} \\cos{\\left (\\pi y \\right )}$$"
      ],
      "text/plain": [
       "π⋅sin(π⋅x)⋅cos(π⋅y)"
      ]
     },
     "execution_count": 71,
     "metadata": {},
     "output_type": "execute_result"
    }
   ],
   "source": [
    "ty"
   ]
  },
  {
   "cell_type": "code",
   "execution_count": 72,
   "metadata": {},
   "outputs": [
    {
     "name": "stdout",
     "output_type": "stream",
     "text": [
      "!******************************************************************************\n",
      "!*                      Code generated with sympy 1.1.1                       *\n",
      "!*                                                                            *\n",
      "!*              See http://www.sympy.org/ for more information.               *\n",
      "!*                                                                            *\n",
      "!*                       This file is part of 'project'                       *\n",
      "!******************************************************************************\n",
      "\n",
      "REAL*8 function my_function(x, y)\n",
      "implicit none\n",
      "REAL*8, intent(in) :: x\n",
      "REAL*8, intent(in) :: y\n",
      "\n",
      "REAL*8, parameter :: pi = 3.14159265358979d0\n",
      "my_function = pi*sin(3.14159265358979d0*x)*cos(3.14159265358979d0*y)\n",
      "\n",
      "end function\n",
      "\n"
     ]
    }
   ],
   "source": [
    "result = codegen(('my_function', simplify(ty)), 'f95', 'my_project')\n",
    "print ( result[0][1])"
   ]
  },
  {
   "cell_type": "code",
   "execution_count": 73,
   "metadata": {
    "scrolled": true
   },
   "outputs": [
    {
     "name": "stdout",
     "output_type": "stream",
     "text": [
      "!******************************************************************************\n",
      "!*                      Code generated with sympy 1.1.1                       *\n",
      "!*                                                                            *\n",
      "!*              See http://www.sympy.org/ for more information.               *\n",
      "!*                                                                            *\n",
      "!*                       This file is part of 'project'                       *\n",
      "!******************************************************************************\n",
      "\n",
      "REAL*8 function my_function(x, y)\n",
      "implicit none\n",
      "REAL*8, intent(in) :: x\n",
      "REAL*8, intent(in) :: y\n",
      "\n",
      "REAL*8, parameter :: pi = 3.14159265358979d0\n",
      "my_function = 2*pi**2*(3*sin(3.14159265358979d0*x)**2*sin( &\n",
      "      3.14159265358979d0*y)**2 - sin(3.14159265358979d0*x)**2 - sin( &\n",
      "      3.14159265358979d0*y)**2 + 1)*sin(3.14159265358979d0*x)*sin( &\n",
      "      3.14159265358979d0*y)\n",
      "\n",
      "end function\n",
      "\n"
     ]
    }
   ],
   "source": [
    "result = codegen(('my_function', simplify(fmms)), 'f95', 'my_project')\n",
    "print ( result[0][1])"
   ]
  },
  {
   "cell_type": "code",
   "execution_count": 74,
   "metadata": {},
   "outputs": [
    {
     "data": {
      "image/png": "[encoded data removed]",
      "text/latex": [
       "$$\\left[\\begin{matrix}\\sin^{2}{\\left (\\pi x \\right )} \\sin^{2}{\\left (\\pi y \\right )} + 1 & 0\\\\0 & \\sin^{2}{\\left (\\pi x \\right )} \\sin^{2}{\\left (\\pi y \\right )} + 1\\end{matrix}\\right]$$"
      ],
      "text/plain": [
       "⎡   2         2                                  ⎤\n",
       "⎢sin (π⋅x)⋅sin (π⋅y) + 1             0           ⎥\n",
       "⎢                                                ⎥\n",
       "⎢                            2         2         ⎥\n",
       "⎣           0             sin (π⋅x)⋅sin (π⋅y) + 1⎦"
      ]
     },
     "execution_count": 74,
     "metadata": {},
     "output_type": "execute_result"
    }
   ],
   "source": [
    "simplify(D)"
   ]
  },
  {
   "cell_type": "code",
   "execution_count": 75,
   "metadata": {},
   "outputs": [
    {
     "name": "stdout",
     "output_type": "stream",
     "text": [
      "!******************************************************************************\n",
      "!*                      Code generated with sympy 1.1.1                       *\n",
      "!*                                                                            *\n",
      "!*              See http://www.sympy.org/ for more information.               *\n",
      "!*                                                                            *\n",
      "!*                       This file is part of 'project'                       *\n",
      "!******************************************************************************\n",
      "\n",
      "subroutine my_function(x, y, out_7370388419947223374)\n",
      "implicit none\n",
      "REAL*8, intent(in) :: x\n",
      "REAL*8, intent(in) :: y\n",
      "REAL*8, intent(out), dimension(1:2, 1:2) :: out_7370388419947223374\n",
      "\n",
      "out_7370388419947223374(1, 1) = sin(3.14159265358979d0*x)**2*sin( &\n",
      "      3.14159265358979d0*y)**2 + 1\n",
      "out_7370388419947223374(2, 1) = 0\n",
      "out_7370388419947223374(1, 2) = 0\n",
      "out_7370388419947223374(2, 2) = sin(3.14159265358979d0*x)**2*sin( &\n",
      "      3.14159265358979d0*y)**2 + 1\n",
      "\n",
      "end subroutine\n",
      "\n"
     ]
    }
   ],
   "source": [
    "result = codegen(('my_function', D), 'f95', 'my_project')\n",
    "print (result[0][1])"
   ]
  }
 ],
 "metadata": {
  "anaconda-cloud": {},
  "kernelspec": {
   "display_name": "Python 3",
   "language": "python",
   "name": "python3"
  },
  "language_info": {
   "codemirror_mode": {
    "name": "ipython",
    "version": 3
   },
   "file_extension": ".py",
   "mimetype": "text/x-python",
   "name": "python",
   "nbconvert_exporter": "python",
   "pygments_lexer": "ipython3",
   "version": "3.6.5"
  }
 },
 "nbformat": 4,
 "nbformat_minor": 1
}
